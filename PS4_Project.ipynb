{
 "cells": [
  {
   "cell_type": "code",
   "execution_count": 1,
   "id": "2b2e6173",
   "metadata": {},
   "outputs": [],
   "source": [
    "import pandas as pd\n",
    "import numpy as np\n",
    "import matplotlib.pyplot as plt\n",
    "import seaborn as sns\n",
    "from scipy import stats\n",
    "from matplotlib import style\n",
    "%matplotlib inline \n",
    "\n",
    "import pymysql"
   ]
  },
  {
   "cell_type": "code",
   "execution_count": 2,
   "id": "d166d577",
   "metadata": {},
   "outputs": [],
   "source": [
    "conn=pymysql.connect(host='localhost',port=int(3306),user='root',passwd='1a_2b_3c_4d$',db='ps4')"
   ]
  },
  {
   "cell_type": "markdown",
   "id": "a372d774",
   "metadata": {},
   "source": [
    "# At first, Let's analyze the Data using \"SQL Analysis Tools\""
   ]
  },
  {
   "cell_type": "markdown",
   "id": "bd844d29",
   "metadata": {},
   "source": [
    "*As we can see, the data is about video games. So, we shall start by figuring out the best PS4 of all times considering:\n",
    "\n",
    "\"Genre, Year, Publisher, Sales Locally & Globally\""
   ]
  },
  {
   "cell_type": "code",
   "execution_count": 3,
   "id": "ff072a44",
   "metadata": {},
   "outputs": [
    {
     "data": {
      "text/html": [
       "<div>\n",
       "<style scoped>\n",
       "    .dataframe tbody tr th:only-of-type {\n",
       "        vertical-align: middle;\n",
       "    }\n",
       "\n",
       "    .dataframe tbody tr th {\n",
       "        vertical-align: top;\n",
       "    }\n",
       "\n",
       "    .dataframe thead th {\n",
       "        text-align: right;\n",
       "    }\n",
       "</style>\n",
       "<table border=\"1\" class=\"dataframe\">\n",
       "  <thead>\n",
       "    <tr style=\"text-align: right;\">\n",
       "      <th></th>\n",
       "      <th>Genre</th>\n",
       "      <th>Year</th>\n",
       "      <th>Publisher</th>\n",
       "      <th>GLOBAL</th>\n",
       "      <th>North America Rank</th>\n",
       "      <th>Europe Rank</th>\n",
       "      <th>Japan Rank</th>\n",
       "      <th>Rest of World Rank</th>\n",
       "      <th>Rank Globally</th>\n",
       "    </tr>\n",
       "  </thead>\n",
       "  <tbody>\n",
       "    <tr>\n",
       "      <th>0</th>\n",
       "      <td>Action</td>\n",
       "      <td>2014</td>\n",
       "      <td>Rockstar Games</td>\n",
       "      <td>19390000</td>\n",
       "      <td>2</td>\n",
       "      <td>1</td>\n",
       "      <td>4</td>\n",
       "      <td>1</td>\n",
       "      <td>1</td>\n",
       "    </tr>\n",
       "    <tr>\n",
       "      <th>1</th>\n",
       "      <td>Shooter</td>\n",
       "      <td>2015</td>\n",
       "      <td>Activision</td>\n",
       "      <td>15090000</td>\n",
       "      <td>1</td>\n",
       "      <td>6</td>\n",
       "      <td>10</td>\n",
       "      <td>2</td>\n",
       "      <td>2</td>\n",
       "    </tr>\n",
       "    <tr>\n",
       "      <th>2</th>\n",
       "      <td>Action-Adventure</td>\n",
       "      <td>2018</td>\n",
       "      <td>Rockstar Games</td>\n",
       "      <td>13940000</td>\n",
       "      <td>3</td>\n",
       "      <td>4</td>\n",
       "      <td>30</td>\n",
       "      <td>3</td>\n",
       "      <td>3</td>\n",
       "    </tr>\n",
       "    <tr>\n",
       "      <th>3</th>\n",
       "      <td>Shooter</td>\n",
       "      <td>2017</td>\n",
       "      <td>Activision</td>\n",
       "      <td>13400000</td>\n",
       "      <td>4</td>\n",
       "      <td>4</td>\n",
       "      <td>12</td>\n",
       "      <td>4</td>\n",
       "      <td>4</td>\n",
       "    </tr>\n",
       "    <tr>\n",
       "      <th>4</th>\n",
       "      <td>Sports</td>\n",
       "      <td>2017</td>\n",
       "      <td>EA Sports</td>\n",
       "      <td>11800000</td>\n",
       "      <td>36</td>\n",
       "      <td>2</td>\n",
       "      <td>51</td>\n",
       "      <td>5</td>\n",
       "      <td>5</td>\n",
       "    </tr>\n",
       "    <tr>\n",
       "      <th>5</th>\n",
       "      <td>Sports</td>\n",
       "      <td>2016</td>\n",
       "      <td>Electronic Arts</td>\n",
       "      <td>10940000</td>\n",
       "      <td>37</td>\n",
       "      <td>3</td>\n",
       "      <td>64</td>\n",
       "      <td>7</td>\n",
       "      <td>6</td>\n",
       "    </tr>\n",
       "    <tr>\n",
       "      <th>6</th>\n",
       "      <td>Action</td>\n",
       "      <td>2016</td>\n",
       "      <td>Sony Interactive Entertainment</td>\n",
       "      <td>10330000</td>\n",
       "      <td>5</td>\n",
       "      <td>10</td>\n",
       "      <td>30</td>\n",
       "      <td>6</td>\n",
       "      <td>7</td>\n",
       "    </tr>\n",
       "    <tr>\n",
       "      <th>7</th>\n",
       "      <td>Action-Adventure</td>\n",
       "      <td>2018</td>\n",
       "      <td>Sony Interactive Entertainment</td>\n",
       "      <td>8760000</td>\n",
       "      <td>6</td>\n",
       "      <td>13</td>\n",
       "      <td>17</td>\n",
       "      <td>8</td>\n",
       "      <td>8</td>\n",
       "    </tr>\n",
       "    <tr>\n",
       "      <th>8</th>\n",
       "      <td>Shooter</td>\n",
       "      <td>2016</td>\n",
       "      <td>Activision</td>\n",
       "      <td>8480000</td>\n",
       "      <td>8</td>\n",
       "      <td>11</td>\n",
       "      <td>35</td>\n",
       "      <td>9</td>\n",
       "      <td>9</td>\n",
       "    </tr>\n",
       "    <tr>\n",
       "      <th>9</th>\n",
       "      <td>Role-Playing</td>\n",
       "      <td>2015</td>\n",
       "      <td>Bethesda Softworks</td>\n",
       "      <td>8480000</td>\n",
       "      <td>9</td>\n",
       "      <td>9</td>\n",
       "      <td>23</td>\n",
       "      <td>10</td>\n",
       "      <td>9</td>\n",
       "    </tr>\n",
       "  </tbody>\n",
       "</table>\n",
       "</div>"
      ],
      "text/plain": [
       "              Genre  Year                       Publisher    GLOBAL  \\\n",
       "0            Action  2014                  Rockstar Games  19390000   \n",
       "1           Shooter  2015                      Activision  15090000   \n",
       "2  Action-Adventure  2018                  Rockstar Games  13940000   \n",
       "3           Shooter  2017                      Activision  13400000   \n",
       "4            Sports  2017                       EA Sports  11800000   \n",
       "5            Sports  2016                 Electronic Arts  10940000   \n",
       "6            Action  2016  Sony Interactive Entertainment  10330000   \n",
       "7  Action-Adventure  2018  Sony Interactive Entertainment   8760000   \n",
       "8           Shooter  2016                      Activision   8480000   \n",
       "9      Role-Playing  2015              Bethesda Softworks   8480000   \n",
       "\n",
       "   North America Rank   Europe Rank   Japan Rank   Rest of World Rank   \\\n",
       "0                    2             1            4                    1   \n",
       "1                    1             6           10                    2   \n",
       "2                    3             4           30                    3   \n",
       "3                    4             4           12                    4   \n",
       "4                   36             2           51                    5   \n",
       "5                   37             3           64                    7   \n",
       "6                    5            10           30                    6   \n",
       "7                    6            13           17                    8   \n",
       "8                    8            11           35                    9   \n",
       "9                    9             9           23                   10   \n",
       "\n",
       "   Rank Globally  \n",
       "0              1  \n",
       "1              2  \n",
       "2              3  \n",
       "3              4  \n",
       "4              5  \n",
       "5              6  \n",
       "6              7  \n",
       "7              8  \n",
       "8              9  \n",
       "9              9  "
      ]
     },
     "execution_count": 3,
     "metadata": {},
     "output_type": "execute_result"
    }
   ],
   "source": [
    "#/*-------------------Using Rank() Function-------------------*/\n",
    "\n",
    "Rank = pd.read_sql_query(\"\"\"select \n",
    "  Genre, \n",
    "  Year, \n",
    "  Publisher, \n",
    "  GLOBAL, \n",
    "  rank() over(\n",
    "    order by \n",
    "      `North America` DESC\n",
    "  ) AS `North America Rank `, \n",
    "  rank() over(\n",
    "    order by \n",
    "      Europe DESC\n",
    "  ) AS `Europe Rank `, \n",
    "  rank() over(\n",
    "    order by \n",
    "      Japan DESC\n",
    "  ) AS `Japan Rank `, \n",
    "  rank() over(\n",
    "    order by \n",
    "      `Rest of World` DESC\n",
    "  ) AS `Rest of World Rank `, \n",
    "  rank() over(\n",
    "    order by \n",
    "      Global DESC\n",
    "  ) AS `Rank Globally` \n",
    "from \n",
    "  ps4\"\"\",conn)\n",
    "\n",
    "Rank.head(10)"
   ]
  },
  {
   "cell_type": "markdown",
   "id": "08a686e8",
   "metadata": {},
   "source": [
    "**It's clear after analyzing through using Rank() function**\n",
    "\n",
    "1- That Year :2014 earned the first rank both global, in Europe, and also in the rest of the world.\n",
    "\n",
    "2- It's also clear that the year following it: 2015, North America been ranked first among all, and is considered also to come    in the second place Globally.\n",
    "\n",
    "3- Another finding is that: PS4 has been becoming popular specially Globally, followed by the rest of the world, then in North    America, ending with Japan over the past years.\n",
    "\n",
    "4- The most popular genres to invest in are: \"Action, shooter, Action-Adventure, Sports\" consequitively.\n",
    "\n",
    "5- Best Performing Publishers are: \"Rockstar Games, Activision, EA sports\" consequitively."
   ]
  },
  {
   "cell_type": "code",
   "execution_count": 4,
   "id": "e2419ce2",
   "metadata": {},
   "outputs": [
    {
     "data": {
      "text/html": [
       "<div>\n",
       "<style scoped>\n",
       "    .dataframe tbody tr th:only-of-type {\n",
       "        vertical-align: middle;\n",
       "    }\n",
       "\n",
       "    .dataframe tbody tr th {\n",
       "        vertical-align: top;\n",
       "    }\n",
       "\n",
       "    .dataframe thead th {\n",
       "        text-align: right;\n",
       "    }\n",
       "</style>\n",
       "<table border=\"1\" class=\"dataframe\">\n",
       "  <thead>\n",
       "    <tr style=\"text-align: right;\">\n",
       "      <th></th>\n",
       "      <th>year</th>\n",
       "      <th>Global %</th>\n",
       "      <th>North America %</th>\n",
       "      <th>Japan %</th>\n",
       "      <th>Europe %</th>\n",
       "      <th>Rest of World %</th>\n",
       "    </tr>\n",
       "  </thead>\n",
       "  <tbody>\n",
       "    <tr>\n",
       "      <th>0</th>\n",
       "      <td>2013</td>\n",
       "      <td>16.5 %</td>\n",
       "      <td>21.1 %</td>\n",
       "      <td>5.2 %</td>\n",
       "      <td>13.8 %</td>\n",
       "      <td>17 %</td>\n",
       "    </tr>\n",
       "    <tr>\n",
       "      <th>1</th>\n",
       "      <td>2014</td>\n",
       "      <td>19.0 %</td>\n",
       "      <td>18.0 %</td>\n",
       "      <td>18.5 %</td>\n",
       "      <td>19.8 %</td>\n",
       "      <td>19 %</td>\n",
       "    </tr>\n",
       "    <tr>\n",
       "      <th>2</th>\n",
       "      <td>2015</td>\n",
       "      <td>14.0 %</td>\n",
       "      <td>16.4 %</td>\n",
       "      <td>7.1 %</td>\n",
       "      <td>12.8 %</td>\n",
       "      <td>15 %</td>\n",
       "    </tr>\n",
       "    <tr>\n",
       "      <th>3</th>\n",
       "      <td>2016</td>\n",
       "      <td>9.8 %</td>\n",
       "      <td>3.4 %</td>\n",
       "      <td>1.6 %</td>\n",
       "      <td>15.7 %</td>\n",
       "      <td>9 %</td>\n",
       "    </tr>\n",
       "    <tr>\n",
       "      <th>4</th>\n",
       "      <td>2017</td>\n",
       "      <td>13.1 %</td>\n",
       "      <td>14.7 %</td>\n",
       "      <td>5.6 %</td>\n",
       "      <td>13.0 %</td>\n",
       "      <td>14 %</td>\n",
       "    </tr>\n",
       "  </tbody>\n",
       "</table>\n",
       "</div>"
      ],
      "text/plain": [
       "   year Global % North America % Japan % Europe % Rest of World %\n",
       "0  2013   16.5 %          21.1 %   5.2 %   13.8 %            17 %\n",
       "1  2014   19.0 %          18.0 %  18.5 %   19.8 %            19 %\n",
       "2  2015   14.0 %          16.4 %   7.1 %   12.8 %            15 %\n",
       "3  2016    9.8 %           3.4 %   1.6 %   15.7 %             9 %\n",
       "4  2017   13.1 %          14.7 %   5.6 %   13.0 %            14 %"
      ]
     },
     "execution_count": 4,
     "metadata": {},
     "output_type": "execute_result"
    }
   ],
   "source": [
    "#/*------------------------Evaluating Percent Profit of each Region Per Year--------------------*/\n",
    "\n",
    "\n",
    "Percent_Rank = pd.read_sql_query(\"\"\"select \n",
    "  year, \n",
    "  concat(\n",
    "    round(\n",
    "      100 * sum(global) over(partition by year)/ sum(global), \n",
    "      1\n",
    "    ), \n",
    "    ' %'\n",
    "  ) as `Global %`, \n",
    "  concat(\n",
    "    round(\n",
    "      100 * sum(`North America`) over(partition by year)/ sum(`North America`), \n",
    "      1\n",
    "    ), \n",
    "    ' %'\n",
    "  ) as `North America %`, \n",
    "  concat(\n",
    "    round(\n",
    "      100 * sum(Japan) over(partition by year)/ sum(Japan), \n",
    "      1\n",
    "    ), \n",
    "    ' %'\n",
    "  ) as `Japan %`, \n",
    "  concat(\n",
    "    round(\n",
    "      100 * sum(Europe) over(partition by year)/ sum(Europe), \n",
    "      1\n",
    "    ), \n",
    "    ' %'\n",
    "  ) as `Europe %`, \n",
    "  concat(\n",
    "    round(\n",
    "      100 * sum(`Rest of World`) over(partition by year)/ sum(`Rest of World`), \n",
    "      0\n",
    "    ), \n",
    "    ' %'\n",
    "  ) as `Rest of World %` \n",
    "from \n",
    "  ps4 \n",
    "group by \n",
    "  year\n",
    "\"\"\",conn)\n",
    "Percent_Rank.head()"
   ]
  },
  {
   "cell_type": "markdown",
   "id": "b74d3d09",
   "metadata": {},
   "source": [
    "*=> It's cleat that 2018 witnessed a spike in Europe, Global and North America share consequitively*"
   ]
  },
  {
   "cell_type": "code",
   "execution_count": 5,
   "id": "307fdf15",
   "metadata": {},
   "outputs": [
    {
     "data": {
      "text/html": [
       "<div>\n",
       "<style scoped>\n",
       "    .dataframe tbody tr th:only-of-type {\n",
       "        vertical-align: middle;\n",
       "    }\n",
       "\n",
       "    .dataframe tbody tr th {\n",
       "        vertical-align: top;\n",
       "    }\n",
       "\n",
       "    .dataframe thead th {\n",
       "        text-align: right;\n",
       "    }\n",
       "</style>\n",
       "<table border=\"1\" class=\"dataframe\">\n",
       "  <thead>\n",
       "    <tr style=\"text-align: right;\">\n",
       "      <th></th>\n",
       "      <th>Year</th>\n",
       "      <th>Global Sales</th>\n",
       "    </tr>\n",
       "  </thead>\n",
       "  <tbody>\n",
       "    <tr>\n",
       "      <th>0</th>\n",
       "      <td>2016</td>\n",
       "      <td>111880000.0</td>\n",
       "    </tr>\n",
       "    <tr>\n",
       "      <th>1</th>\n",
       "      <td>2015</td>\n",
       "      <td>107490000.0</td>\n",
       "    </tr>\n",
       "    <tr>\n",
       "      <th>2</th>\n",
       "      <td>2017</td>\n",
       "      <td>101920000.0</td>\n",
       "    </tr>\n",
       "    <tr>\n",
       "      <th>3</th>\n",
       "      <td>2014</td>\n",
       "      <td>101900000.0</td>\n",
       "    </tr>\n",
       "    <tr>\n",
       "      <th>4</th>\n",
       "      <td>2018</td>\n",
       "      <td>46780000.0</td>\n",
       "    </tr>\n",
       "  </tbody>\n",
       "</table>\n",
       "</div>"
      ],
      "text/plain": [
       "   Year  Global Sales\n",
       "0  2016   111880000.0\n",
       "1  2015   107490000.0\n",
       "2  2017   101920000.0\n",
       "3  2014   101900000.0\n",
       "4  2018    46780000.0"
      ]
     },
     "execution_count": 5,
     "metadata": {},
     "output_type": "execute_result"
    }
   ],
   "source": [
    "#/*-----------------Analyze performance by Year Globally------------------*/\n",
    "\n",
    "Global_Yearly = pd.read_sql_query(\"\"\"SELECT \n",
    "    Year, SUM(global) AS `Global Sales`\n",
    "FROM\n",
    "    ps4\n",
    "GROUP BY Year\n",
    "ORDER BY 2 DESC\n",
    "\"\"\", conn)\n",
    "Global_Yearly.head()"
   ]
  },
  {
   "cell_type": "markdown",
   "id": "6bc60bfb",
   "metadata": {},
   "source": [
    "=> It's clear that, 2015 & 2016 have witnessed a spike in sales globally"
   ]
  },
  {
   "cell_type": "code",
   "execution_count": 6,
   "id": "23821ceb",
   "metadata": {},
   "outputs": [
    {
     "data": {
      "text/html": [
       "<div>\n",
       "<style scoped>\n",
       "    .dataframe tbody tr th:only-of-type {\n",
       "        vertical-align: middle;\n",
       "    }\n",
       "\n",
       "    .dataframe tbody tr th {\n",
       "        vertical-align: top;\n",
       "    }\n",
       "\n",
       "    .dataframe thead th {\n",
       "        text-align: right;\n",
       "    }\n",
       "</style>\n",
       "<table border=\"1\" class=\"dataframe\">\n",
       "  <thead>\n",
       "    <tr style=\"text-align: right;\">\n",
       "      <th></th>\n",
       "      <th>Genre</th>\n",
       "      <th>Global Sales</th>\n",
       "    </tr>\n",
       "  </thead>\n",
       "  <tbody>\n",
       "    <tr>\n",
       "      <th>0</th>\n",
       "      <td>Shooter</td>\n",
       "      <td>128570000.0</td>\n",
       "    </tr>\n",
       "    <tr>\n",
       "      <th>1</th>\n",
       "      <td>Action</td>\n",
       "      <td>120170000.0</td>\n",
       "    </tr>\n",
       "    <tr>\n",
       "      <th>2</th>\n",
       "      <td>Sports</td>\n",
       "      <td>61200000.0</td>\n",
       "    </tr>\n",
       "    <tr>\n",
       "      <th>3</th>\n",
       "      <td>Action-Adventure</td>\n",
       "      <td>58820000.0</td>\n",
       "    </tr>\n",
       "    <tr>\n",
       "      <th>4</th>\n",
       "      <td>Role-Playing</td>\n",
       "      <td>55210000.0</td>\n",
       "    </tr>\n",
       "  </tbody>\n",
       "</table>\n",
       "</div>"
      ],
      "text/plain": [
       "              Genre  Global Sales\n",
       "0           Shooter   128570000.0\n",
       "1            Action   120170000.0\n",
       "2            Sports    61200000.0\n",
       "3  Action-Adventure    58820000.0\n",
       "4      Role-Playing    55210000.0"
      ]
     },
     "execution_count": 6,
     "metadata": {},
     "output_type": "execute_result"
    }
   ],
   "source": [
    "#/*---------------Analyzing by Genre Globally-------------*/\n",
    "\n",
    "Global_Genre = pd.read_sql_query(\"\"\"SELECT \n",
    "    Genre, SUM(global) AS `Global Sales`\n",
    "FROM\n",
    "    ps4\n",
    "GROUP BY Genre\n",
    "ORDER BY 2 DESC\"\"\",conn)\n",
    "Global_Genre.head()"
   ]
  },
  {
   "cell_type": "markdown",
   "id": "13b76729",
   "metadata": {},
   "source": [
    "=> It's obvious that: Shooter, Action, Sports, Action-Adventure, and Role-Playing consequitively have high popularity over the globe"
   ]
  },
  {
   "cell_type": "code",
   "execution_count": 7,
   "id": "8de0ee0c",
   "metadata": {},
   "outputs": [
    {
     "data": {
      "text/html": [
       "<div>\n",
       "<style scoped>\n",
       "    .dataframe tbody tr th:only-of-type {\n",
       "        vertical-align: middle;\n",
       "    }\n",
       "\n",
       "    .dataframe tbody tr th {\n",
       "        vertical-align: top;\n",
       "    }\n",
       "\n",
       "    .dataframe thead th {\n",
       "        text-align: right;\n",
       "    }\n",
       "</style>\n",
       "<table border=\"1\" class=\"dataframe\">\n",
       "  <thead>\n",
       "    <tr style=\"text-align: right;\">\n",
       "      <th></th>\n",
       "      <th>Publisher</th>\n",
       "      <th>Publisher Global Sales</th>\n",
       "    </tr>\n",
       "  </thead>\n",
       "  <tbody>\n",
       "    <tr>\n",
       "      <th>0</th>\n",
       "      <td>Activision</td>\n",
       "      <td>128570000.0</td>\n",
       "    </tr>\n",
       "    <tr>\n",
       "      <th>1</th>\n",
       "      <td>Rockstar Games</td>\n",
       "      <td>120170000.0</td>\n",
       "    </tr>\n",
       "    <tr>\n",
       "      <th>2</th>\n",
       "      <td>EA Sports</td>\n",
       "      <td>61200000.0</td>\n",
       "    </tr>\n",
       "    <tr>\n",
       "      <th>3</th>\n",
       "      <td>Rockstar Games</td>\n",
       "      <td>58820000.0</td>\n",
       "    </tr>\n",
       "    <tr>\n",
       "      <th>4</th>\n",
       "      <td>Bethesda Softworks</td>\n",
       "      <td>55210000.0</td>\n",
       "    </tr>\n",
       "  </tbody>\n",
       "</table>\n",
       "</div>"
      ],
      "text/plain": [
       "            Publisher  Publisher Global Sales\n",
       "0          Activision             128570000.0\n",
       "1      Rockstar Games             120170000.0\n",
       "2           EA Sports              61200000.0\n",
       "3      Rockstar Games              58820000.0\n",
       "4  Bethesda Softworks              55210000.0"
      ]
     },
     "execution_count": 7,
     "metadata": {},
     "output_type": "execute_result"
    }
   ],
   "source": [
    "#/*---------------Analyzing by Publisher Globally-------------*/\n",
    "\n",
    "Publisher_Globally =pd.read_sql_query(\"\"\"SELECT \n",
    "    Publisher, SUM(global) AS ` Publisher Global Sales`\n",
    "FROM\n",
    "    ps4\n",
    "GROUP BY Genre\n",
    "ORDER BY 2 DESC\"\"\", conn)\n",
    "Publisher_Globally.head()"
   ]
  },
  {
   "cell_type": "markdown",
   "id": "710862cd",
   "metadata": {},
   "source": [
    "=> It's clear that: Activision, Rockstar Games and EA sports consequitively are the best selling publishers over the globe"
   ]
  },
  {
   "cell_type": "code",
   "execution_count": 8,
   "id": "700ee5fc",
   "metadata": {},
   "outputs": [
    {
     "data": {
      "text/html": [
       "<div>\n",
       "<style scoped>\n",
       "    .dataframe tbody tr th:only-of-type {\n",
       "        vertical-align: middle;\n",
       "    }\n",
       "\n",
       "    .dataframe tbody tr th {\n",
       "        vertical-align: top;\n",
       "    }\n",
       "\n",
       "    .dataframe thead th {\n",
       "        text-align: right;\n",
       "    }\n",
       "</style>\n",
       "<table border=\"1\" class=\"dataframe\">\n",
       "  <thead>\n",
       "    <tr style=\"text-align: right;\">\n",
       "      <th></th>\n",
       "      <th>Game</th>\n",
       "      <th>Games Global Sales</th>\n",
       "    </tr>\n",
       "  </thead>\n",
       "  <tbody>\n",
       "    <tr>\n",
       "      <th>0</th>\n",
       "      <td>Grand Theft Auto V</td>\n",
       "      <td>19390000.0</td>\n",
       "    </tr>\n",
       "    <tr>\n",
       "      <th>1</th>\n",
       "      <td>Call of Duty: Black Ops 3</td>\n",
       "      <td>15090000.0</td>\n",
       "    </tr>\n",
       "    <tr>\n",
       "      <th>2</th>\n",
       "      <td>Red Dead Redemption 2</td>\n",
       "      <td>13940000.0</td>\n",
       "    </tr>\n",
       "    <tr>\n",
       "      <th>3</th>\n",
       "      <td>Call of Duty: WWII</td>\n",
       "      <td>13400000.0</td>\n",
       "    </tr>\n",
       "    <tr>\n",
       "      <th>4</th>\n",
       "      <td>FIFA 18</td>\n",
       "      <td>11800000.0</td>\n",
       "    </tr>\n",
       "  </tbody>\n",
       "</table>\n",
       "</div>"
      ],
      "text/plain": [
       "                        Game  Games Global Sales\n",
       "0         Grand Theft Auto V          19390000.0\n",
       "1  Call of Duty: Black Ops 3          15090000.0\n",
       "2      Red Dead Redemption 2          13940000.0\n",
       "3         Call of Duty: WWII          13400000.0\n",
       "4                    FIFA 18          11800000.0"
      ]
     },
     "execution_count": 8,
     "metadata": {},
     "output_type": "execute_result"
    }
   ],
   "source": [
    "#/*---------------Analyzing by Games Globally-------------*/\n",
    "\n",
    "Games_Global = pd.read_sql_query(\"\"\"SELECT \n",
    "    Game, SUM(global) AS `Games Global Sales`\n",
    "FROM\n",
    "    ps4\n",
    "GROUP BY Game\n",
    "ORDER BY 2 DESC\"\"\", conn)\n",
    "Games_Global.head()"
   ]
  },
  {
   "cell_type": "markdown",
   "id": "61a8ed4d",
   "metadata": {},
   "source": [
    "=> It's clear that the best selling games all time globally are: Grand Theft Auto V, Call of Duty: Black Ops 3, Red Dead Redemption 2 cosequitively."
   ]
  },
  {
   "cell_type": "markdown",
   "id": "d426e557",
   "metadata": {},
   "source": [
    "**After having a brief overview about our data using \"SQL Analysis tools\", let's dive more deeply in analysis and visualizations using Python**"
   ]
  },
  {
   "cell_type": "code",
   "execution_count": 9,
   "id": "7129b447",
   "metadata": {},
   "outputs": [],
   "source": [
    "#Read data using pandas\n",
    "\n",
    "ps4 = pd.read_csv('ps4.csv')"
   ]
  },
  {
   "cell_type": "code",
   "execution_count": 10,
   "id": "cd88f768",
   "metadata": {},
   "outputs": [
    {
     "data": {
      "text/html": [
       "<div>\n",
       "<style scoped>\n",
       "    .dataframe tbody tr th:only-of-type {\n",
       "        vertical-align: middle;\n",
       "    }\n",
       "\n",
       "    .dataframe tbody tr th {\n",
       "        vertical-align: top;\n",
       "    }\n",
       "\n",
       "    .dataframe thead th {\n",
       "        text-align: right;\n",
       "    }\n",
       "</style>\n",
       "<table border=\"1\" class=\"dataframe\">\n",
       "  <thead>\n",
       "    <tr style=\"text-align: right;\">\n",
       "      <th></th>\n",
       "      <th>Game</th>\n",
       "      <th>Year</th>\n",
       "      <th>Genre</th>\n",
       "      <th>Publisher</th>\n",
       "      <th>North America</th>\n",
       "      <th>Europe</th>\n",
       "      <th>Japan</th>\n",
       "      <th>Rest of World</th>\n",
       "      <th>Global</th>\n",
       "    </tr>\n",
       "  </thead>\n",
       "  <tbody>\n",
       "    <tr>\n",
       "      <th>0</th>\n",
       "      <td>Grand Theft Auto V</td>\n",
       "      <td>2014</td>\n",
       "      <td>Action</td>\n",
       "      <td>Rockstar Games</td>\n",
       "      <td>6060000</td>\n",
       "      <td>9710000</td>\n",
       "      <td>600000</td>\n",
       "      <td>3020000</td>\n",
       "      <td>19390000</td>\n",
       "    </tr>\n",
       "    <tr>\n",
       "      <th>1</th>\n",
       "      <td>Call of Duty: Black Ops 3</td>\n",
       "      <td>2015</td>\n",
       "      <td>Shooter</td>\n",
       "      <td>Activision</td>\n",
       "      <td>6180000</td>\n",
       "      <td>6050000</td>\n",
       "      <td>410000</td>\n",
       "      <td>2440000</td>\n",
       "      <td>15090000</td>\n",
       "    </tr>\n",
       "    <tr>\n",
       "      <th>2</th>\n",
       "      <td>Red Dead Redemption 2</td>\n",
       "      <td>2018</td>\n",
       "      <td>Action-Adventure</td>\n",
       "      <td>Rockstar Games</td>\n",
       "      <td>5260000</td>\n",
       "      <td>6210000</td>\n",
       "      <td>210000</td>\n",
       "      <td>2260000</td>\n",
       "      <td>13940000</td>\n",
       "    </tr>\n",
       "    <tr>\n",
       "      <th>3</th>\n",
       "      <td>Call of Duty: WWII</td>\n",
       "      <td>2017</td>\n",
       "      <td>Shooter</td>\n",
       "      <td>Activision</td>\n",
       "      <td>4670000</td>\n",
       "      <td>6210000</td>\n",
       "      <td>400000</td>\n",
       "      <td>2120000</td>\n",
       "      <td>13400000</td>\n",
       "    </tr>\n",
       "    <tr>\n",
       "      <th>4</th>\n",
       "      <td>FIFA 18</td>\n",
       "      <td>2017</td>\n",
       "      <td>Sports</td>\n",
       "      <td>EA Sports</td>\n",
       "      <td>1270000</td>\n",
       "      <td>8640000</td>\n",
       "      <td>150000</td>\n",
       "      <td>1730000</td>\n",
       "      <td>11800000</td>\n",
       "    </tr>\n",
       "  </tbody>\n",
       "</table>\n",
       "</div>"
      ],
      "text/plain": [
       "                        Game  Year             Genre       Publisher  \\\n",
       "0         Grand Theft Auto V  2014            Action  Rockstar Games   \n",
       "1  Call of Duty: Black Ops 3  2015           Shooter      Activision   \n",
       "2      Red Dead Redemption 2  2018  Action-Adventure  Rockstar Games   \n",
       "3         Call of Duty: WWII  2017           Shooter      Activision   \n",
       "4                    FIFA 18  2017            Sports       EA Sports   \n",
       "\n",
       "   North America   Europe   Japan  Rest of World    Global  \n",
       "0        6060000  9710000  600000        3020000  19390000  \n",
       "1        6180000  6050000  410000        2440000  15090000  \n",
       "2        5260000  6210000  210000        2260000  13940000  \n",
       "3        4670000  6210000  400000        2120000  13400000  \n",
       "4        1270000  8640000  150000        1730000  11800000  "
      ]
     },
     "execution_count": 10,
     "metadata": {},
     "output_type": "execute_result"
    }
   ],
   "source": [
    "ps4.head()"
   ]
  },
  {
   "cell_type": "code",
   "execution_count": 11,
   "id": "6814fdb0",
   "metadata": {},
   "outputs": [
    {
     "data": {
      "text/plain": [
       "Game             252\n",
       "Year             252\n",
       "Genre            252\n",
       "Publisher        252\n",
       "North America    252\n",
       "Europe           252\n",
       "Japan            252\n",
       "Rest of World    252\n",
       "Global           252\n",
       "dtype: int64"
      ]
     },
     "execution_count": 11,
     "metadata": {},
     "output_type": "execute_result"
    }
   ],
   "source": [
    "#checking number of rows\n",
    "ps4.count()"
   ]
  },
  {
   "cell_type": "code",
   "execution_count": 12,
   "id": "46c3b328",
   "metadata": {},
   "outputs": [
    {
     "data": {
      "text/plain": [
       "Game             object\n",
       "Year              int64\n",
       "Genre            object\n",
       "Publisher        object\n",
       "North America     int64\n",
       "Europe            int64\n",
       "Japan             int64\n",
       "Rest of World     int64\n",
       "Global            int64\n",
       "dtype: object"
      ]
     },
     "execution_count": 12,
     "metadata": {},
     "output_type": "execute_result"
    }
   ],
   "source": [
    "#checking data types\n",
    "ps4.dtypes"
   ]
  },
  {
   "cell_type": "markdown",
   "id": "5ccb953c",
   "metadata": {},
   "source": [
    "*=> Data types seems to be just fine*"
   ]
  },
  {
   "cell_type": "code",
   "execution_count": 13,
   "id": "7cf8b392",
   "metadata": {},
   "outputs": [
    {
     "data": {
      "text/plain": [
       "Game             0\n",
       "Year             0\n",
       "Genre            0\n",
       "Publisher        0\n",
       "North America    0\n",
       "Europe           0\n",
       "Japan            0\n",
       "Rest of World    0\n",
       "Global           0\n",
       "dtype: int64"
      ]
     },
     "execution_count": 13,
     "metadata": {},
     "output_type": "execute_result"
    }
   ],
   "source": [
    "#checking for null values\n",
    "ps4.isnull().sum()"
   ]
  },
  {
   "cell_type": "markdown",
   "id": "713e6260",
   "metadata": {},
   "source": [
    "*=> No null values. Thus, the data is reliable*"
   ]
  },
  {
   "cell_type": "code",
   "execution_count": 14,
   "id": "38385985",
   "metadata": {},
   "outputs": [
    {
     "name": "stdout",
     "output_type": "stream",
     "text": [
      "<class 'pandas.core.frame.DataFrame'>\n",
      "RangeIndex: 252 entries, 0 to 251\n",
      "Data columns (total 9 columns):\n",
      " #   Column         Non-Null Count  Dtype \n",
      "---  ------         --------------  ----- \n",
      " 0   Game           252 non-null    object\n",
      " 1   Year           252 non-null    int64 \n",
      " 2   Genre          252 non-null    object\n",
      " 3   Publisher      252 non-null    object\n",
      " 4   North America  252 non-null    int64 \n",
      " 5   Europe         252 non-null    int64 \n",
      " 6   Japan          252 non-null    int64 \n",
      " 7   Rest of World  252 non-null    int64 \n",
      " 8   Global         252 non-null    int64 \n",
      "dtypes: int64(6), object(3)\n",
      "memory usage: 17.8+ KB\n"
     ]
    }
   ],
   "source": [
    "ps4.info()"
   ]
  },
  {
   "cell_type": "code",
   "execution_count": 15,
   "id": "7b8cc521",
   "metadata": {},
   "outputs": [
    {
     "data": {
      "text/html": [
       "<div>\n",
       "<style scoped>\n",
       "    .dataframe tbody tr th:only-of-type {\n",
       "        vertical-align: middle;\n",
       "    }\n",
       "\n",
       "    .dataframe tbody tr th {\n",
       "        vertical-align: top;\n",
       "    }\n",
       "\n",
       "    .dataframe thead th {\n",
       "        text-align: right;\n",
       "    }\n",
       "</style>\n",
       "<table border=\"1\" class=\"dataframe\">\n",
       "  <thead>\n",
       "    <tr style=\"text-align: right;\">\n",
       "      <th></th>\n",
       "      <th>Year</th>\n",
       "      <th>North America</th>\n",
       "      <th>Europe</th>\n",
       "      <th>Japan</th>\n",
       "      <th>Rest of World</th>\n",
       "      <th>Global</th>\n",
       "    </tr>\n",
       "  </thead>\n",
       "  <tbody>\n",
       "    <tr>\n",
       "      <th>count</th>\n",
       "      <td>252.000000</td>\n",
       "      <td>2.520000e+02</td>\n",
       "      <td>2.520000e+02</td>\n",
       "      <td>2.520000e+02</td>\n",
       "      <td>2.520000e+02</td>\n",
       "      <td>2.520000e+02</td>\n",
       "    </tr>\n",
       "    <tr>\n",
       "      <th>mean</th>\n",
       "      <td>2015.757937</td>\n",
       "      <td>6.581746e+05</td>\n",
       "      <td>8.917857e+05</td>\n",
       "      <td>1.137698e+05</td>\n",
       "      <td>3.013889e+05</td>\n",
       "      <td>1.965159e+06</td>\n",
       "    </tr>\n",
       "    <tr>\n",
       "      <th>std</th>\n",
       "      <td>1.312268</td>\n",
       "      <td>9.583310e+05</td>\n",
       "      <td>1.393080e+06</td>\n",
       "      <td>1.952822e+05</td>\n",
       "      <td>4.304395e+05</td>\n",
       "      <td>2.720332e+06</td>\n",
       "    </tr>\n",
       "    <tr>\n",
       "      <th>min</th>\n",
       "      <td>2013.000000</td>\n",
       "      <td>2.000000e+04</td>\n",
       "      <td>1.000000e+04</td>\n",
       "      <td>1.000000e+04</td>\n",
       "      <td>1.000000e+04</td>\n",
       "      <td>7.000000e+04</td>\n",
       "    </tr>\n",
       "    <tr>\n",
       "      <th>25%</th>\n",
       "      <td>2015.000000</td>\n",
       "      <td>1.100000e+05</td>\n",
       "      <td>1.200000e+05</td>\n",
       "      <td>3.000000e+04</td>\n",
       "      <td>5.000000e+04</td>\n",
       "      <td>3.600000e+05</td>\n",
       "    </tr>\n",
       "    <tr>\n",
       "      <th>50%</th>\n",
       "      <td>2016.000000</td>\n",
       "      <td>2.900000e+05</td>\n",
       "      <td>4.100000e+05</td>\n",
       "      <td>6.000000e+04</td>\n",
       "      <td>1.300000e+05</td>\n",
       "      <td>8.750000e+05</td>\n",
       "    </tr>\n",
       "    <tr>\n",
       "      <th>75%</th>\n",
       "      <td>2017.000000</td>\n",
       "      <td>7.900000e+05</td>\n",
       "      <td>1.040000e+06</td>\n",
       "      <td>1.225000e+05</td>\n",
       "      <td>3.725000e+05</td>\n",
       "      <td>2.372500e+06</td>\n",
       "    </tr>\n",
       "    <tr>\n",
       "      <th>max</th>\n",
       "      <td>2018.000000</td>\n",
       "      <td>6.180000e+06</td>\n",
       "      <td>9.710000e+06</td>\n",
       "      <td>2.170000e+06</td>\n",
       "      <td>3.020000e+06</td>\n",
       "      <td>1.939000e+07</td>\n",
       "    </tr>\n",
       "  </tbody>\n",
       "</table>\n",
       "</div>"
      ],
      "text/plain": [
       "              Year  North America        Europe         Japan  Rest of World  \\\n",
       "count   252.000000   2.520000e+02  2.520000e+02  2.520000e+02   2.520000e+02   \n",
       "mean   2015.757937   6.581746e+05  8.917857e+05  1.137698e+05   3.013889e+05   \n",
       "std       1.312268   9.583310e+05  1.393080e+06  1.952822e+05   4.304395e+05   \n",
       "min    2013.000000   2.000000e+04  1.000000e+04  1.000000e+04   1.000000e+04   \n",
       "25%    2015.000000   1.100000e+05  1.200000e+05  3.000000e+04   5.000000e+04   \n",
       "50%    2016.000000   2.900000e+05  4.100000e+05  6.000000e+04   1.300000e+05   \n",
       "75%    2017.000000   7.900000e+05  1.040000e+06  1.225000e+05   3.725000e+05   \n",
       "max    2018.000000   6.180000e+06  9.710000e+06  2.170000e+06   3.020000e+06   \n",
       "\n",
       "             Global  \n",
       "count  2.520000e+02  \n",
       "mean   1.965159e+06  \n",
       "std    2.720332e+06  \n",
       "min    7.000000e+04  \n",
       "25%    3.600000e+05  \n",
       "50%    8.750000e+05  \n",
       "75%    2.372500e+06  \n",
       "max    1.939000e+07  "
      ]
     },
     "execution_count": 15,
     "metadata": {},
     "output_type": "execute_result"
    }
   ],
   "source": [
    "ps4.describe()"
   ]
  },
  {
   "cell_type": "markdown",
   "id": "7667c172",
   "metadata": {},
   "source": [
    "*=> It's clear that the std \"Standard deviation\" around the mean is very high especially for North America. This indicates high variability in data. Thus, the data can not called to be reliable except when checking for outliers (very high or low values) and removing then*"
   ]
  },
  {
   "cell_type": "code",
   "execution_count": 16,
   "id": "b37b15c8",
   "metadata": {},
   "outputs": [
    {
     "data": {
      "text/plain": [
       "<AxesSubplot:title={'center':'Evaluating Outliers'}>"
      ]
     },
     "execution_count": 16,
     "metadata": {},
     "output_type": "execute_result"
    },
    {
     "data": {
      "image/png": "[encoded data removed]",
      "text/plain": [
       "<Figure size 720x432 with 1 Axes>"
      ]
     },
     "metadata": {
      "needs_background": "light"
     },
     "output_type": "display_data"
    }
   ],
   "source": [
    "#Visualizing outliers using a boxplot\n",
    "plt.figure(figsize=(10,6))\n",
    "plt.title('Evaluating Outliers')\n",
    "plt.style.use('ggplot')\n",
    "ps4.boxplot()"
   ]
  },
  {
   "cell_type": "code",
   "execution_count": 17,
   "id": "be0c33dd",
   "metadata": {},
   "outputs": [
    {
     "data": {
      "text/html": [
       "<div>\n",
       "<style scoped>\n",
       "    .dataframe tbody tr th:only-of-type {\n",
       "        vertical-align: middle;\n",
       "    }\n",
       "\n",
       "    .dataframe tbody tr th {\n",
       "        vertical-align: top;\n",
       "    }\n",
       "\n",
       "    .dataframe thead th {\n",
       "        text-align: right;\n",
       "    }\n",
       "</style>\n",
       "<table border=\"1\" class=\"dataframe\">\n",
       "  <thead>\n",
       "    <tr style=\"text-align: right;\">\n",
       "      <th></th>\n",
       "      <th>Year</th>\n",
       "      <th>North America</th>\n",
       "      <th>Europe</th>\n",
       "      <th>Japan</th>\n",
       "      <th>Rest of World</th>\n",
       "      <th>Global</th>\n",
       "    </tr>\n",
       "  </thead>\n",
       "  <tbody>\n",
       "    <tr>\n",
       "      <th>0.00</th>\n",
       "      <td>2013.0</td>\n",
       "      <td>20000.0</td>\n",
       "      <td>10000.0</td>\n",
       "      <td>10000.0</td>\n",
       "      <td>10000.0</td>\n",
       "      <td>70000.0</td>\n",
       "    </tr>\n",
       "    <tr>\n",
       "      <th>0.25</th>\n",
       "      <td>2015.0</td>\n",
       "      <td>110000.0</td>\n",
       "      <td>120000.0</td>\n",
       "      <td>30000.0</td>\n",
       "      <td>50000.0</td>\n",
       "      <td>360000.0</td>\n",
       "    </tr>\n",
       "    <tr>\n",
       "      <th>0.50</th>\n",
       "      <td>2016.0</td>\n",
       "      <td>290000.0</td>\n",
       "      <td>410000.0</td>\n",
       "      <td>60000.0</td>\n",
       "      <td>130000.0</td>\n",
       "      <td>875000.0</td>\n",
       "    </tr>\n",
       "    <tr>\n",
       "      <th>0.75</th>\n",
       "      <td>2017.0</td>\n",
       "      <td>790000.0</td>\n",
       "      <td>1040000.0</td>\n",
       "      <td>122500.0</td>\n",
       "      <td>372500.0</td>\n",
       "      <td>2372500.0</td>\n",
       "    </tr>\n",
       "    <tr>\n",
       "      <th>1.00</th>\n",
       "      <td>2018.0</td>\n",
       "      <td>6180000.0</td>\n",
       "      <td>9710000.0</td>\n",
       "      <td>2170000.0</td>\n",
       "      <td>3020000.0</td>\n",
       "      <td>19390000.0</td>\n",
       "    </tr>\n",
       "  </tbody>\n",
       "</table>\n",
       "</div>"
      ],
      "text/plain": [
       "        Year  North America     Europe      Japan  Rest of World      Global\n",
       "0.00  2013.0        20000.0    10000.0    10000.0        10000.0     70000.0\n",
       "0.25  2015.0       110000.0   120000.0    30000.0        50000.0    360000.0\n",
       "0.50  2016.0       290000.0   410000.0    60000.0       130000.0    875000.0\n",
       "0.75  2017.0       790000.0  1040000.0   122500.0       372500.0   2372500.0\n",
       "1.00  2018.0      6180000.0  9710000.0  2170000.0      3020000.0  19390000.0"
      ]
     },
     "execution_count": 17,
     "metadata": {},
     "output_type": "execute_result"
    }
   ],
   "source": [
    "#Evaluating quartiles\n",
    "\n",
    "ps4.quantile([0,0.25,0.5,0.75,1])"
   ]
  },
  {
   "cell_type": "markdown",
   "id": "1e38e5b5",
   "metadata": {},
   "source": [
    "## Evaluating Interquartile Range"
   ]
  },
  {
   "cell_type": "code",
   "execution_count": 18,
   "id": "d6295b98",
   "metadata": {},
   "outputs": [],
   "source": [
    "#North America\n",
    "\n",
    "North_America_IQR=ps4['North America'].quantile(0.75)-ps4['North America'].quantile(0.25)\n",
    "\n",
    "#Europe\n",
    "\n",
    "Europe_IQR=ps4['Europe'].quantile(0.75)-ps4['Europe'].quantile(0.25)\n",
    "\n",
    "#Japan\n",
    "\n",
    "Japan_IQR=ps4['Japan'].quantile(0.75)-ps4['Japan'].quantile(0.25)\n",
    "\n",
    "#Rest of World\n",
    "\n",
    "Rest_of_World_IQR=ps4['Rest of World'].quantile(0.75)-ps4['Rest of World'].quantile(0.25)\n",
    "\n",
    "#Globally\n",
    "\n",
    "Global_IQR=ps4['Global'].quantile(0.75)-ps4['Global'].quantile(0.25)\n"
   ]
  },
  {
   "cell_type": "markdown",
   "id": "0d98b81c",
   "metadata": {},
   "source": [
    "## Evaluating Upper Outliers "
   ]
  },
  {
   "cell_type": "code",
   "execution_count": 19,
   "id": "25c365a3",
   "metadata": {},
   "outputs": [],
   "source": [
    "#North America\n",
    "\n",
    "North_America_Upper = ps4['North America'].quantile(0.75)+1.5*North_America_IQR\n",
    "\n",
    "#Europe\n",
    "\n",
    "Europe_Upper = ps4['Europe'].quantile(0.75)+1.5*Europe_IQR\n",
    "\n",
    "#Japan\n",
    "\n",
    "Japan_Upper = ps4['Japan'].quantile(0.75)+1.5*Japan_IQR\n",
    "\n",
    "#Rest of World\n",
    "\n",
    "Rest_of_World_Upper = ps4['Rest of World'].quantile(0.75)+1.5*Rest_of_World_IQR\n",
    "\n",
    "#Globally\n",
    "\n",
    "Global_Upper = ps4['Global'].quantile(0.75)+1.5*Global_IQR\n"
   ]
  },
  {
   "cell_type": "markdown",
   "id": "718c018e",
   "metadata": {},
   "source": [
    "## Evaluating Lower Outliers"
   ]
  },
  {
   "cell_type": "code",
   "execution_count": 20,
   "id": "fada5530",
   "metadata": {},
   "outputs": [],
   "source": [
    "#North America\n",
    "\n",
    "North_America_Lower = ps4['North America'].quantile(0.25)-1.5*North_America_IQR\n",
    "\n",
    "#Europe\n",
    "\n",
    "Europe_Lower = ps4['Europe'].quantile(0.25)-1.5*Europe_IQR\n",
    "\n",
    "#Japan\n",
    "\n",
    "Japan_Lower = ps4['Japan'].quantile(0.25)-1.5*Japan_IQR\n",
    "\n",
    "#Rest of World\n",
    "\n",
    "Rest_of_World_Lower = ps4['Rest of World'].quantile(0.25)-1.5*Rest_of_World_IQR\n",
    "\n",
    "#Globally\n",
    "\n",
    "Global_Lower = ps4['Global'].quantile(0.25)-1.5*Global_IQR"
   ]
  },
  {
   "cell_type": "markdown",
   "id": "5d040345",
   "metadata": {},
   "source": [
    "## Generating and Removing Outliers"
   ]
  },
  {
   "cell_type": "code",
   "execution_count": 21,
   "id": "e36b8c16",
   "metadata": {},
   "outputs": [],
   "source": [
    "#North America Outliers\n",
    "\n",
    "ps4 = ps4[~(ps4['North America']>North_America_Upper)|(ps4['North America']<North_America_Lower)]\n",
    "\n",
    "#Europe Outliers\n",
    "\n",
    "ps4 = ps4[~(ps4['Europe']>Europe_Upper)|(ps4['Europe']<Europe_Lower)]\n",
    "\n",
    "#Japan Outliers\n",
    "\n",
    "ps4 = ps4[~(ps4['Japan']>Japan_Upper)|(ps4['Japan']<Japan_Lower)]\n",
    "\n",
    "#Rest of World\n",
    "\n",
    "ps4 = ps4[~(ps4['Rest of World']>Rest_of_World_Upper)|(ps4['Rest of World']<Rest_of_World_Lower)]\n",
    "\n",
    "#Globally\n",
    "\n",
    "ps4 = ps4[~(ps4['Global']>Global_Upper)|(ps4['Global']<Global_Lower)]\n",
    "\n"
   ]
  },
  {
   "cell_type": "code",
   "execution_count": 22,
   "id": "d7e12607",
   "metadata": {},
   "outputs": [
    {
     "name": "stdout",
     "output_type": "stream",
     "text": [
      "<class 'pandas.core.frame.DataFrame'>\n",
      "Int64Index: 210 entries, 26 to 251\n",
      "Data columns (total 9 columns):\n",
      " #   Column         Non-Null Count  Dtype \n",
      "---  ------         --------------  ----- \n",
      " 0   Game           210 non-null    object\n",
      " 1   Year           210 non-null    int64 \n",
      " 2   Genre          210 non-null    object\n",
      " 3   Publisher      210 non-null    object\n",
      " 4   North America  210 non-null    int64 \n",
      " 5   Europe         210 non-null    int64 \n",
      " 6   Japan          210 non-null    int64 \n",
      " 7   Rest of World  210 non-null    int64 \n",
      " 8   Global         210 non-null    int64 \n",
      "dtypes: int64(6), object(3)\n",
      "memory usage: 16.4+ KB\n"
     ]
    }
   ],
   "source": [
    "ps4.info()"
   ]
  },
  {
   "cell_type": "code",
   "execution_count": 23,
   "id": "73403dfe",
   "metadata": {},
   "outputs": [
    {
     "data": {
      "text/plain": [
       "<AxesSubplot:title={'center':'Evaluating Outliers'}>"
      ]
     },
     "execution_count": 23,
     "metadata": {},
     "output_type": "execute_result"
    },
    {
     "data": {
      "image/png": "[encoded data removed]",
      "text/plain": [
       "<Figure size 720x432 with 1 Axes>"
      ]
     },
     "metadata": {},
     "output_type": "display_data"
    }
   ],
   "source": [
    "#Visualizing outliers using a boxplot again\n",
    "\n",
    "plt.figure(figsize=(10,6))\n",
    "plt.title('Evaluating Outliers')\n",
    "plt.style.use('ggplot')\n",
    "ps4.boxplot()"
   ]
  },
  {
   "cell_type": "markdown",
   "id": "8aba81d7",
   "metadata": {},
   "source": [
    "*=> The data seems just fine*"
   ]
  },
  {
   "cell_type": "markdown",
   "id": "bcc6fcfe",
   "metadata": {},
   "source": [
    "# Now, let's start Analyzing and Visualizing data"
   ]
  },
  {
   "cell_type": "markdown",
   "id": "684c555d",
   "metadata": {},
   "source": [
    "**First: Analyzing by Genre**"
   ]
  },
  {
   "cell_type": "code",
   "execution_count": 24,
   "id": "b72e0846",
   "metadata": {},
   "outputs": [
    {
     "data": {
      "text/html": [
       "<div>\n",
       "<style scoped>\n",
       "    .dataframe tbody tr th:only-of-type {\n",
       "        vertical-align: middle;\n",
       "    }\n",
       "\n",
       "    .dataframe tbody tr th {\n",
       "        vertical-align: top;\n",
       "    }\n",
       "\n",
       "    .dataframe thead th {\n",
       "        text-align: right;\n",
       "    }\n",
       "</style>\n",
       "<table border=\"1\" class=\"dataframe\">\n",
       "  <thead>\n",
       "    <tr style=\"text-align: right;\">\n",
       "      <th></th>\n",
       "      <th>Global</th>\n",
       "    </tr>\n",
       "    <tr>\n",
       "      <th>Genre</th>\n",
       "      <th></th>\n",
       "    </tr>\n",
       "  </thead>\n",
       "  <tbody>\n",
       "    <tr>\n",
       "      <th>Strategy</th>\n",
       "      <td>100000</td>\n",
       "    </tr>\n",
       "    <tr>\n",
       "      <th>MMO</th>\n",
       "      <td>960000</td>\n",
       "    </tr>\n",
       "    <tr>\n",
       "      <th>Simulation</th>\n",
       "      <td>2920000</td>\n",
       "    </tr>\n",
       "    <tr>\n",
       "      <th>Misc</th>\n",
       "      <td>4550000</td>\n",
       "    </tr>\n",
       "    <tr>\n",
       "      <th>Platform</th>\n",
       "      <td>7340000</td>\n",
       "    </tr>\n",
       "    <tr>\n",
       "      <th>Adventure</th>\n",
       "      <td>8830000</td>\n",
       "    </tr>\n",
       "    <tr>\n",
       "      <th>Fighting</th>\n",
       "      <td>11560000</td>\n",
       "    </tr>\n",
       "    <tr>\n",
       "      <th>Sports</th>\n",
       "      <td>13080000</td>\n",
       "    </tr>\n",
       "    <tr>\n",
       "      <th>Racing</th>\n",
       "      <td>21260000</td>\n",
       "    </tr>\n",
       "    <tr>\n",
       "      <th>Role-Playing</th>\n",
       "      <td>25350000</td>\n",
       "    </tr>\n",
       "    <tr>\n",
       "      <th>Action-Adventure</th>\n",
       "      <td>29350000</td>\n",
       "    </tr>\n",
       "    <tr>\n",
       "      <th>Shooter</th>\n",
       "      <td>49980000</td>\n",
       "    </tr>\n",
       "    <tr>\n",
       "      <th>Action</th>\n",
       "      <td>60480000</td>\n",
       "    </tr>\n",
       "  </tbody>\n",
       "</table>\n",
       "</div>"
      ],
      "text/plain": [
       "                    Global\n",
       "Genre                     \n",
       "Strategy            100000\n",
       "MMO                 960000\n",
       "Simulation         2920000\n",
       "Misc               4550000\n",
       "Platform           7340000\n",
       "Adventure          8830000\n",
       "Fighting          11560000\n",
       "Sports            13080000\n",
       "Racing            21260000\n",
       "Role-Playing      25350000\n",
       "Action-Adventure  29350000\n",
       "Shooter           49980000\n",
       "Action            60480000"
      ]
     },
     "execution_count": 24,
     "metadata": {},
     "output_type": "execute_result"
    }
   ],
   "source": [
    "#Globally\n",
    "\n",
    "Genre_data=ps4[['Genre','Global']].groupby('Genre').sum().sort_values('Global')\n",
    "Genre_data"
   ]
  },
  {
   "cell_type": "code",
   "execution_count": 25,
   "id": "9702370a",
   "metadata": {},
   "outputs": [
    {
     "data": {
      "text/plain": [
       "Text(0.5, 1.0, 'PS4 Profit by Genre Globally')"
      ]
     },
     "execution_count": 25,
     "metadata": {},
     "output_type": "execute_result"
    },
    {
     "data": {
      "image/png": "[encoded data removed]",
      "text/plain": [
       "<Figure size 720x432 with 1 Axes>"
      ]
     },
     "metadata": {},
     "output_type": "display_data"
    }
   ],
   "source": [
    "#visualizing Globally\n",
    "\n",
    "Genre_data.plot(kind='barh', figsize=(10,6))\n",
    "plt.xlabel('PS4 Profit Globally')\n",
    "plt.title('PS4 Profit by Genre Globally')"
   ]
  },
  {
   "cell_type": "code",
   "execution_count": 26,
   "id": "13bfef6a",
   "metadata": {},
   "outputs": [
    {
     "data": {
      "text/html": [
       "<div>\n",
       "<style scoped>\n",
       "    .dataframe tbody tr th:only-of-type {\n",
       "        vertical-align: middle;\n",
       "    }\n",
       "\n",
       "    .dataframe tbody tr th {\n",
       "        vertical-align: top;\n",
       "    }\n",
       "\n",
       "    .dataframe thead th {\n",
       "        text-align: right;\n",
       "    }\n",
       "</style>\n",
       "<table border=\"1\" class=\"dataframe\">\n",
       "  <thead>\n",
       "    <tr style=\"text-align: right;\">\n",
       "      <th></th>\n",
       "      <th>North America</th>\n",
       "    </tr>\n",
       "    <tr>\n",
       "      <th>Genre</th>\n",
       "      <th></th>\n",
       "    </tr>\n",
       "  </thead>\n",
       "  <tbody>\n",
       "    <tr>\n",
       "      <th>Strategy</th>\n",
       "      <td>50000</td>\n",
       "    </tr>\n",
       "    <tr>\n",
       "      <th>MMO</th>\n",
       "      <td>400000</td>\n",
       "    </tr>\n",
       "    <tr>\n",
       "      <th>Simulation</th>\n",
       "      <td>850000</td>\n",
       "    </tr>\n",
       "    <tr>\n",
       "      <th>Misc</th>\n",
       "      <td>990000</td>\n",
       "    </tr>\n",
       "    <tr>\n",
       "      <th>Platform</th>\n",
       "      <td>2620000</td>\n",
       "    </tr>\n",
       "    <tr>\n",
       "      <th>Adventure</th>\n",
       "      <td>2740000</td>\n",
       "    </tr>\n",
       "    <tr>\n",
       "      <th>Sports</th>\n",
       "      <td>4200000</td>\n",
       "    </tr>\n",
       "    <tr>\n",
       "      <th>Racing</th>\n",
       "      <td>4640000</td>\n",
       "    </tr>\n",
       "    <tr>\n",
       "      <th>Fighting</th>\n",
       "      <td>4710000</td>\n",
       "    </tr>\n",
       "    <tr>\n",
       "      <th>Action-Adventure</th>\n",
       "      <td>9330000</td>\n",
       "    </tr>\n",
       "    <tr>\n",
       "      <th>Role-Playing</th>\n",
       "      <td>9500000</td>\n",
       "    </tr>\n",
       "    <tr>\n",
       "      <th>Shooter</th>\n",
       "      <td>17790000</td>\n",
       "    </tr>\n",
       "    <tr>\n",
       "      <th>Action</th>\n",
       "      <td>20240000</td>\n",
       "    </tr>\n",
       "  </tbody>\n",
       "</table>\n",
       "</div>"
      ],
      "text/plain": [
       "                  North America\n",
       "Genre                          \n",
       "Strategy                  50000\n",
       "MMO                      400000\n",
       "Simulation               850000\n",
       "Misc                     990000\n",
       "Platform                2620000\n",
       "Adventure               2740000\n",
       "Sports                  4200000\n",
       "Racing                  4640000\n",
       "Fighting                4710000\n",
       "Action-Adventure        9330000\n",
       "Role-Playing            9500000\n",
       "Shooter                17790000\n",
       "Action                 20240000"
      ]
     },
     "execution_count": 26,
     "metadata": {},
     "output_type": "execute_result"
    }
   ],
   "source": [
    "#North America\n",
    "\n",
    "Genre_North=ps4[['Genre','North America']].groupby('Genre').sum().sort_values('North America')\n",
    "Genre_North\n"
   ]
  },
  {
   "cell_type": "code",
   "execution_count": 27,
   "id": "df1ded97",
   "metadata": {},
   "outputs": [
    {
     "data": {
      "text/plain": [
       "Text(0.5, 1.0, 'North America PS4 Profit by Genre')"
      ]
     },
     "execution_count": 27,
     "metadata": {},
     "output_type": "execute_result"
    },
    {
     "data": {
      "image/png": "[encoded data removed]",
      "text/plain": [
       "<Figure size 720x432 with 1 Axes>"
      ]
     },
     "metadata": {},
     "output_type": "display_data"
    }
   ],
   "source": [
    "#visualizing North America\n",
    "\n",
    "Genre_North.plot(kind='barh', figsize=(10,6))\n",
    "plt.xlabel('North America PS4 Profit')\n",
    "plt.title('North America PS4 Profit by Genre')"
   ]
  },
  {
   "cell_type": "code",
   "execution_count": 28,
   "id": "fc423c32",
   "metadata": {},
   "outputs": [
    {
     "data": {
      "text/html": [
       "<div>\n",
       "<style scoped>\n",
       "    .dataframe tbody tr th:only-of-type {\n",
       "        vertical-align: middle;\n",
       "    }\n",
       "\n",
       "    .dataframe tbody tr th {\n",
       "        vertical-align: top;\n",
       "    }\n",
       "\n",
       "    .dataframe thead th {\n",
       "        text-align: right;\n",
       "    }\n",
       "</style>\n",
       "<table border=\"1\" class=\"dataframe\">\n",
       "  <thead>\n",
       "    <tr style=\"text-align: right;\">\n",
       "      <th></th>\n",
       "      <th>Europe</th>\n",
       "    </tr>\n",
       "    <tr>\n",
       "      <th>Genre</th>\n",
       "      <th></th>\n",
       "    </tr>\n",
       "  </thead>\n",
       "  <tbody>\n",
       "    <tr>\n",
       "      <th>Strategy</th>\n",
       "      <td>30000</td>\n",
       "    </tr>\n",
       "    <tr>\n",
       "      <th>MMO</th>\n",
       "      <td>290000</td>\n",
       "    </tr>\n",
       "    <tr>\n",
       "      <th>Simulation</th>\n",
       "      <td>1490000</td>\n",
       "    </tr>\n",
       "    <tr>\n",
       "      <th>Misc</th>\n",
       "      <td>2630000</td>\n",
       "    </tr>\n",
       "    <tr>\n",
       "      <th>Platform</th>\n",
       "      <td>3380000</td>\n",
       "    </tr>\n",
       "    <tr>\n",
       "      <th>Fighting</th>\n",
       "      <td>3920000</td>\n",
       "    </tr>\n",
       "    <tr>\n",
       "      <th>Adventure</th>\n",
       "      <td>3960000</td>\n",
       "    </tr>\n",
       "    <tr>\n",
       "      <th>Sports</th>\n",
       "      <td>5960000</td>\n",
       "    </tr>\n",
       "    <tr>\n",
       "      <th>Role-Playing</th>\n",
       "      <td>8970000</td>\n",
       "    </tr>\n",
       "    <tr>\n",
       "      <th>Racing</th>\n",
       "      <td>12690000</td>\n",
       "    </tr>\n",
       "    <tr>\n",
       "      <th>Action-Adventure</th>\n",
       "      <td>14250000</td>\n",
       "    </tr>\n",
       "    <tr>\n",
       "      <th>Shooter</th>\n",
       "      <td>22600000</td>\n",
       "    </tr>\n",
       "    <tr>\n",
       "      <th>Action</th>\n",
       "      <td>27390000</td>\n",
       "    </tr>\n",
       "  </tbody>\n",
       "</table>\n",
       "</div>"
      ],
      "text/plain": [
       "                    Europe\n",
       "Genre                     \n",
       "Strategy             30000\n",
       "MMO                 290000\n",
       "Simulation         1490000\n",
       "Misc               2630000\n",
       "Platform           3380000\n",
       "Fighting           3920000\n",
       "Adventure          3960000\n",
       "Sports             5960000\n",
       "Role-Playing       8970000\n",
       "Racing            12690000\n",
       "Action-Adventure  14250000\n",
       "Shooter           22600000\n",
       "Action            27390000"
      ]
     },
     "execution_count": 28,
     "metadata": {},
     "output_type": "execute_result"
    }
   ],
   "source": [
    "#Europe\n",
    "\n",
    "Genre_Europe=ps4[['Genre','Europe']].groupby('Genre').sum().sort_values('Europe')\n",
    "Genre_Europe"
   ]
  },
  {
   "cell_type": "code",
   "execution_count": 29,
   "id": "685accf5",
   "metadata": {},
   "outputs": [
    {
     "data": {
      "text/plain": [
       "Text(0.5, 1.0, 'Europe PS4 Profit by Genre')"
      ]
     },
     "execution_count": 29,
     "metadata": {},
     "output_type": "execute_result"
    },
    {
     "data": {
      "image/png": "[encoded data removed]",
      "text/plain": [
       "<Figure size 720x432 with 1 Axes>"
      ]
     },
     "metadata": {},
     "output_type": "display_data"
    }
   ],
   "source": [
    "#visualizing Europe\n",
    "\n",
    "Genre_Europe.plot(kind='barh', figsize=(10,6))\n",
    "plt.xlabel('Europe PS4 Profit')\n",
    "plt.title('Europe PS4 Profit by Genre')"
   ]
  },
  {
   "cell_type": "code",
   "execution_count": 30,
   "id": "31545164",
   "metadata": {},
   "outputs": [
    {
     "data": {
      "text/html": [
       "<div>\n",
       "<style scoped>\n",
       "    .dataframe tbody tr th:only-of-type {\n",
       "        vertical-align: middle;\n",
       "    }\n",
       "\n",
       "    .dataframe tbody tr th {\n",
       "        vertical-align: top;\n",
       "    }\n",
       "\n",
       "    .dataframe thead th {\n",
       "        text-align: right;\n",
       "    }\n",
       "</style>\n",
       "<table border=\"1\" class=\"dataframe\">\n",
       "  <thead>\n",
       "    <tr style=\"text-align: right;\">\n",
       "      <th></th>\n",
       "      <th>Japan</th>\n",
       "    </tr>\n",
       "    <tr>\n",
       "      <th>Genre</th>\n",
       "      <th></th>\n",
       "    </tr>\n",
       "  </thead>\n",
       "  <tbody>\n",
       "    <tr>\n",
       "      <th>Strategy</th>\n",
       "      <td>10000</td>\n",
       "    </tr>\n",
       "    <tr>\n",
       "      <th>MMO</th>\n",
       "      <td>120000</td>\n",
       "    </tr>\n",
       "    <tr>\n",
       "      <th>Simulation</th>\n",
       "      <td>140000</td>\n",
       "    </tr>\n",
       "    <tr>\n",
       "      <th>Platform</th>\n",
       "      <td>160000</td>\n",
       "    </tr>\n",
       "    <tr>\n",
       "      <th>Misc</th>\n",
       "      <td>270000</td>\n",
       "    </tr>\n",
       "    <tr>\n",
       "      <th>Racing</th>\n",
       "      <td>710000</td>\n",
       "    </tr>\n",
       "    <tr>\n",
       "      <th>Adventure</th>\n",
       "      <td>830000</td>\n",
       "    </tr>\n",
       "    <tr>\n",
       "      <th>Sports</th>\n",
       "      <td>970000</td>\n",
       "    </tr>\n",
       "    <tr>\n",
       "      <th>Action-Adventure</th>\n",
       "      <td>1210000</td>\n",
       "    </tr>\n",
       "    <tr>\n",
       "      <th>Fighting</th>\n",
       "      <td>1210000</td>\n",
       "    </tr>\n",
       "    <tr>\n",
       "      <th>Shooter</th>\n",
       "      <td>1720000</td>\n",
       "    </tr>\n",
       "    <tr>\n",
       "      <th>Role-Playing</th>\n",
       "      <td>3200000</td>\n",
       "    </tr>\n",
       "    <tr>\n",
       "      <th>Action</th>\n",
       "      <td>3560000</td>\n",
       "    </tr>\n",
       "  </tbody>\n",
       "</table>\n",
       "</div>"
      ],
      "text/plain": [
       "                    Japan\n",
       "Genre                    \n",
       "Strategy            10000\n",
       "MMO                120000\n",
       "Simulation         140000\n",
       "Platform           160000\n",
       "Misc               270000\n",
       "Racing             710000\n",
       "Adventure          830000\n",
       "Sports             970000\n",
       "Action-Adventure  1210000\n",
       "Fighting          1210000\n",
       "Shooter           1720000\n",
       "Role-Playing      3200000\n",
       "Action            3560000"
      ]
     },
     "execution_count": 30,
     "metadata": {},
     "output_type": "execute_result"
    }
   ],
   "source": [
    "#Japan\n",
    "\n",
    "Genre_Japan=ps4[['Genre','Japan']].groupby('Genre').sum().sort_values('Japan')\n",
    "Genre_Japan"
   ]
  },
  {
   "cell_type": "code",
   "execution_count": 31,
   "id": "35b908c6",
   "metadata": {},
   "outputs": [
    {
     "data": {
      "text/plain": [
       "Text(0.5, 1.0, 'Japan PS4 Profit by Genre')"
      ]
     },
     "execution_count": 31,
     "metadata": {},
     "output_type": "execute_result"
    },
    {
     "data": {
      "image/png": "[encoded data removed]",
      "text/plain": [
       "<Figure size 720x432 with 1 Axes>"
      ]
     },
     "metadata": {},
     "output_type": "display_data"
    }
   ],
   "source": [
    "#visualizing Japan\n",
    "\n",
    "Genre_Japan.plot(kind='barh', figsize=(10,6))\n",
    "plt.xlabel('Japan PS4 Profit')\n",
    "plt.title('Japan PS4 Profit by Genre')"
   ]
  },
  {
   "cell_type": "code",
   "execution_count": 32,
   "id": "839ed979",
   "metadata": {},
   "outputs": [
    {
     "data": {
      "text/html": [
       "<div>\n",
       "<style scoped>\n",
       "    .dataframe tbody tr th:only-of-type {\n",
       "        vertical-align: middle;\n",
       "    }\n",
       "\n",
       "    .dataframe tbody tr th {\n",
       "        vertical-align: top;\n",
       "    }\n",
       "\n",
       "    .dataframe thead th {\n",
       "        text-align: right;\n",
       "    }\n",
       "</style>\n",
       "<table border=\"1\" class=\"dataframe\">\n",
       "  <thead>\n",
       "    <tr style=\"text-align: right;\">\n",
       "      <th></th>\n",
       "      <th>Rest of World</th>\n",
       "    </tr>\n",
       "    <tr>\n",
       "      <th>Genre</th>\n",
       "      <th></th>\n",
       "    </tr>\n",
       "  </thead>\n",
       "  <tbody>\n",
       "    <tr>\n",
       "      <th>Strategy</th>\n",
       "      <td>20000</td>\n",
       "    </tr>\n",
       "    <tr>\n",
       "      <th>MMO</th>\n",
       "      <td>140000</td>\n",
       "    </tr>\n",
       "    <tr>\n",
       "      <th>Simulation</th>\n",
       "      <td>450000</td>\n",
       "    </tr>\n",
       "    <tr>\n",
       "      <th>Misc</th>\n",
       "      <td>680000</td>\n",
       "    </tr>\n",
       "    <tr>\n",
       "      <th>Platform</th>\n",
       "      <td>1180000</td>\n",
       "    </tr>\n",
       "    <tr>\n",
       "      <th>Adventure</th>\n",
       "      <td>1290000</td>\n",
       "    </tr>\n",
       "    <tr>\n",
       "      <th>Fighting</th>\n",
       "      <td>1720000</td>\n",
       "    </tr>\n",
       "    <tr>\n",
       "      <th>Sports</th>\n",
       "      <td>1970000</td>\n",
       "    </tr>\n",
       "    <tr>\n",
       "      <th>Racing</th>\n",
       "      <td>3180000</td>\n",
       "    </tr>\n",
       "    <tr>\n",
       "      <th>Role-Playing</th>\n",
       "      <td>3710000</td>\n",
       "    </tr>\n",
       "    <tr>\n",
       "      <th>Action-Adventure</th>\n",
       "      <td>4550000</td>\n",
       "    </tr>\n",
       "    <tr>\n",
       "      <th>Shooter</th>\n",
       "      <td>7910000</td>\n",
       "    </tr>\n",
       "    <tr>\n",
       "      <th>Action</th>\n",
       "      <td>9230000</td>\n",
       "    </tr>\n",
       "  </tbody>\n",
       "</table>\n",
       "</div>"
      ],
      "text/plain": [
       "                  Rest of World\n",
       "Genre                          \n",
       "Strategy                  20000\n",
       "MMO                      140000\n",
       "Simulation               450000\n",
       "Misc                     680000\n",
       "Platform                1180000\n",
       "Adventure               1290000\n",
       "Fighting                1720000\n",
       "Sports                  1970000\n",
       "Racing                  3180000\n",
       "Role-Playing            3710000\n",
       "Action-Adventure        4550000\n",
       "Shooter                 7910000\n",
       "Action                  9230000"
      ]
     },
     "execution_count": 32,
     "metadata": {},
     "output_type": "execute_result"
    }
   ],
   "source": [
    "#Rest of World\n",
    "\n",
    "Genre_World=ps4[['Genre','Rest of World']].groupby('Genre').sum().sort_values('Rest of World')\n",
    "Genre_World"
   ]
  },
  {
   "cell_type": "code",
   "execution_count": 33,
   "id": "8e58c292",
   "metadata": {},
   "outputs": [
    {
     "data": {
      "text/plain": [
       "Text(0.5, 1.0, 'Rest of World PS4 Profit by Genre')"
      ]
     },
     "execution_count": 33,
     "metadata": {},
     "output_type": "execute_result"
    },
    {
     "data": {
      "image/png": "[encoded data removed]",
      "text/plain": [
       "<Figure size 720x432 with 1 Axes>"
      ]
     },
     "metadata": {},
     "output_type": "display_data"
    }
   ],
   "source": [
    "#visualizing Rest of World\n",
    "\n",
    "Genre_World.plot(kind='barh', figsize=(10,6))\n",
    "plt.xlabel('Rest of World PS4 Profit')\n",
    "plt.title('Rest of World PS4 Profit by Genre')"
   ]
  },
  {
   "cell_type": "markdown",
   "id": "5eb393db",
   "metadata": {},
   "source": [
    "**The top 5 genre are:**\n",
    "\n",
    "    1-Action\n",
    "    2-Shooter\n",
    "    3-Action Adventure\n",
    "    4-Role-Playing\n",
    "    5-Racing"
   ]
  },
  {
   "cell_type": "markdown",
   "id": "a98c7a7c",
   "metadata": {},
   "source": [
    "## Secondly, Analyzing by Year"
   ]
  },
  {
   "cell_type": "code",
   "execution_count": 34,
   "id": "a114253d",
   "metadata": {},
   "outputs": [
    {
     "data": {
      "text/html": [
       "<div>\n",
       "<style scoped>\n",
       "    .dataframe tbody tr th:only-of-type {\n",
       "        vertical-align: middle;\n",
       "    }\n",
       "\n",
       "    .dataframe tbody tr th {\n",
       "        vertical-align: top;\n",
       "    }\n",
       "\n",
       "    .dataframe thead th {\n",
       "        text-align: right;\n",
       "    }\n",
       "</style>\n",
       "<table border=\"1\" class=\"dataframe\">\n",
       "  <thead>\n",
       "    <tr style=\"text-align: right;\">\n",
       "      <th></th>\n",
       "      <th>Global</th>\n",
       "    </tr>\n",
       "    <tr>\n",
       "      <th>Year</th>\n",
       "      <th></th>\n",
       "    </tr>\n",
       "  </thead>\n",
       "  <tbody>\n",
       "    <tr>\n",
       "      <th>2013</th>\n",
       "      <td>23370000</td>\n",
       "    </tr>\n",
       "    <tr>\n",
       "      <th>2014</th>\n",
       "      <td>49800000</td>\n",
       "    </tr>\n",
       "    <tr>\n",
       "      <th>2015</th>\n",
       "      <td>41280000</td>\n",
       "    </tr>\n",
       "    <tr>\n",
       "      <th>2016</th>\n",
       "      <td>56520000</td>\n",
       "    </tr>\n",
       "    <tr>\n",
       "      <th>2017</th>\n",
       "      <td>51530000</td>\n",
       "    </tr>\n",
       "    <tr>\n",
       "      <th>2018</th>\n",
       "      <td>13260000</td>\n",
       "    </tr>\n",
       "  </tbody>\n",
       "</table>\n",
       "</div>"
      ],
      "text/plain": [
       "        Global\n",
       "Year          \n",
       "2013  23370000\n",
       "2014  49800000\n",
       "2015  41280000\n",
       "2016  56520000\n",
       "2017  51530000\n",
       "2018  13260000"
      ]
     },
     "execution_count": 34,
     "metadata": {},
     "output_type": "execute_result"
    }
   ],
   "source": [
    "#Globally\n",
    "\n",
    "Year_Global=ps4[['Year','Global']].groupby('Year').sum()\n",
    "Year_Global"
   ]
  },
  {
   "cell_type": "code",
   "execution_count": 35,
   "id": "c6424af9",
   "metadata": {},
   "outputs": [
    {
     "data": {
      "text/plain": [
       "Text(0.5, 1.0, 'Global PS4 Profit by Year')"
      ]
     },
     "execution_count": 35,
     "metadata": {},
     "output_type": "execute_result"
    },
    {
     "data": {
      "image/png": "[encoded data removed]",
      "text/plain": [
       "<Figure size 1080x288 with 1 Axes>"
      ]
     },
     "metadata": {},
     "output_type": "display_data"
    }
   ],
   "source": [
    "#visualizing Globally\n",
    "\n",
    "Year_Global.plot(kind='line', figsize=(15,4))\n",
    "plt.ylabel('Global PS4 Profit')\n",
    "plt.title('Global PS4 Profit by Year')"
   ]
  },
  {
   "cell_type": "code",
   "execution_count": 36,
   "id": "f2f33107",
   "metadata": {},
   "outputs": [
    {
     "data": {
      "text/html": [
       "<div>\n",
       "<style scoped>\n",
       "    .dataframe tbody tr th:only-of-type {\n",
       "        vertical-align: middle;\n",
       "    }\n",
       "\n",
       "    .dataframe tbody tr th {\n",
       "        vertical-align: top;\n",
       "    }\n",
       "\n",
       "    .dataframe thead th {\n",
       "        text-align: right;\n",
       "    }\n",
       "</style>\n",
       "<table border=\"1\" class=\"dataframe\">\n",
       "  <thead>\n",
       "    <tr style=\"text-align: right;\">\n",
       "      <th></th>\n",
       "      <th>North America</th>\n",
       "    </tr>\n",
       "    <tr>\n",
       "      <th>Year</th>\n",
       "      <th></th>\n",
       "    </tr>\n",
       "  </thead>\n",
       "  <tbody>\n",
       "    <tr>\n",
       "      <th>2013</th>\n",
       "      <td>8020000</td>\n",
       "    </tr>\n",
       "    <tr>\n",
       "      <th>2014</th>\n",
       "      <td>16830000</td>\n",
       "    </tr>\n",
       "    <tr>\n",
       "      <th>2015</th>\n",
       "      <td>13670000</td>\n",
       "    </tr>\n",
       "    <tr>\n",
       "      <th>2016</th>\n",
       "      <td>17960000</td>\n",
       "    </tr>\n",
       "    <tr>\n",
       "      <th>2017</th>\n",
       "      <td>16660000</td>\n",
       "    </tr>\n",
       "    <tr>\n",
       "      <th>2018</th>\n",
       "      <td>4920000</td>\n",
       "    </tr>\n",
       "  </tbody>\n",
       "</table>\n",
       "</div>"
      ],
      "text/plain": [
       "      North America\n",
       "Year               \n",
       "2013        8020000\n",
       "2014       16830000\n",
       "2015       13670000\n",
       "2016       17960000\n",
       "2017       16660000\n",
       "2018        4920000"
      ]
     },
     "execution_count": 36,
     "metadata": {},
     "output_type": "execute_result"
    }
   ],
   "source": [
    "#North America\n",
    "\n",
    "Year_North_America =ps4[['Year','North America']].groupby('Year').sum()\n",
    "Year_North_America "
   ]
  },
  {
   "cell_type": "code",
   "execution_count": 37,
   "id": "fcabd99c",
   "metadata": {},
   "outputs": [
    {
     "data": {
      "text/plain": [
       "Text(0.5, 1.0, 'North America PS4 Profit by Year')"
      ]
     },
     "execution_count": 37,
     "metadata": {},
     "output_type": "execute_result"
    },
    {
     "data": {
      "image/png": "[encoded data removed]",
      "text/plain": [
       "<Figure size 1080x288 with 1 Axes>"
      ]
     },
     "metadata": {},
     "output_type": "display_data"
    }
   ],
   "source": [
    "#visualizing North America\n",
    "\n",
    "Year_North_America.plot(kind='line', figsize=(15,4))\n",
    "plt.ylabel('North America PS4 Profit')\n",
    "plt.title('North America PS4 Profit by Year')"
   ]
  },
  {
   "cell_type": "code",
   "execution_count": 38,
   "id": "530538f1",
   "metadata": {},
   "outputs": [
    {
     "data": {
      "text/html": [
       "<div>\n",
       "<style scoped>\n",
       "    .dataframe tbody tr th:only-of-type {\n",
       "        vertical-align: middle;\n",
       "    }\n",
       "\n",
       "    .dataframe tbody tr th {\n",
       "        vertical-align: top;\n",
       "    }\n",
       "\n",
       "    .dataframe thead th {\n",
       "        text-align: right;\n",
       "    }\n",
       "</style>\n",
       "<table border=\"1\" class=\"dataframe\">\n",
       "  <thead>\n",
       "    <tr style=\"text-align: right;\">\n",
       "      <th></th>\n",
       "      <th>Japan</th>\n",
       "    </tr>\n",
       "    <tr>\n",
       "      <th>Year</th>\n",
       "      <th></th>\n",
       "    </tr>\n",
       "  </thead>\n",
       "  <tbody>\n",
       "    <tr>\n",
       "      <th>2013</th>\n",
       "      <td>550000</td>\n",
       "    </tr>\n",
       "    <tr>\n",
       "      <th>2014</th>\n",
       "      <td>1830000</td>\n",
       "    </tr>\n",
       "    <tr>\n",
       "      <th>2015</th>\n",
       "      <td>2870000</td>\n",
       "    </tr>\n",
       "    <tr>\n",
       "      <th>2016</th>\n",
       "      <td>3670000</td>\n",
       "    </tr>\n",
       "    <tr>\n",
       "      <th>2017</th>\n",
       "      <td>3900000</td>\n",
       "    </tr>\n",
       "    <tr>\n",
       "      <th>2018</th>\n",
       "      <td>1290000</td>\n",
       "    </tr>\n",
       "  </tbody>\n",
       "</table>\n",
       "</div>"
      ],
      "text/plain": [
       "        Japan\n",
       "Year         \n",
       "2013   550000\n",
       "2014  1830000\n",
       "2015  2870000\n",
       "2016  3670000\n",
       "2017  3900000\n",
       "2018  1290000"
      ]
     },
     "execution_count": 38,
     "metadata": {},
     "output_type": "execute_result"
    }
   ],
   "source": [
    "#North Japan\n",
    "\n",
    "Year_Japan =ps4[['Year','Japan']].groupby('Year').sum()\n",
    "Year_Japan"
   ]
  },
  {
   "cell_type": "code",
   "execution_count": 39,
   "id": "64acbc54",
   "metadata": {},
   "outputs": [
    {
     "data": {
      "text/plain": [
       "Text(0.5, 1.0, 'Japan PS4 Profit by Year')"
      ]
     },
     "execution_count": 39,
     "metadata": {},
     "output_type": "execute_result"
    },
    {
     "data": {
      "image/png": "[encoded data removed]",
      "text/plain": [
       "<Figure size 1080x288 with 1 Axes>"
      ]
     },
     "metadata": {},
     "output_type": "display_data"
    }
   ],
   "source": [
    "#visualizing Japan\n",
    "\n",
    "Year_Japan.plot(kind='line', figsize=(15,4))\n",
    "plt.ylabel('Japan PS4 Profit')\n",
    "plt.title('Japan PS4 Profit by Year')"
   ]
  },
  {
   "cell_type": "code",
   "execution_count": 40,
   "id": "eacdeb47",
   "metadata": {},
   "outputs": [
    {
     "data": {
      "text/html": [
       "<div>\n",
       "<style scoped>\n",
       "    .dataframe tbody tr th:only-of-type {\n",
       "        vertical-align: middle;\n",
       "    }\n",
       "\n",
       "    .dataframe tbody tr th {\n",
       "        vertical-align: top;\n",
       "    }\n",
       "\n",
       "    .dataframe thead th {\n",
       "        text-align: right;\n",
       "    }\n",
       "</style>\n",
       "<table border=\"1\" class=\"dataframe\">\n",
       "  <thead>\n",
       "    <tr style=\"text-align: right;\">\n",
       "      <th></th>\n",
       "      <th>Europe</th>\n",
       "    </tr>\n",
       "    <tr>\n",
       "      <th>Year</th>\n",
       "      <th></th>\n",
       "    </tr>\n",
       "  </thead>\n",
       "  <tbody>\n",
       "    <tr>\n",
       "      <th>2013</th>\n",
       "      <td>11080000</td>\n",
       "    </tr>\n",
       "    <tr>\n",
       "      <th>2014</th>\n",
       "      <td>23320000</td>\n",
       "    </tr>\n",
       "    <tr>\n",
       "      <th>2015</th>\n",
       "      <td>18460000</td>\n",
       "    </tr>\n",
       "    <tr>\n",
       "      <th>2016</th>\n",
       "      <td>26340000</td>\n",
       "    </tr>\n",
       "    <tr>\n",
       "      <th>2017</th>\n",
       "      <td>23310000</td>\n",
       "    </tr>\n",
       "    <tr>\n",
       "      <th>2018</th>\n",
       "      <td>5050000</td>\n",
       "    </tr>\n",
       "  </tbody>\n",
       "</table>\n",
       "</div>"
      ],
      "text/plain": [
       "        Europe\n",
       "Year          \n",
       "2013  11080000\n",
       "2014  23320000\n",
       "2015  18460000\n",
       "2016  26340000\n",
       "2017  23310000\n",
       "2018   5050000"
      ]
     },
     "execution_count": 40,
     "metadata": {},
     "output_type": "execute_result"
    }
   ],
   "source": [
    "#Europe\n",
    "\n",
    "Year_Europe =ps4[['Year','Europe']].groupby('Year').sum()\n",
    "Year_Europe"
   ]
  },
  {
   "cell_type": "code",
   "execution_count": 41,
   "id": "b516cf1f",
   "metadata": {},
   "outputs": [
    {
     "data": {
      "text/plain": [
       "Text(0.5, 1.0, 'Europe PS4 Profit by Year')"
      ]
     },
     "execution_count": 41,
     "metadata": {},
     "output_type": "execute_result"
    },
    {
     "data": {
      "image/png": "[encoded data removed]",
      "text/plain": [
       "<Figure size 1080x288 with 1 Axes>"
      ]
     },
     "metadata": {},
     "output_type": "display_data"
    }
   ],
   "source": [
    "#visualizing Europe\n",
    "\n",
    "Year_Europe.plot(kind='line', figsize=(15,4))\n",
    "plt.ylabel('Europe PS4 Profit')\n",
    "plt.title('Europe PS4 Profit by Year')"
   ]
  },
  {
   "cell_type": "code",
   "execution_count": 42,
   "id": "c15f0408",
   "metadata": {},
   "outputs": [
    {
     "data": {
      "text/html": [
       "<div>\n",
       "<style scoped>\n",
       "    .dataframe tbody tr th:only-of-type {\n",
       "        vertical-align: middle;\n",
       "    }\n",
       "\n",
       "    .dataframe tbody tr th {\n",
       "        vertical-align: top;\n",
       "    }\n",
       "\n",
       "    .dataframe thead th {\n",
       "        text-align: right;\n",
       "    }\n",
       "</style>\n",
       "<table border=\"1\" class=\"dataframe\">\n",
       "  <thead>\n",
       "    <tr style=\"text-align: right;\">\n",
       "      <th></th>\n",
       "      <th>Rest of World</th>\n",
       "    </tr>\n",
       "    <tr>\n",
       "      <th>Year</th>\n",
       "      <th></th>\n",
       "    </tr>\n",
       "  </thead>\n",
       "  <tbody>\n",
       "    <tr>\n",
       "      <th>2013</th>\n",
       "      <td>3720000</td>\n",
       "    </tr>\n",
       "    <tr>\n",
       "      <th>2014</th>\n",
       "      <td>7800000</td>\n",
       "    </tr>\n",
       "    <tr>\n",
       "      <th>2015</th>\n",
       "      <td>6250000</td>\n",
       "    </tr>\n",
       "    <tr>\n",
       "      <th>2016</th>\n",
       "      <td>8550000</td>\n",
       "    </tr>\n",
       "    <tr>\n",
       "      <th>2017</th>\n",
       "      <td>7720000</td>\n",
       "    </tr>\n",
       "    <tr>\n",
       "      <th>2018</th>\n",
       "      <td>1990000</td>\n",
       "    </tr>\n",
       "  </tbody>\n",
       "</table>\n",
       "</div>"
      ],
      "text/plain": [
       "      Rest of World\n",
       "Year               \n",
       "2013        3720000\n",
       "2014        7800000\n",
       "2015        6250000\n",
       "2016        8550000\n",
       "2017        7720000\n",
       "2018        1990000"
      ]
     },
     "execution_count": 42,
     "metadata": {},
     "output_type": "execute_result"
    }
   ],
   "source": [
    "#Rest of World\n",
    "\n",
    "Year_World =ps4[['Year','Rest of World']].groupby('Year').sum()\n",
    "Year_World"
   ]
  },
  {
   "cell_type": "code",
   "execution_count": 43,
   "id": "4df26f61",
   "metadata": {},
   "outputs": [
    {
     "data": {
      "text/plain": [
       "Text(0.5, 1.0, 'Rest of World PS4 Profit by Year')"
      ]
     },
     "execution_count": 43,
     "metadata": {},
     "output_type": "execute_result"
    },
    {
     "data": {
      "image/png": "[encoded data removed]",
      "text/plain": [
       "<Figure size 1080x288 with 1 Axes>"
      ]
     },
     "metadata": {},
     "output_type": "display_data"
    }
   ],
   "source": [
    "#visualizing Rest of World\n",
    "\n",
    "Year_World.plot(kind='line', figsize=(15,4))\n",
    "plt.ylabel('Rest of World PS4 Profit')\n",
    "plt.title('Rest of World PS4 Profit by Year')"
   ]
  },
  {
   "cell_type": "markdown",
   "id": "99a34591",
   "metadata": {},
   "source": [
    "*=> It's clear that 2015 & 2016 have witnessed a spike in sales*"
   ]
  },
  {
   "cell_type": "markdown",
   "id": "1d1e9cce",
   "metadata": {},
   "source": [
    "## Thirdly, Analyzing by Publisher"
   ]
  },
  {
   "cell_type": "code",
   "execution_count": 44,
   "id": "889d34a2",
   "metadata": {},
   "outputs": [
    {
     "data": {
      "text/html": [
       "<div>\n",
       "<style scoped>\n",
       "    .dataframe tbody tr th:only-of-type {\n",
       "        vertical-align: middle;\n",
       "    }\n",
       "\n",
       "    .dataframe tbody tr th {\n",
       "        vertical-align: top;\n",
       "    }\n",
       "\n",
       "    .dataframe thead th {\n",
       "        text-align: right;\n",
       "    }\n",
       "</style>\n",
       "<table border=\"1\" class=\"dataframe\">\n",
       "  <thead>\n",
       "    <tr style=\"text-align: right;\">\n",
       "      <th></th>\n",
       "      <th>Global</th>\n",
       "    </tr>\n",
       "    <tr>\n",
       "      <th>Publisher</th>\n",
       "      <th></th>\n",
       "    </tr>\n",
       "  </thead>\n",
       "  <tbody>\n",
       "    <tr>\n",
       "      <th>Milestone S.r.l</th>\n",
       "      <td>160000</td>\n",
       "    </tr>\n",
       "    <tr>\n",
       "      <th>Koei Tecmo</th>\n",
       "      <td>220000</td>\n",
       "    </tr>\n",
       "    <tr>\n",
       "      <th>Milestone S.r.l.</th>\n",
       "      <td>240000</td>\n",
       "    </tr>\n",
       "    <tr>\n",
       "      <th>505 Games</th>\n",
       "      <td>340000</td>\n",
       "    </tr>\n",
       "    <tr>\n",
       "      <th>City Interactive</th>\n",
       "      <td>360000</td>\n",
       "    </tr>\n",
       "  </tbody>\n",
       "</table>\n",
       "</div>"
      ],
      "text/plain": [
       "                  Global\n",
       "Publisher               \n",
       "Milestone S.r.l   160000\n",
       "Koei Tecmo        220000\n",
       "Milestone S.r.l.  240000\n",
       "505 Games         340000\n",
       "City Interactive  360000"
      ]
     },
     "execution_count": 44,
     "metadata": {},
     "output_type": "execute_result"
    }
   ],
   "source": [
    "#Globally\n",
    "\n",
    "Publisher_Global=ps4[['Publisher','Global']].groupby('Publisher').sum().sort_values('Global')\n",
    "Publisher_Global.head()"
   ]
  },
  {
   "cell_type": "code",
   "execution_count": 45,
   "id": "c514a235",
   "metadata": {},
   "outputs": [
    {
     "data": {
      "text/plain": [
       "Text(0.5, 1.0, 'Global PS4 Profit by Publisher')"
      ]
     },
     "execution_count": 45,
     "metadata": {},
     "output_type": "execute_result"
    },
    {
     "data": {
      "image/png": "[encoded data removed]",
      "text/plain": [
       "<Figure size 720x432 with 1 Axes>"
      ]
     },
     "metadata": {},
     "output_type": "display_data"
    }
   ],
   "source": [
    "#visualizing Globally\n",
    "\n",
    "Publisher_Global.tail(10).plot(kind='barh', figsize=(10,6))\n",
    "plt.xlabel('Global PS4 Profit')\n",
    "plt.title('Global PS4 Profit by Publisher')"
   ]
  },
  {
   "cell_type": "code",
   "execution_count": 46,
   "id": "6b81009b",
   "metadata": {},
   "outputs": [
    {
     "data": {
      "text/html": [
       "<div>\n",
       "<style scoped>\n",
       "    .dataframe tbody tr th:only-of-type {\n",
       "        vertical-align: middle;\n",
       "    }\n",
       "\n",
       "    .dataframe tbody tr th {\n",
       "        vertical-align: top;\n",
       "    }\n",
       "\n",
       "    .dataframe thead th {\n",
       "        text-align: right;\n",
       "    }\n",
       "</style>\n",
       "<table border=\"1\" class=\"dataframe\">\n",
       "  <thead>\n",
       "    <tr style=\"text-align: right;\">\n",
       "      <th></th>\n",
       "      <th>North America</th>\n",
       "    </tr>\n",
       "    <tr>\n",
       "      <th>Publisher</th>\n",
       "      <th></th>\n",
       "    </tr>\n",
       "  </thead>\n",
       "  <tbody>\n",
       "    <tr>\n",
       "      <th>Milestone S.r.l.</th>\n",
       "      <td>40000</td>\n",
       "    </tr>\n",
       "    <tr>\n",
       "      <th>Milestone S.r.l</th>\n",
       "      <td>70000</td>\n",
       "    </tr>\n",
       "    <tr>\n",
       "      <th>Koei Tecmo</th>\n",
       "      <td>90000</td>\n",
       "    </tr>\n",
       "    <tr>\n",
       "      <th>Telltale Games</th>\n",
       "      <td>120000</td>\n",
       "    </tr>\n",
       "    <tr>\n",
       "      <th>Kalypso Media</th>\n",
       "      <td>120000</td>\n",
       "    </tr>\n",
       "  </tbody>\n",
       "</table>\n",
       "</div>"
      ],
      "text/plain": [
       "                  North America\n",
       "Publisher                      \n",
       "Milestone S.r.l.          40000\n",
       "Milestone S.r.l           70000\n",
       "Koei Tecmo                90000\n",
       "Telltale Games           120000\n",
       "Kalypso Media            120000"
      ]
     },
     "execution_count": 46,
     "metadata": {},
     "output_type": "execute_result"
    }
   ],
   "source": [
    "#North America\n",
    "\n",
    "Publisher_North=ps4[['Publisher','North America']].groupby('Publisher').sum().sort_values('North America')\n",
    "Publisher_North.head()"
   ]
  },
  {
   "cell_type": "code",
   "execution_count": 47,
   "id": "e86423c6",
   "metadata": {},
   "outputs": [
    {
     "data": {
      "text/plain": [
       "Text(0.5, 1.0, 'North America Profit by Publisher')"
      ]
     },
     "execution_count": 47,
     "metadata": {},
     "output_type": "execute_result"
    },
    {
     "data": {
      "image/png": "[encoded data removed]",
      "text/plain": [
       "<Figure size 720x432 with 1 Axes>"
      ]
     },
     "metadata": {},
     "output_type": "display_data"
    }
   ],
   "source": [
    "#visualizing North America\n",
    "\n",
    "Publisher_North.tail(10).plot(kind='barh', figsize=(10,6))\n",
    "plt.xlabel('North America PS4 Profit')\n",
    "plt.title('North America Profit by Publisher')"
   ]
  },
  {
   "cell_type": "code",
   "execution_count": 48,
   "id": "df390eb9",
   "metadata": {},
   "outputs": [
    {
     "data": {
      "text/html": [
       "<div>\n",
       "<style scoped>\n",
       "    .dataframe tbody tr th:only-of-type {\n",
       "        vertical-align: middle;\n",
       "    }\n",
       "\n",
       "    .dataframe tbody tr th {\n",
       "        vertical-align: top;\n",
       "    }\n",
       "\n",
       "    .dataframe thead th {\n",
       "        text-align: right;\n",
       "    }\n",
       "</style>\n",
       "<table border=\"1\" class=\"dataframe\">\n",
       "  <thead>\n",
       "    <tr style=\"text-align: right;\">\n",
       "      <th></th>\n",
       "      <th>Europe</th>\n",
       "    </tr>\n",
       "    <tr>\n",
       "      <th>Publisher</th>\n",
       "      <th></th>\n",
       "    </tr>\n",
       "  </thead>\n",
       "  <tbody>\n",
       "    <tr>\n",
       "      <th>Koei Tecmo</th>\n",
       "      <td>40000</td>\n",
       "    </tr>\n",
       "    <tr>\n",
       "      <th>Milestone S.r.l</th>\n",
       "      <td>60000</td>\n",
       "    </tr>\n",
       "    <tr>\n",
       "      <th>PQube</th>\n",
       "      <td>90000</td>\n",
       "    </tr>\n",
       "    <tr>\n",
       "      <th>Gun Media</th>\n",
       "      <td>90000</td>\n",
       "    </tr>\n",
       "    <tr>\n",
       "      <th>505 Games</th>\n",
       "      <td>110000</td>\n",
       "    </tr>\n",
       "  </tbody>\n",
       "</table>\n",
       "</div>"
      ],
      "text/plain": [
       "                 Europe\n",
       "Publisher              \n",
       "Koei Tecmo        40000\n",
       "Milestone S.r.l   60000\n",
       "PQube             90000\n",
       "Gun Media         90000\n",
       "505 Games        110000"
      ]
     },
     "execution_count": 48,
     "metadata": {},
     "output_type": "execute_result"
    }
   ],
   "source": [
    "#Europe\n",
    "\n",
    "Publisher_Europe=ps4[['Publisher','Europe']].groupby('Publisher').sum().sort_values('Europe')\n",
    "Publisher_Europe.head()"
   ]
  },
  {
   "cell_type": "code",
   "execution_count": 49,
   "id": "60fb1447",
   "metadata": {},
   "outputs": [
    {
     "data": {
      "text/plain": [
       "Text(0.5, 1.0, 'Europe Profit by Publisher')"
      ]
     },
     "execution_count": 49,
     "metadata": {},
     "output_type": "execute_result"
    },
    {
     "data": {
      "image/png": "[encoded data removed]",
      "text/plain": [
       "<Figure size 720x432 with 1 Axes>"
      ]
     },
     "metadata": {},
     "output_type": "display_data"
    }
   ],
   "source": [
    "#visualizing Europe\n",
    "\n",
    "Publisher_Europe.tail(10).plot(kind='barh', figsize=(10,6))\n",
    "plt.xlabel('Europe PS4 Profit')\n",
    "plt.title('Europe Profit by Publisher')"
   ]
  },
  {
   "cell_type": "code",
   "execution_count": 50,
   "id": "6a3f4809",
   "metadata": {},
   "outputs": [
    {
     "data": {
      "text/html": [
       "<div>\n",
       "<style scoped>\n",
       "    .dataframe tbody tr th:only-of-type {\n",
       "        vertical-align: middle;\n",
       "    }\n",
       "\n",
       "    .dataframe tbody tr th {\n",
       "        vertical-align: top;\n",
       "    }\n",
       "\n",
       "    .dataframe thead th {\n",
       "        text-align: right;\n",
       "    }\n",
       "</style>\n",
       "<table border=\"1\" class=\"dataframe\">\n",
       "  <thead>\n",
       "    <tr style=\"text-align: right;\">\n",
       "      <th></th>\n",
       "      <th>Japan</th>\n",
       "    </tr>\n",
       "    <tr>\n",
       "      <th>Publisher</th>\n",
       "      <th></th>\n",
       "    </tr>\n",
       "  </thead>\n",
       "  <tbody>\n",
       "    <tr>\n",
       "      <th>Milestone S.r.l</th>\n",
       "      <td>10000</td>\n",
       "    </tr>\n",
       "    <tr>\n",
       "      <th>2K Sports</th>\n",
       "      <td>20000</td>\n",
       "    </tr>\n",
       "    <tr>\n",
       "      <th>City Interactive</th>\n",
       "      <td>30000</td>\n",
       "    </tr>\n",
       "    <tr>\n",
       "      <th>Telltale Games</th>\n",
       "      <td>30000</td>\n",
       "    </tr>\n",
       "    <tr>\n",
       "      <th>Gun Media</th>\n",
       "      <td>30000</td>\n",
       "    </tr>\n",
       "  </tbody>\n",
       "</table>\n",
       "</div>"
      ],
      "text/plain": [
       "                  Japan\n",
       "Publisher              \n",
       "Milestone S.r.l   10000\n",
       "2K Sports         20000\n",
       "City Interactive  30000\n",
       "Telltale Games    30000\n",
       "Gun Media         30000"
      ]
     },
     "execution_count": 50,
     "metadata": {},
     "output_type": "execute_result"
    }
   ],
   "source": [
    "#Japan\n",
    "\n",
    "Publisher_Japan=ps4[['Publisher','Japan']].groupby('Publisher').sum().sort_values('Japan')\n",
    "Publisher_Japan.head()"
   ]
  },
  {
   "cell_type": "code",
   "execution_count": 51,
   "id": "40c8f437",
   "metadata": {},
   "outputs": [
    {
     "data": {
      "text/plain": [
       "Text(0.5, 1.0, 'Japan Profit by Publisher')"
      ]
     },
     "execution_count": 51,
     "metadata": {},
     "output_type": "execute_result"
    },
    {
     "data": {
      "image/png": "[encoded data removed]",
      "text/plain": [
       "<Figure size 720x432 with 1 Axes>"
      ]
     },
     "metadata": {},
     "output_type": "display_data"
    }
   ],
   "source": [
    "#visualizing Japan\n",
    "\n",
    "Publisher_Japan.tail(10).plot(kind='barh', figsize=(10,6))\n",
    "plt.xlabel('Japan PS4 Profit')\n",
    "plt.title('Japan Profit by Publisher')"
   ]
  },
  {
   "cell_type": "code",
   "execution_count": 52,
   "id": "feec2860",
   "metadata": {},
   "outputs": [
    {
     "data": {
      "text/html": [
       "<div>\n",
       "<style scoped>\n",
       "    .dataframe tbody tr th:only-of-type {\n",
       "        vertical-align: middle;\n",
       "    }\n",
       "\n",
       "    .dataframe tbody tr th {\n",
       "        vertical-align: top;\n",
       "    }\n",
       "\n",
       "    .dataframe thead th {\n",
       "        text-align: right;\n",
       "    }\n",
       "</style>\n",
       "<table border=\"1\" class=\"dataframe\">\n",
       "  <thead>\n",
       "    <tr style=\"text-align: right;\">\n",
       "      <th></th>\n",
       "      <th>Rest of World</th>\n",
       "    </tr>\n",
       "    <tr>\n",
       "      <th>Publisher</th>\n",
       "      <th></th>\n",
       "    </tr>\n",
       "  </thead>\n",
       "  <tbody>\n",
       "    <tr>\n",
       "      <th>Milestone S.r.l.</th>\n",
       "      <td>30000</td>\n",
       "    </tr>\n",
       "    <tr>\n",
       "      <th>Milestone S.r.l</th>\n",
       "      <td>30000</td>\n",
       "    </tr>\n",
       "    <tr>\n",
       "      <th>Koei Tecmo</th>\n",
       "      <td>30000</td>\n",
       "    </tr>\n",
       "    <tr>\n",
       "      <th>505 Games</th>\n",
       "      <td>50000</td>\n",
       "    </tr>\n",
       "    <tr>\n",
       "      <th>PQube</th>\n",
       "      <td>60000</td>\n",
       "    </tr>\n",
       "  </tbody>\n",
       "</table>\n",
       "</div>"
      ],
      "text/plain": [
       "                  Rest of World\n",
       "Publisher                      \n",
       "Milestone S.r.l.          30000\n",
       "Milestone S.r.l           30000\n",
       "Koei Tecmo                30000\n",
       "505 Games                 50000\n",
       "PQube                     60000"
      ]
     },
     "execution_count": 52,
     "metadata": {},
     "output_type": "execute_result"
    }
   ],
   "source": [
    "#Rest of World\n",
    "\n",
    "Publisher_World=ps4[['Publisher','Rest of World']].groupby('Publisher').sum().sort_values('Rest of World')\n",
    "Publisher_World.head()"
   ]
  },
  {
   "cell_type": "code",
   "execution_count": 53,
   "id": "b461e60f",
   "metadata": {},
   "outputs": [
    {
     "data": {
      "text/plain": [
       "Text(0.5, 1.0, 'Rest of World Profit by Publisher')"
      ]
     },
     "execution_count": 53,
     "metadata": {},
     "output_type": "execute_result"
    },
    {
     "data": {
      "image/png": "[encoded data removed]",
      "text/plain": [
       "<Figure size 720x432 with 1 Axes>"
      ]
     },
     "metadata": {},
     "output_type": "display_data"
    }
   ],
   "source": [
    "#visualizing Rest of World\n",
    "\n",
    "Publisher_World.tail(10).plot(kind='barh', figsize=(10,6))\n",
    "plt.xlabel('Rest of World PS4 Profit')\n",
    "plt.title('Rest of World Profit by Publisher')"
   ]
  },
  {
   "cell_type": "markdown",
   "id": "9bcb04e4",
   "metadata": {},
   "source": [
    "**=>Top 3 Publishers are:**\n",
    "    \n",
    "    1-Ubisoft\n",
    "    2-Electronic Arts\n",
    "    3-Square Enix"
   ]
  },
  {
   "cell_type": "markdown",
   "id": "36a1b8a8",
   "metadata": {},
   "source": [
    "## Fourthly, Analyze by Game"
   ]
  },
  {
   "cell_type": "code",
   "execution_count": 54,
   "id": "d05b268a",
   "metadata": {},
   "outputs": [
    {
     "data": {
      "text/html": [
       "<div>\n",
       "<style scoped>\n",
       "    .dataframe tbody tr th:only-of-type {\n",
       "        vertical-align: middle;\n",
       "    }\n",
       "\n",
       "    .dataframe tbody tr th {\n",
       "        vertical-align: top;\n",
       "    }\n",
       "\n",
       "    .dataframe thead th {\n",
       "        text-align: right;\n",
       "    }\n",
       "</style>\n",
       "<table border=\"1\" class=\"dataframe\">\n",
       "  <thead>\n",
       "    <tr style=\"text-align: right;\">\n",
       "      <th></th>\n",
       "      <th>Global</th>\n",
       "    </tr>\n",
       "    <tr>\n",
       "      <th>Game</th>\n",
       "      <th></th>\n",
       "    </tr>\n",
       "  </thead>\n",
       "  <tbody>\n",
       "    <tr>\n",
       "      <th>God Wars: Future Past</th>\n",
       "      <td>70000</td>\n",
       "    </tr>\n",
       "    <tr>\n",
       "      <th>WRC 6</th>\n",
       "      <td>80000</td>\n",
       "    </tr>\n",
       "    <tr>\n",
       "      <th>Sudden Strike 4</th>\n",
       "      <td>100000</td>\n",
       "    </tr>\n",
       "    <tr>\n",
       "      <th>Natural Doctrine</th>\n",
       "      <td>100000</td>\n",
       "    </tr>\n",
       "    <tr>\n",
       "      <th>Guilty Gear Xrd REV 2</th>\n",
       "      <td>100000</td>\n",
       "    </tr>\n",
       "  </tbody>\n",
       "</table>\n",
       "</div>"
      ],
      "text/plain": [
       "                       Global\n",
       "Game                         \n",
       "God Wars: Future Past   70000\n",
       "WRC 6                   80000\n",
       "Sudden Strike 4        100000\n",
       "Natural Doctrine       100000\n",
       "Guilty Gear Xrd REV 2  100000"
      ]
     },
     "execution_count": 54,
     "metadata": {},
     "output_type": "execute_result"
    }
   ],
   "source": [
    "#Global\n",
    "\n",
    "Game_Global=ps4[['Game','Global']].groupby('Game').sum().sort_values('Global')\n",
    "Game_Global.head()"
   ]
  },
  {
   "cell_type": "code",
   "execution_count": 55,
   "id": "3aed3430",
   "metadata": {},
   "outputs": [
    {
     "data": {
      "text/plain": [
       "Text(0.5, 1.0, 'Global Profit by Game')"
      ]
     },
     "execution_count": 55,
     "metadata": {},
     "output_type": "execute_result"
    },
    {
     "data": {
      "image/png": "[encoded data removed]",
      "text/plain": [
       "<Figure size 720x432 with 1 Axes>"
      ]
     },
     "metadata": {},
     "output_type": "display_data"
    }
   ],
   "source": [
    "#visualizing Globally\n",
    "\n",
    "Game_Global.tail(5).plot(kind='barh', figsize=(10,6))\n",
    "plt.xlabel('Global PS4 Profit')\n",
    "plt.title('Global Profit by Game')"
   ]
  },
  {
   "cell_type": "code",
   "execution_count": 56,
   "id": "563a04a9",
   "metadata": {},
   "outputs": [
    {
     "data": {
      "text/html": [
       "<div>\n",
       "<style scoped>\n",
       "    .dataframe tbody tr th:only-of-type {\n",
       "        vertical-align: middle;\n",
       "    }\n",
       "\n",
       "    .dataframe tbody tr th {\n",
       "        vertical-align: top;\n",
       "    }\n",
       "\n",
       "    .dataframe thead th {\n",
       "        text-align: right;\n",
       "    }\n",
       "</style>\n",
       "<table border=\"1\" class=\"dataframe\">\n",
       "  <thead>\n",
       "    <tr style=\"text-align: right;\">\n",
       "      <th></th>\n",
       "      <th>North America</th>\n",
       "    </tr>\n",
       "    <tr>\n",
       "      <th>Game</th>\n",
       "      <th></th>\n",
       "    </tr>\n",
       "  </thead>\n",
       "  <tbody>\n",
       "    <tr>\n",
       "      <th>Portal Knights</th>\n",
       "      <td>20000</td>\n",
       "    </tr>\n",
       "    <tr>\n",
       "      <th>Assassin's Creed Chronicles</th>\n",
       "      <td>20000</td>\n",
       "    </tr>\n",
       "    <tr>\n",
       "      <th>Gravity Rush Remastered</th>\n",
       "      <td>20000</td>\n",
       "    </tr>\n",
       "    <tr>\n",
       "      <th>The Witch and the Hundred Knight</th>\n",
       "      <td>30000</td>\n",
       "    </tr>\n",
       "    <tr>\n",
       "      <th>Arslan: The Warriors of Legend</th>\n",
       "      <td>30000</td>\n",
       "    </tr>\n",
       "  </tbody>\n",
       "</table>\n",
       "</div>"
      ],
      "text/plain": [
       "                                  North America\n",
       "Game                                           \n",
       "Portal Knights                            20000\n",
       "Assassin's Creed Chronicles               20000\n",
       "Gravity Rush Remastered                   20000\n",
       "The Witch and the Hundred Knight          30000\n",
       "Arslan: The Warriors of Legend            30000"
      ]
     },
     "execution_count": 56,
     "metadata": {},
     "output_type": "execute_result"
    }
   ],
   "source": [
    "#North America\n",
    "\n",
    "Game_North=ps4[['Game','North America']].groupby('Game').sum().sort_values('North America')\n",
    "Game_North.head()"
   ]
  },
  {
   "cell_type": "code",
   "execution_count": 57,
   "id": "a5ac9db9",
   "metadata": {},
   "outputs": [
    {
     "data": {
      "text/plain": [
       "Text(0.5, 1.0, 'North America Profit by Game')"
      ]
     },
     "execution_count": 57,
     "metadata": {},
     "output_type": "execute_result"
    },
    {
     "data": {
      "image/png": "[encoded data removed]",
      "text/plain": [
       "<Figure size 720x432 with 1 Axes>"
      ]
     },
     "metadata": {},
     "output_type": "display_data"
    }
   ],
   "source": [
    "#visualizing North America\n",
    "\n",
    "Game_North.tail(5).plot(kind='barh', figsize=(10,6))\n",
    "plt.xlabel('North America PS4 Profit')\n",
    "plt.title('North America Profit by Game')"
   ]
  },
  {
   "cell_type": "code",
   "execution_count": 58,
   "id": "f896ec99",
   "metadata": {},
   "outputs": [
    {
     "data": {
      "text/html": [
       "<div>\n",
       "<style scoped>\n",
       "    .dataframe tbody tr th:only-of-type {\n",
       "        vertical-align: middle;\n",
       "    }\n",
       "\n",
       "    .dataframe tbody tr th {\n",
       "        vertical-align: top;\n",
       "    }\n",
       "\n",
       "    .dataframe thead th {\n",
       "        text-align: right;\n",
       "    }\n",
       "</style>\n",
       "<table border=\"1\" class=\"dataframe\">\n",
       "  <thead>\n",
       "    <tr style=\"text-align: right;\">\n",
       "      <th></th>\n",
       "      <th>Europe</th>\n",
       "    </tr>\n",
       "    <tr>\n",
       "      <th>Game</th>\n",
       "      <th></th>\n",
       "    </tr>\n",
       "  </thead>\n",
       "  <tbody>\n",
       "    <tr>\n",
       "      <th>The Witch and the Hundred Knight</th>\n",
       "      <td>10000</td>\n",
       "    </tr>\n",
       "    <tr>\n",
       "      <th>Guilty Gear Xrd REV 2</th>\n",
       "      <td>10000</td>\n",
       "    </tr>\n",
       "    <tr>\n",
       "      <th>God Wars: Future Past</th>\n",
       "      <td>10000</td>\n",
       "    </tr>\n",
       "    <tr>\n",
       "      <th>Samurai Warriors 4: Empires</th>\n",
       "      <td>10000</td>\n",
       "    </tr>\n",
       "    <tr>\n",
       "      <th>Berserk and the Band of the Hawk</th>\n",
       "      <td>20000</td>\n",
       "    </tr>\n",
       "  </tbody>\n",
       "</table>\n",
       "</div>"
      ],
      "text/plain": [
       "                                  Europe\n",
       "Game                                    \n",
       "The Witch and the Hundred Knight   10000\n",
       "Guilty Gear Xrd REV 2              10000\n",
       "God Wars: Future Past              10000\n",
       "Samurai Warriors 4: Empires        10000\n",
       "Berserk and the Band of the Hawk   20000"
      ]
     },
     "execution_count": 58,
     "metadata": {},
     "output_type": "execute_result"
    }
   ],
   "source": [
    "#Europe\n",
    "\n",
    "Game_Europe=ps4[['Game','Europe']].groupby('Game').sum().sort_values('Europe')\n",
    "Game_Europe.head()"
   ]
  },
  {
   "cell_type": "code",
   "execution_count": 59,
   "id": "89085d7a",
   "metadata": {},
   "outputs": [
    {
     "data": {
      "text/plain": [
       "Text(0.5, 1.0, 'Europe Profit by Game')"
      ]
     },
     "execution_count": 59,
     "metadata": {},
     "output_type": "execute_result"
    },
    {
     "data": {
      "image/png": "[encoded data removed]",
      "text/plain": [
       "<Figure size 720x432 with 1 Axes>"
      ]
     },
     "metadata": {},
     "output_type": "display_data"
    }
   ],
   "source": [
    "#visualizing Europe\n",
    "\n",
    "Game_Europe.tail(5).plot(kind='barh', figsize=(10,6))\n",
    "plt.xlabel('Europe PS4 Profit')\n",
    "plt.title('Europe Profit by Game')"
   ]
  },
  {
   "cell_type": "code",
   "execution_count": 60,
   "id": "e9007934",
   "metadata": {},
   "outputs": [
    {
     "data": {
      "text/html": [
       "<div>\n",
       "<style scoped>\n",
       "    .dataframe tbody tr th:only-of-type {\n",
       "        vertical-align: middle;\n",
       "    }\n",
       "\n",
       "    .dataframe tbody tr th {\n",
       "        vertical-align: top;\n",
       "    }\n",
       "\n",
       "    .dataframe thead th {\n",
       "        text-align: right;\n",
       "    }\n",
       "</style>\n",
       "<table border=\"1\" class=\"dataframe\">\n",
       "  <thead>\n",
       "    <tr style=\"text-align: right;\">\n",
       "      <th></th>\n",
       "      <th>Japan</th>\n",
       "    </tr>\n",
       "    <tr>\n",
       "      <th>Game</th>\n",
       "      <th></th>\n",
       "    </tr>\n",
       "  </thead>\n",
       "  <tbody>\n",
       "    <tr>\n",
       "      <th>NBA 2K14</th>\n",
       "      <td>10000</td>\n",
       "    </tr>\n",
       "    <tr>\n",
       "      <th>LEGO Marvel's Avengers</th>\n",
       "      <td>10000</td>\n",
       "    </tr>\n",
       "    <tr>\n",
       "      <th>Lego Marvel Super Heroes</th>\n",
       "      <td>10000</td>\n",
       "    </tr>\n",
       "    <tr>\n",
       "      <th>The Elder Scrolls V: Skyrim PSVR</th>\n",
       "      <td>10000</td>\n",
       "    </tr>\n",
       "    <tr>\n",
       "      <th>Knack 2</th>\n",
       "      <td>10000</td>\n",
       "    </tr>\n",
       "  </tbody>\n",
       "</table>\n",
       "</div>"
      ],
      "text/plain": [
       "                                  Japan\n",
       "Game                                   \n",
       "NBA 2K14                          10000\n",
       "LEGO Marvel's Avengers            10000\n",
       "Lego Marvel Super Heroes          10000\n",
       "The Elder Scrolls V: Skyrim PSVR  10000\n",
       "Knack 2                           10000"
      ]
     },
     "execution_count": 60,
     "metadata": {},
     "output_type": "execute_result"
    }
   ],
   "source": [
    "#Japan\n",
    "\n",
    "Game_Japan=ps4[['Game','Japan']].groupby('Game').sum().sort_values('Japan')\n",
    "Game_Japan.head()"
   ]
  },
  {
   "cell_type": "code",
   "execution_count": 61,
   "id": "4d1fe0d9",
   "metadata": {},
   "outputs": [
    {
     "data": {
      "text/plain": [
       "Text(0.5, 1.0, 'Japan Profit by Game')"
      ]
     },
     "execution_count": 61,
     "metadata": {},
     "output_type": "execute_result"
    },
    {
     "data": {
      "image/png": "[encoded data removed]",
      "text/plain": [
       "<Figure size 720x432 with 1 Axes>"
      ]
     },
     "metadata": {},
     "output_type": "display_data"
    }
   ],
   "source": [
    "#visualizing Japan\n",
    "\n",
    "Game_Japan.tail(5).plot(kind='barh', figsize=(10,6))\n",
    "plt.xlabel('Japan PS4 Profit')\n",
    "plt.title('Japan Profit by Game')"
   ]
  },
  {
   "cell_type": "code",
   "execution_count": 62,
   "id": "bed6d417",
   "metadata": {},
   "outputs": [
    {
     "data": {
      "text/html": [
       "<div>\n",
       "<style scoped>\n",
       "    .dataframe tbody tr th:only-of-type {\n",
       "        vertical-align: middle;\n",
       "    }\n",
       "\n",
       "    .dataframe tbody tr th {\n",
       "        vertical-align: top;\n",
       "    }\n",
       "\n",
       "    .dataframe thead th {\n",
       "        text-align: right;\n",
       "    }\n",
       "</style>\n",
       "<table border=\"1\" class=\"dataframe\">\n",
       "  <thead>\n",
       "    <tr style=\"text-align: right;\">\n",
       "      <th></th>\n",
       "      <th>Rest of World</th>\n",
       "    </tr>\n",
       "    <tr>\n",
       "      <th>Game</th>\n",
       "      <th></th>\n",
       "    </tr>\n",
       "  </thead>\n",
       "  <tbody>\n",
       "    <tr>\n",
       "      <th>Natural Doctrine</th>\n",
       "      <td>10000</td>\n",
       "    </tr>\n",
       "    <tr>\n",
       "      <th>Guilty Gear Xrd REV 2</th>\n",
       "      <td>10000</td>\n",
       "    </tr>\n",
       "    <tr>\n",
       "      <th>Portal Knights</th>\n",
       "      <td>10000</td>\n",
       "    </tr>\n",
       "    <tr>\n",
       "      <th>God Wars: Future Past</th>\n",
       "      <td>10000</td>\n",
       "    </tr>\n",
       "    <tr>\n",
       "      <th>Samurai Warriors 4-II</th>\n",
       "      <td>10000</td>\n",
       "    </tr>\n",
       "  </tbody>\n",
       "</table>\n",
       "</div>"
      ],
      "text/plain": [
       "                       Rest of World\n",
       "Game                                \n",
       "Natural Doctrine               10000\n",
       "Guilty Gear Xrd REV 2          10000\n",
       "Portal Knights                 10000\n",
       "God Wars: Future Past          10000\n",
       "Samurai Warriors 4-II          10000"
      ]
     },
     "execution_count": 62,
     "metadata": {},
     "output_type": "execute_result"
    }
   ],
   "source": [
    "#Rest of World\n",
    "\n",
    "Game_World=ps4[['Game','Rest of World']].groupby('Game').sum().sort_values('Rest of World')\n",
    "Game_World.head()"
   ]
  },
  {
   "cell_type": "code",
   "execution_count": 63,
   "id": "a92f5ad1",
   "metadata": {},
   "outputs": [
    {
     "data": {
      "text/plain": [
       "Text(0.5, 1.0, 'Rest of World Profit by Game')"
      ]
     },
     "execution_count": 63,
     "metadata": {},
     "output_type": "execute_result"
    },
    {
     "data": {
      "image/png": "[encoded data removed]",
      "text/plain": [
       "<Figure size 720x432 with 1 Axes>"
      ]
     },
     "metadata": {},
     "output_type": "display_data"
    }
   ],
   "source": [
    "#visualizing Rest of World\n",
    "\n",
    "Game_World.tail(5).plot(kind='barh', figsize=(10,6))\n",
    "plt.xlabel('Rest of World PS4 Profit')\n",
    "plt.title('Rest of World Profit by Game')"
   ]
  },
  {
   "cell_type": "markdown",
   "id": "ae94c1f9",
   "metadata": {},
   "source": [
    "**=>Trending 5 Games are:**\n",
    "    \n",
    "    -Star Wars\n",
    "    -Tom Clancy\n",
    "    -Watch Dogs\n",
    "    -Gran Turisma\n",
    "    -Call of Duty\n",
    "    -Batman"
   ]
  },
  {
   "cell_type": "markdown",
   "id": "19e68c12",
   "metadata": {},
   "source": [
    "*Lastly, we shall investigate the correlation between profit and past years to evaluate PS4 performance and whether it's becoming popular or not.*"
   ]
  },
  {
   "cell_type": "code",
   "execution_count": 64,
   "id": "9c79888e",
   "metadata": {},
   "outputs": [
    {
     "data": {
      "text/html": [
       "<div>\n",
       "<style scoped>\n",
       "    .dataframe tbody tr th:only-of-type {\n",
       "        vertical-align: middle;\n",
       "    }\n",
       "\n",
       "    .dataframe tbody tr th {\n",
       "        vertical-align: top;\n",
       "    }\n",
       "\n",
       "    .dataframe thead th {\n",
       "        text-align: right;\n",
       "    }\n",
       "</style>\n",
       "<table border=\"1\" class=\"dataframe\">\n",
       "  <thead>\n",
       "    <tr style=\"text-align: right;\">\n",
       "      <th></th>\n",
       "      <th>Year</th>\n",
       "      <th>Global</th>\n",
       "      <th>North America</th>\n",
       "      <th>Japan</th>\n",
       "      <th>Rest of World</th>\n",
       "    </tr>\n",
       "  </thead>\n",
       "  <tbody>\n",
       "    <tr>\n",
       "      <th>Year</th>\n",
       "      <td>1.000000</td>\n",
       "      <td>-0.246243</td>\n",
       "      <td>-0.240903</td>\n",
       "      <td>0.115679</td>\n",
       "      <td>-0.256060</td>\n",
       "    </tr>\n",
       "    <tr>\n",
       "      <th>Global</th>\n",
       "      <td>-0.246243</td>\n",
       "      <td>1.000000</td>\n",
       "      <td>0.937542</td>\n",
       "      <td>0.280992</td>\n",
       "      <td>0.997801</td>\n",
       "    </tr>\n",
       "    <tr>\n",
       "      <th>North America</th>\n",
       "      <td>-0.240903</td>\n",
       "      <td>0.937542</td>\n",
       "      <td>1.000000</td>\n",
       "      <td>0.235396</td>\n",
       "      <td>0.952215</td>\n",
       "    </tr>\n",
       "    <tr>\n",
       "      <th>Japan</th>\n",
       "      <td>0.115679</td>\n",
       "      <td>0.280992</td>\n",
       "      <td>0.235396</td>\n",
       "      <td>1.000000</td>\n",
       "      <td>0.236044</td>\n",
       "    </tr>\n",
       "    <tr>\n",
       "      <th>Rest of World</th>\n",
       "      <td>-0.256060</td>\n",
       "      <td>0.997801</td>\n",
       "      <td>0.952215</td>\n",
       "      <td>0.236044</td>\n",
       "      <td>1.000000</td>\n",
       "    </tr>\n",
       "  </tbody>\n",
       "</table>\n",
       "</div>"
      ],
      "text/plain": [
       "                   Year    Global  North America     Japan  Rest of World\n",
       "Year           1.000000 -0.246243      -0.240903  0.115679      -0.256060\n",
       "Global        -0.246243  1.000000       0.937542  0.280992       0.997801\n",
       "North America -0.240903  0.937542       1.000000  0.235396       0.952215\n",
       "Japan          0.115679  0.280992       0.235396  1.000000       0.236044\n",
       "Rest of World -0.256060  0.997801       0.952215  0.236044       1.000000"
      ]
     },
     "execution_count": 64,
     "metadata": {},
     "output_type": "execute_result"
    }
   ],
   "source": [
    "ps4[['Year','Global','North America','Japan','Rest of World']].corr()"
   ]
  },
  {
   "cell_type": "code",
   "execution_count": 65,
   "id": "5f82530d",
   "metadata": {},
   "outputs": [
    {
     "data": {
      "text/plain": [
       "(-0.24624291334568205, 0.0003148874859086504)"
      ]
     },
     "execution_count": 65,
     "metadata": {},
     "output_type": "execute_result"
    }
   ],
   "source": [
    "#Evaluating Pearson coefficient and p-value\n",
    "\n",
    "pearson_coef, p_value= stats.pearsonr(ps4['Year'],ps4['Global'])\n",
    "pearson_coef, p_value"
   ]
  },
  {
   "cell_type": "code",
   "execution_count": null,
   "id": "f51b58fe",
   "metadata": {},
   "outputs": [],
   "source": [
    "#plotting the relationship\n",
    "plt.figure(figsize=(10,5))\n",
    "plt.title('Correlation between Previous Years and Global Performance')\n",
    "sns.regplot(x='Year', y='Global', data=ps4)"
   ]
  },
  {
   "cell_type": "markdown",
   "id": "900dcbca",
   "metadata": {},
   "source": [
    "**It seems that the profit of PS4 from a global perspective has been being impacted negatively as years pass by. However, we need to put into consideration that pearsonr calculation says that this correlation is weak, and the p-value indicates that maybe this could be due to chance. In other words, the problem could be in the sample. We may need more data for further investigation**"
   ]
  },
  {
   "cell_type": "code",
   "execution_count": null,
   "id": "f2afefc4",
   "metadata": {},
   "outputs": [],
   "source": [
    "ps4.to_csv('PS4_PROJECT.CSV')"
   ]
  },
  {
   "cell_type": "markdown",
   "id": "9904d84e",
   "metadata": {},
   "source": [
    "# Data Findings:"
   ]
  },
  {
   "cell_type": "markdown",
   "id": "6f71f1b7",
   "metadata": {},
   "source": [
    "**=> The top 5 genre are:**\n",
    "\n",
    "    1-Action\n",
    "    2-Shooter\n",
    "    3-Action Adventure\n",
    "    4-Role-Playing\n",
    "    5-Racing\n",
    "\n",
    "**=> 2015 & 2016 have witnessed a spike in sales**\n",
    "\n",
    "**=>Top 3 Publishers are:**\n",
    "\n",
    "    1-Ubisoft\n",
    "    2-Electronic Arts\n",
    "    3-Square Enix\n",
    "    \n",
    "**=>Trending 5 Games are:**\n",
    "\n",
    "    -Star Wars\n",
    "    -Tom Clancy\n",
    "    -Watch Dogs\n",
    "    -Gran Turisma\n",
    "    -Call of Duty\n",
    "    -Batman"
   ]
  },
  {
   "cell_type": "code",
   "execution_count": null,
   "id": "c392212f",
   "metadata": {},
   "outputs": [],
   "source": []
  }
 ],
 "metadata": {
  "kernelspec": {
   "display_name": "Python 3 (ipykernel)",
   "language": "python",
   "name": "python3"
  },
  "language_info": {
   "codemirror_mode": {
    "name": "ipython",
    "version": 3
   },
   "file_extension": ".py",
   "mimetype": "text/x-python",
   "name": "python",
   "nbconvert_exporter": "python",
   "pygments_lexer": "ipython3",
   "version": "3.9.7"
  }
 },
 "nbformat": 4,
 "nbformat_minor": 5
}
