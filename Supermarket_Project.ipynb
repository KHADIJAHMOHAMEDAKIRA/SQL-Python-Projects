{
 "cells": [
  {
   "cell_type": "code",
   "execution_count": 1,
   "id": "2e2a6348",
   "metadata": {},
   "outputs": [],
   "source": [
    "import pandas as pd\n",
    "import numpy as np\n",
    "from scipy import stats\n",
    "import matplotlib.pyplot as plt \n",
    "import seaborn as sns\n",
    "%matplotlib inline\n",
    "from matplotlib import style\n",
    "import pymysql"
   ]
  },
  {
   "cell_type": "code",
   "execution_count": 2,
   "id": "5f77ce04",
   "metadata": {},
   "outputs": [
    {
     "data": {
      "text/plain": [
       "<pymysql.connections.Connection at 0x1d652421550>"
      ]
     },
     "execution_count": 2,
     "metadata": {},
     "output_type": "execute_result"
    }
   ],
   "source": [
    "conn = pymysql.connect(host='localhost', port = int(3306), user='root', passwd='1a_2b_3c_4d$', db='supermarket')\n",
    "conn"
   ]
  },
  {
   "cell_type": "markdown",
   "id": "fc24b882",
   "metadata": {},
   "source": [
    "**Our data is supermarket sales data for 2019: \"The first Quarter only\". So, let's first query the required data format as a view with the appropriate comlumn type**"
   ]
  },
  {
   "cell_type": "code",
   "execution_count": 3,
   "id": "ad681404",
   "metadata": {},
   "outputs": [
    {
     "data": {
      "text/html": [
       "<div>\n",
       "<style scoped>\n",
       "    .dataframe tbody tr th:only-of-type {\n",
       "        vertical-align: middle;\n",
       "    }\n",
       "\n",
       "    .dataframe tbody tr th {\n",
       "        vertical-align: top;\n",
       "    }\n",
       "\n",
       "    .dataframe thead th {\n",
       "        text-align: right;\n",
       "    }\n",
       "</style>\n",
       "<table border=\"1\" class=\"dataframe\">\n",
       "  <thead>\n",
       "    <tr style=\"text-align: right;\">\n",
       "      <th></th>\n",
       "      <th>COLUMN_NAME</th>\n",
       "      <th>DATA_TYPE</th>\n",
       "    </tr>\n",
       "  </thead>\n",
       "  <tbody>\n",
       "    <tr>\n",
       "      <th>0</th>\n",
       "      <td>Invoice ID</td>\n",
       "      <td>text</td>\n",
       "    </tr>\n",
       "    <tr>\n",
       "      <th>1</th>\n",
       "      <td>Branch</td>\n",
       "      <td>text</td>\n",
       "    </tr>\n",
       "    <tr>\n",
       "      <th>2</th>\n",
       "      <td>City</td>\n",
       "      <td>text</td>\n",
       "    </tr>\n",
       "    <tr>\n",
       "      <th>3</th>\n",
       "      <td>Customer type</td>\n",
       "      <td>text</td>\n",
       "    </tr>\n",
       "    <tr>\n",
       "      <th>4</th>\n",
       "      <td>Gender</td>\n",
       "      <td>text</td>\n",
       "    </tr>\n",
       "    <tr>\n",
       "      <th>5</th>\n",
       "      <td>Product line</td>\n",
       "      <td>text</td>\n",
       "    </tr>\n",
       "    <tr>\n",
       "      <th>6</th>\n",
       "      <td>Unit price</td>\n",
       "      <td>double</td>\n",
       "    </tr>\n",
       "    <tr>\n",
       "      <th>7</th>\n",
       "      <td>Quantity</td>\n",
       "      <td>int</td>\n",
       "    </tr>\n",
       "    <tr>\n",
       "      <th>8</th>\n",
       "      <td>Tax 5%</td>\n",
       "      <td>double</td>\n",
       "    </tr>\n",
       "    <tr>\n",
       "      <th>9</th>\n",
       "      <td>Total</td>\n",
       "      <td>double</td>\n",
       "    </tr>\n",
       "    <tr>\n",
       "      <th>10</th>\n",
       "      <td>Date</td>\n",
       "      <td>text</td>\n",
       "    </tr>\n",
       "    <tr>\n",
       "      <th>11</th>\n",
       "      <td>Time</td>\n",
       "      <td>text</td>\n",
       "    </tr>\n",
       "    <tr>\n",
       "      <th>12</th>\n",
       "      <td>Payment</td>\n",
       "      <td>text</td>\n",
       "    </tr>\n",
       "    <tr>\n",
       "      <th>13</th>\n",
       "      <td>cogs</td>\n",
       "      <td>double</td>\n",
       "    </tr>\n",
       "    <tr>\n",
       "      <th>14</th>\n",
       "      <td>gross margin percentage</td>\n",
       "      <td>double</td>\n",
       "    </tr>\n",
       "    <tr>\n",
       "      <th>15</th>\n",
       "      <td>gross income</td>\n",
       "      <td>double</td>\n",
       "    </tr>\n",
       "    <tr>\n",
       "      <th>16</th>\n",
       "      <td>Rating</td>\n",
       "      <td>double</td>\n",
       "    </tr>\n",
       "  </tbody>\n",
       "</table>\n",
       "</div>"
      ],
      "text/plain": [
       "                COLUMN_NAME DATA_TYPE\n",
       "0                Invoice ID      text\n",
       "1                    Branch      text\n",
       "2                      City      text\n",
       "3             Customer type      text\n",
       "4                    Gender      text\n",
       "5              Product line      text\n",
       "6                Unit price    double\n",
       "7                  Quantity       int\n",
       "8                    Tax 5%    double\n",
       "9                     Total    double\n",
       "10                     Date      text\n",
       "11                     Time      text\n",
       "12                  Payment      text\n",
       "13                     cogs    double\n",
       "14  gross margin percentage    double\n",
       "15             gross income    double\n",
       "16                   Rating    double"
      ]
     },
     "execution_count": 3,
     "metadata": {},
     "output_type": "execute_result"
    }
   ],
   "source": [
    "#checking data type\n",
    "\n",
    "data_type = pd.read_sql_query(\"\"\"SELECT \n",
    "    COLUMN_NAME, DATA_TYPE\n",
    "FROM\n",
    "    INFORMATION_SCHEMA.COLUMNS\n",
    "WHERE\n",
    "    TABLE_NAME = 'supermarket_sales'\"\"\", conn)\n",
    "\n",
    "data_type"
   ]
  },
  {
   "cell_type": "code",
   "execution_count": 4,
   "id": "7cc6e211",
   "metadata": {},
   "outputs": [
    {
     "data": {
      "text/html": [
       "<div>\n",
       "<style scoped>\n",
       "    .dataframe tbody tr th:only-of-type {\n",
       "        vertical-align: middle;\n",
       "    }\n",
       "\n",
       "    .dataframe tbody tr th {\n",
       "        vertical-align: top;\n",
       "    }\n",
       "\n",
       "    .dataframe thead th {\n",
       "        text-align: right;\n",
       "    }\n",
       "</style>\n",
       "<table border=\"1\" class=\"dataframe\">\n",
       "  <thead>\n",
       "    <tr style=\"text-align: right;\">\n",
       "      <th></th>\n",
       "      <th>Invoice ID</th>\n",
       "      <th>Date</th>\n",
       "      <th>Month</th>\n",
       "      <th>Branch</th>\n",
       "      <th>City</th>\n",
       "      <th>Customer type</th>\n",
       "      <th>Gender</th>\n",
       "      <th>Product Line</th>\n",
       "      <th>Payment</th>\n",
       "      <th>Net Profit</th>\n",
       "      <th>Rating</th>\n",
       "    </tr>\n",
       "  </thead>\n",
       "  <tbody>\n",
       "    <tr>\n",
       "      <th>0</th>\n",
       "      <td>750-67-8428</td>\n",
       "      <td>2019-01-05</td>\n",
       "      <td>January</td>\n",
       "      <td>A</td>\n",
       "      <td>Yangon</td>\n",
       "      <td>Member</td>\n",
       "      <td>Female</td>\n",
       "      <td>Health and beauty</td>\n",
       "      <td>Ewallet</td>\n",
       "      <td>26.1415</td>\n",
       "      <td>9.1</td>\n",
       "    </tr>\n",
       "    <tr>\n",
       "      <th>1</th>\n",
       "      <td>226-31-3081</td>\n",
       "      <td>2019-03-08</td>\n",
       "      <td>March</td>\n",
       "      <td>C</td>\n",
       "      <td>Naypyitaw</td>\n",
       "      <td>Normal</td>\n",
       "      <td>Female</td>\n",
       "      <td>Electronic accessories</td>\n",
       "      <td>Cash</td>\n",
       "      <td>3.8200</td>\n",
       "      <td>9.6</td>\n",
       "    </tr>\n",
       "    <tr>\n",
       "      <th>2</th>\n",
       "      <td>631-41-3108</td>\n",
       "      <td>2019-03-03</td>\n",
       "      <td>March</td>\n",
       "      <td>A</td>\n",
       "      <td>Yangon</td>\n",
       "      <td>Normal</td>\n",
       "      <td>Male</td>\n",
       "      <td>Home and lifestyle</td>\n",
       "      <td>Credit card</td>\n",
       "      <td>16.2155</td>\n",
       "      <td>7.4</td>\n",
       "    </tr>\n",
       "    <tr>\n",
       "      <th>3</th>\n",
       "      <td>123-19-1176</td>\n",
       "      <td>2019-01-27</td>\n",
       "      <td>January</td>\n",
       "      <td>A</td>\n",
       "      <td>Yangon</td>\n",
       "      <td>Member</td>\n",
       "      <td>Male</td>\n",
       "      <td>Health and beauty</td>\n",
       "      <td>Ewallet</td>\n",
       "      <td>23.2880</td>\n",
       "      <td>8.4</td>\n",
       "    </tr>\n",
       "    <tr>\n",
       "      <th>4</th>\n",
       "      <td>373-73-7910</td>\n",
       "      <td>2019-02-08</td>\n",
       "      <td>February</td>\n",
       "      <td>A</td>\n",
       "      <td>Yangon</td>\n",
       "      <td>Normal</td>\n",
       "      <td>Male</td>\n",
       "      <td>Sports and travel</td>\n",
       "      <td>Ewallet</td>\n",
       "      <td>30.2085</td>\n",
       "      <td>5.3</td>\n",
       "    </tr>\n",
       "    <tr>\n",
       "      <th>...</th>\n",
       "      <td>...</td>\n",
       "      <td>...</td>\n",
       "      <td>...</td>\n",
       "      <td>...</td>\n",
       "      <td>...</td>\n",
       "      <td>...</td>\n",
       "      <td>...</td>\n",
       "      <td>...</td>\n",
       "      <td>...</td>\n",
       "      <td>...</td>\n",
       "      <td>...</td>\n",
       "    </tr>\n",
       "    <tr>\n",
       "      <th>817</th>\n",
       "      <td>832-51-6761</td>\n",
       "      <td>2019-01-19</td>\n",
       "      <td>January</td>\n",
       "      <td>A</td>\n",
       "      <td>Yangon</td>\n",
       "      <td>Normal</td>\n",
       "      <td>Male</td>\n",
       "      <td>Food and beverages</td>\n",
       "      <td>Ewallet</td>\n",
       "      <td>13.5520</td>\n",
       "      <td>9.6</td>\n",
       "    </tr>\n",
       "    <tr>\n",
       "      <th>818</th>\n",
       "      <td>869-11-3082</td>\n",
       "      <td>2019-01-27</td>\n",
       "      <td>January</td>\n",
       "      <td>B</td>\n",
       "      <td>Mandalay</td>\n",
       "      <td>Member</td>\n",
       "      <td>Male</td>\n",
       "      <td>Health and beauty</td>\n",
       "      <td>Credit card</td>\n",
       "      <td>19.2320</td>\n",
       "      <td>8.4</td>\n",
       "    </tr>\n",
       "    <tr>\n",
       "      <th>819</th>\n",
       "      <td>190-59-3964</td>\n",
       "      <td>2019-02-03</td>\n",
       "      <td>February</td>\n",
       "      <td>B</td>\n",
       "      <td>Mandalay</td>\n",
       "      <td>Member</td>\n",
       "      <td>Male</td>\n",
       "      <td>Food and beverages</td>\n",
       "      <td>Credit card</td>\n",
       "      <td>11.7900</td>\n",
       "      <td>6.0</td>\n",
       "    </tr>\n",
       "    <tr>\n",
       "      <th>820</th>\n",
       "      <td>366-43-6862</td>\n",
       "      <td>2019-03-25</td>\n",
       "      <td>March</td>\n",
       "      <td>B</td>\n",
       "      <td>Mandalay</td>\n",
       "      <td>Normal</td>\n",
       "      <td>Male</td>\n",
       "      <td>Electronic accessories</td>\n",
       "      <td>Ewallet</td>\n",
       "      <td>10.5780</td>\n",
       "      <td>6.7</td>\n",
       "    </tr>\n",
       "    <tr>\n",
       "      <th>821</th>\n",
       "      <td>186-43-8965</td>\n",
       "      <td>2019-02-24</td>\n",
       "      <td>February</td>\n",
       "      <td>A</td>\n",
       "      <td>Yangon</td>\n",
       "      <td>Member</td>\n",
       "      <td>Female</td>\n",
       "      <td>Home and lifestyle</td>\n",
       "      <td>Credit card</td>\n",
       "      <td>4.7680</td>\n",
       "      <td>4.1</td>\n",
       "    </tr>\n",
       "  </tbody>\n",
       "</table>\n",
       "<p>822 rows × 11 columns</p>\n",
       "</div>"
      ],
      "text/plain": [
       "      Invoice ID        Date     Month Branch       City Customer type  \\\n",
       "0    750-67-8428  2019-01-05   January      A     Yangon        Member   \n",
       "1    226-31-3081  2019-03-08     March      C  Naypyitaw        Normal   \n",
       "2    631-41-3108  2019-03-03     March      A     Yangon        Normal   \n",
       "3    123-19-1176  2019-01-27   January      A     Yangon        Member   \n",
       "4    373-73-7910  2019-02-08  February      A     Yangon        Normal   \n",
       "..           ...         ...       ...    ...        ...           ...   \n",
       "817  832-51-6761  2019-01-19   January      A     Yangon        Normal   \n",
       "818  869-11-3082  2019-01-27   January      B   Mandalay        Member   \n",
       "819  190-59-3964  2019-02-03  February      B   Mandalay        Member   \n",
       "820  366-43-6862  2019-03-25     March      B   Mandalay        Normal   \n",
       "821  186-43-8965  2019-02-24  February      A     Yangon        Member   \n",
       "\n",
       "     Gender            Product Line      Payment  Net Profit  Rating  \n",
       "0    Female       Health and beauty      Ewallet     26.1415     9.1  \n",
       "1    Female  Electronic accessories         Cash      3.8200     9.6  \n",
       "2      Male      Home and lifestyle  Credit card     16.2155     7.4  \n",
       "3      Male       Health and beauty      Ewallet     23.2880     8.4  \n",
       "4      Male       Sports and travel      Ewallet     30.2085     5.3  \n",
       "..      ...                     ...          ...         ...     ...  \n",
       "817    Male      Food and beverages      Ewallet     13.5520     9.6  \n",
       "818    Male       Health and beauty  Credit card     19.2320     8.4  \n",
       "819    Male      Food and beverages  Credit card     11.7900     6.0  \n",
       "820    Male  Electronic accessories      Ewallet     10.5780     6.7  \n",
       "821  Female      Home and lifestyle  Credit card      4.7680     4.1  \n",
       "\n",
       "[822 rows x 11 columns]"
      ]
     },
     "execution_count": 4,
     "metadata": {},
     "output_type": "execute_result"
    }
   ],
   "source": [
    "#querying required data\n",
    "\n",
    "supermarket = pd.read_sql_query(\"\"\"SELECT \n",
    "        `Invoice ID`,\n",
    "        STR_TO_DATE(date, '%c/%e/%Y') AS Date,\n",
    "        monthname(STR_TO_DATE(date, '%c/%e/%Y')) as Month,\n",
    "        Branch,\n",
    "        City,\n",
    "        `Customer type`,\n",
    "        Gender,\n",
    "        `Product Line`,\n",
    "        Payment,\n",
    "        `gross income` AS `Net Profit`,\n",
    "        Rating\n",
    "    FROM\n",
    "    supermarket_sales\n",
    "\"\"\", conn)\n",
    "\n",
    "supermarket"
   ]
  },
  {
   "cell_type": "code",
   "execution_count": 5,
   "id": "2e0c1084",
   "metadata": {},
   "outputs": [
    {
     "data": {
      "text/plain": [
       "Invoice ID        object\n",
       "Date              object\n",
       "Month             object\n",
       "Branch            object\n",
       "City              object\n",
       "Customer type     object\n",
       "Gender            object\n",
       "Product Line      object\n",
       "Payment           object\n",
       "Net Profit       float64\n",
       "Rating           float64\n",
       "dtype: object"
      ]
     },
     "execution_count": 5,
     "metadata": {},
     "output_type": "execute_result"
    }
   ],
   "source": [
    "#checking data types\n",
    "\n",
    "supermarket.dtypes"
   ]
  },
  {
   "cell_type": "code",
   "execution_count": 6,
   "id": "2eb522d3",
   "metadata": {},
   "outputs": [
    {
     "data": {
      "text/html": [
       "<div>\n",
       "<style scoped>\n",
       "    .dataframe tbody tr th:only-of-type {\n",
       "        vertical-align: middle;\n",
       "    }\n",
       "\n",
       "    .dataframe tbody tr th {\n",
       "        vertical-align: top;\n",
       "    }\n",
       "\n",
       "    .dataframe thead th {\n",
       "        text-align: right;\n",
       "    }\n",
       "</style>\n",
       "<table border=\"1\" class=\"dataframe\">\n",
       "  <thead>\n",
       "    <tr style=\"text-align: right;\">\n",
       "      <th></th>\n",
       "      <th>Net Profit</th>\n",
       "      <th>Rating</th>\n",
       "    </tr>\n",
       "  </thead>\n",
       "  <tbody>\n",
       "    <tr>\n",
       "      <th>count</th>\n",
       "      <td>822.000000</td>\n",
       "      <td>822.000000</td>\n",
       "    </tr>\n",
       "    <tr>\n",
       "      <th>mean</th>\n",
       "      <td>15.488663</td>\n",
       "      <td>7.007543</td>\n",
       "    </tr>\n",
       "    <tr>\n",
       "      <th>std</th>\n",
       "      <td>11.657488</td>\n",
       "      <td>1.720307</td>\n",
       "    </tr>\n",
       "    <tr>\n",
       "      <th>min</th>\n",
       "      <td>0.604500</td>\n",
       "      <td>4.000000</td>\n",
       "    </tr>\n",
       "    <tr>\n",
       "      <th>25%</th>\n",
       "      <td>6.257750</td>\n",
       "      <td>5.600000</td>\n",
       "    </tr>\n",
       "    <tr>\n",
       "      <th>50%</th>\n",
       "      <td>12.123000</td>\n",
       "      <td>7.000000</td>\n",
       "    </tr>\n",
       "    <tr>\n",
       "      <th>75%</th>\n",
       "      <td>22.702000</td>\n",
       "      <td>8.500000</td>\n",
       "    </tr>\n",
       "    <tr>\n",
       "      <th>max</th>\n",
       "      <td>49.650000</td>\n",
       "      <td>10.000000</td>\n",
       "    </tr>\n",
       "  </tbody>\n",
       "</table>\n",
       "</div>"
      ],
      "text/plain": [
       "       Net Profit      Rating\n",
       "count  822.000000  822.000000\n",
       "mean    15.488663    7.007543\n",
       "std     11.657488    1.720307\n",
       "min      0.604500    4.000000\n",
       "25%      6.257750    5.600000\n",
       "50%     12.123000    7.000000\n",
       "75%     22.702000    8.500000\n",
       "max     49.650000   10.000000"
      ]
     },
     "execution_count": 6,
     "metadata": {},
     "output_type": "execute_result"
    }
   ],
   "source": [
    "#checking data stats\n",
    "supermarket.describe()"
   ]
  },
  {
   "cell_type": "code",
   "execution_count": 7,
   "id": "6207d749",
   "metadata": {},
   "outputs": [
    {
     "data": {
      "text/plain": [
       "Invoice ID       0\n",
       "Date             0\n",
       "Month            0\n",
       "Branch           0\n",
       "City             0\n",
       "Customer type    0\n",
       "Gender           0\n",
       "Product Line     0\n",
       "Payment          0\n",
       "Net Profit       0\n",
       "Rating           0\n",
       "dtype: int64"
      ]
     },
     "execution_count": 7,
     "metadata": {},
     "output_type": "execute_result"
    }
   ],
   "source": [
    "#checking null values\n",
    "supermarket.isnull().sum()"
   ]
  },
  {
   "cell_type": "code",
   "execution_count": 8,
   "id": "08bd460e",
   "metadata": {},
   "outputs": [
    {
     "data": {
      "text/plain": [
       "<AxesSubplot:title={'center':'Supermarket Outliers'}>"
      ]
     },
     "execution_count": 8,
     "metadata": {},
     "output_type": "execute_result"
    },
    {
     "data": {
      "image/png": "[encoded data removed]",
      "text/plain": [
       "<Figure size 720x432 with 1 Axes>"
      ]
     },
     "metadata": {
      "needs_background": "light"
     },
     "output_type": "display_data"
    }
   ],
   "source": [
    "#checking and visualizing outliers\n",
    "plt.figure(figsize=(10,6))\n",
    "plt.style.use('ggplot')\n",
    "plt.title('Supermarket Outliers')\n",
    "supermarket.boxplot()"
   ]
  },
  {
   "cell_type": "markdown",
   "id": "95e8a7ef",
   "metadata": {},
   "source": [
    "*It seems that the net profit contains some of the nonreliable data where as rating is just fine, however the outliers seem to be very small in number so we won't be dealing with them right now till we make sure how they influenced our data.*"
   ]
  },
  {
   "cell_type": "markdown",
   "id": "16442df2",
   "metadata": {},
   "source": [
    "## Let's visualize overall Net Profit regarding the first quarter data"
   ]
  },
  {
   "cell_type": "code",
   "execution_count": 9,
   "id": "c23ca620",
   "metadata": {},
   "outputs": [
    {
     "data": {
      "text/html": [
       "<div>\n",
       "<style scoped>\n",
       "    .dataframe tbody tr th:only-of-type {\n",
       "        vertical-align: middle;\n",
       "    }\n",
       "\n",
       "    .dataframe tbody tr th {\n",
       "        vertical-align: top;\n",
       "    }\n",
       "\n",
       "    .dataframe thead th {\n",
       "        text-align: right;\n",
       "    }\n",
       "</style>\n",
       "<table border=\"1\" class=\"dataframe\">\n",
       "  <thead>\n",
       "    <tr style=\"text-align: right;\">\n",
       "      <th></th>\n",
       "      <th>Month</th>\n",
       "      <th>Total Net Profit</th>\n",
       "    </tr>\n",
       "  </thead>\n",
       "  <tbody>\n",
       "    <tr>\n",
       "      <th>0</th>\n",
       "      <td>January</td>\n",
       "      <td>4445.14</td>\n",
       "    </tr>\n",
       "    <tr>\n",
       "      <th>1</th>\n",
       "      <td>March</td>\n",
       "      <td>4388.70</td>\n",
       "    </tr>\n",
       "    <tr>\n",
       "      <th>2</th>\n",
       "      <td>February</td>\n",
       "      <td>3897.84</td>\n",
       "    </tr>\n",
       "  </tbody>\n",
       "</table>\n",
       "</div>"
      ],
      "text/plain": [
       "      Month  Total Net Profit\n",
       "0   January           4445.14\n",
       "1     March           4388.70\n",
       "2  February           3897.84"
      ]
     },
     "execution_count": 9,
     "metadata": {},
     "output_type": "execute_result"
    }
   ],
   "source": [
    "first_quarter = pd.read_sql_query(\"\"\"SELECT \n",
    "    Month, ROUND(SUM(`Net Profit`), 2) AS `Total Net Profit`\n",
    "FROM\n",
    "    supermarket\n",
    "GROUP BY Month\"\"\", conn)\n",
    "\n",
    "first_quarter"
   ]
  },
  {
   "cell_type": "code",
   "execution_count": 10,
   "id": "466f1447",
   "metadata": {},
   "outputs": [
    {
     "data": {
      "text/plain": [
       "Text(0.5, 1.0, 'First Quarter Net Profit')"
      ]
     },
     "execution_count": 10,
     "metadata": {},
     "output_type": "execute_result"
    },
    {
     "data": {
      "image/png": "[encoded data removed]",
      "text/plain": [
       "<Figure size 720x432 with 1 Axes>"
      ]
     },
     "metadata": {},
     "output_type": "display_data"
    }
   ],
   "source": [
    "#visualizing the first quarter net profit\n",
    "\n",
    "first_quarter.set_index('Month').plot(kind='line', figsize=(10,6))\n",
    "plt.title('First Quarter Net Profit')"
   ]
  },
  {
   "cell_type": "markdown",
   "id": "7a776ae6",
   "metadata": {},
   "source": [
    "*=> It's clear that the Net Profit had been depreciating over the first 3 months in 2019.*"
   ]
  },
  {
   "cell_type": "markdown",
   "id": "1834652b",
   "metadata": {},
   "source": [
    "## Let's analyze the overall rating regarding the first quarter"
   ]
  },
  {
   "cell_type": "code",
   "execution_count": 11,
   "id": "c7a61f0b",
   "metadata": {},
   "outputs": [
    {
     "data": {
      "text/html": [
       "<div>\n",
       "<style scoped>\n",
       "    .dataframe tbody tr th:only-of-type {\n",
       "        vertical-align: middle;\n",
       "    }\n",
       "\n",
       "    .dataframe tbody tr th {\n",
       "        vertical-align: top;\n",
       "    }\n",
       "\n",
       "    .dataframe thead th {\n",
       "        text-align: right;\n",
       "    }\n",
       "</style>\n",
       "<table border=\"1\" class=\"dataframe\">\n",
       "  <thead>\n",
       "    <tr style=\"text-align: right;\">\n",
       "      <th></th>\n",
       "      <th>Month</th>\n",
       "      <th>Average Rating</th>\n",
       "    </tr>\n",
       "  </thead>\n",
       "  <tbody>\n",
       "    <tr>\n",
       "      <th>0</th>\n",
       "      <td>January</td>\n",
       "      <td>7.08</td>\n",
       "    </tr>\n",
       "    <tr>\n",
       "      <th>1</th>\n",
       "      <td>March</td>\n",
       "      <td>6.84</td>\n",
       "    </tr>\n",
       "    <tr>\n",
       "      <th>2</th>\n",
       "      <td>February</td>\n",
       "      <td>7.12</td>\n",
       "    </tr>\n",
       "  </tbody>\n",
       "</table>\n",
       "</div>"
      ],
      "text/plain": [
       "      Month  Average Rating\n",
       "0   January            7.08\n",
       "1     March            6.84\n",
       "2  February            7.12"
      ]
     },
     "execution_count": 11,
     "metadata": {},
     "output_type": "execute_result"
    }
   ],
   "source": [
    "rating = pd.read_sql_query(\"\"\"SELECT \n",
    "    month, ROUND(AVG(rating), 2) AS `Average Rating`\n",
    "FROM\n",
    "    supermarket\n",
    "GROUP BY month\"\"\", conn)\n",
    "\n",
    "rating"
   ]
  },
  {
   "cell_type": "markdown",
   "id": "72095061",
   "metadata": {},
   "source": [
    "*=> Customer dissatisfaction appears from the significant decrease in the average rating regarding the first quarter in 2019.*"
   ]
  },
  {
   "cell_type": "markdown",
   "id": "dd691a81",
   "metadata": {},
   "source": [
    "## So, let's dive deeper and analyze each branch / City \"Location\" to discover where the problem lies"
   ]
  },
  {
   "cell_type": "code",
   "execution_count": 12,
   "id": "263ac855",
   "metadata": {},
   "outputs": [
    {
     "data": {
      "text/html": [
       "<div>\n",
       "<style scoped>\n",
       "    .dataframe tbody tr th:only-of-type {\n",
       "        vertical-align: middle;\n",
       "    }\n",
       "\n",
       "    .dataframe tbody tr th {\n",
       "        vertical-align: top;\n",
       "    }\n",
       "\n",
       "    .dataframe thead th {\n",
       "        text-align: right;\n",
       "    }\n",
       "</style>\n",
       "<table border=\"1\" class=\"dataframe\">\n",
       "  <thead>\n",
       "    <tr style=\"text-align: right;\">\n",
       "      <th></th>\n",
       "      <th>Branch</th>\n",
       "      <th>City</th>\n",
       "      <th>% Net Profit</th>\n",
       "    </tr>\n",
       "  </thead>\n",
       "  <tbody>\n",
       "    <tr>\n",
       "      <th>0</th>\n",
       "      <td>A</td>\n",
       "      <td>Yangon</td>\n",
       "      <td>32.24</td>\n",
       "    </tr>\n",
       "    <tr>\n",
       "      <th>1</th>\n",
       "      <td>C</td>\n",
       "      <td>Naypyitaw</td>\n",
       "      <td>35.09</td>\n",
       "    </tr>\n",
       "    <tr>\n",
       "      <th>2</th>\n",
       "      <td>B</td>\n",
       "      <td>Mandalay</td>\n",
       "      <td>32.68</td>\n",
       "    </tr>\n",
       "  </tbody>\n",
       "</table>\n",
       "</div>"
      ],
      "text/plain": [
       "  Branch       City  % Net Profit\n",
       "0      A     Yangon         32.24\n",
       "1      C  Naypyitaw         35.09\n",
       "2      B   Mandalay         32.68"
      ]
     },
     "execution_count": 12,
     "metadata": {},
     "output_type": "execute_result"
    }
   ],
   "source": [
    "Branch_pct_profit = pd.read_sql_query(\"\"\"SELECT \n",
    "    Branch,\n",
    "    city,\n",
    "    round(100 * SUM(`Net Profit`) / (SELECT \n",
    "            SUM(`Net Profit`)\n",
    "        FROM\n",
    "            supermarket),2) AS `% Net Profit`\n",
    "FROM\n",
    "    supermarket\n",
    "GROUP BY branch , city\"\"\", conn)\n",
    "\n",
    "Branch_pct_profit"
   ]
  },
  {
   "cell_type": "code",
   "execution_count": 13,
   "id": "cc43e8c5",
   "metadata": {},
   "outputs": [
    {
     "data": {
      "text/plain": [
       "Text(0.5, 0, '%Net Profit')"
      ]
     },
     "execution_count": 13,
     "metadata": {},
     "output_type": "execute_result"
    },
    {
     "data": {
      "image/png": "[encoded data removed]",
      "text/plain": [
       "<Figure size 720x432 with 1 Axes>"
      ]
     },
     "metadata": {},
     "output_type": "display_data"
    }
   ],
   "source": [
    "#visualizing branch/city % Net Profit\n",
    "\n",
    "Branch_pct_profit.set_index(['Branch', 'City']).sort_values('% Net Profit').plot(kind='barh', figsize=(10,6))\n",
    "plt.title('% Net Profit / Branch / City')\n",
    "plt.xlabel('%Net Profit')"
   ]
  },
  {
   "cell_type": "markdown",
   "id": "7487026f",
   "metadata": {},
   "source": [
    "*=> It's clear that Branch C, Naypyitaw is forming the largest share of net profit with a percentage of 35.09% followed by Branch B, Mandalay 32.68%, ending with branch A, Yangon 32.24%.* "
   ]
  },
  {
   "cell_type": "code",
   "execution_count": 14,
   "id": "52bfc99f",
   "metadata": {},
   "outputs": [
    {
     "data": {
      "text/html": [
       "<div>\n",
       "<style scoped>\n",
       "    .dataframe tbody tr th:only-of-type {\n",
       "        vertical-align: middle;\n",
       "    }\n",
       "\n",
       "    .dataframe tbody tr th {\n",
       "        vertical-align: top;\n",
       "    }\n",
       "\n",
       "    .dataframe thead th {\n",
       "        text-align: right;\n",
       "    }\n",
       "</style>\n",
       "<table border=\"1\" class=\"dataframe\">\n",
       "  <thead>\n",
       "    <tr style=\"text-align: right;\">\n",
       "      <th></th>\n",
       "      <th>Product Line</th>\n",
       "      <th>% Net Profit</th>\n",
       "    </tr>\n",
       "  </thead>\n",
       "  <tbody>\n",
       "    <tr>\n",
       "      <th>0</th>\n",
       "      <td>Sports and travel</td>\n",
       "      <td>17.80</td>\n",
       "    </tr>\n",
       "    <tr>\n",
       "      <th>1</th>\n",
       "      <td>Fashion accessories</td>\n",
       "      <td>17.71</td>\n",
       "    </tr>\n",
       "    <tr>\n",
       "      <th>2</th>\n",
       "      <td>Food and beverages</td>\n",
       "      <td>17.63</td>\n",
       "    </tr>\n",
       "    <tr>\n",
       "      <th>3</th>\n",
       "      <td>Home and lifestyle</td>\n",
       "      <td>16.72</td>\n",
       "    </tr>\n",
       "    <tr>\n",
       "      <th>4</th>\n",
       "      <td>Electronic accessories</td>\n",
       "      <td>15.73</td>\n",
       "    </tr>\n",
       "    <tr>\n",
       "      <th>5</th>\n",
       "      <td>Health and beauty</td>\n",
       "      <td>14.40</td>\n",
       "    </tr>\n",
       "  </tbody>\n",
       "</table>\n",
       "</div>"
      ],
      "text/plain": [
       "             Product Line  % Net Profit\n",
       "0       Sports and travel         17.80\n",
       "1     Fashion accessories         17.71\n",
       "2      Food and beverages         17.63\n",
       "3      Home and lifestyle         16.72\n",
       "4  Electronic accessories         15.73\n",
       "5       Health and beauty         14.40"
      ]
     },
     "execution_count": 14,
     "metadata": {},
     "output_type": "execute_result"
    }
   ],
   "source": [
    "Prod_Line_pct_profit = pd.read_sql_query(\"\"\"SELECT \n",
    "    `Product Line`,\n",
    "    ROUND(100 * SUM(`Net Profit`) / (SELECT \n",
    "                    SUM(`Net Profit`)\n",
    "                FROM\n",
    "                    supermarket),\n",
    "            2) AS `% Net Profit`\n",
    "FROM\n",
    "    supermarket\n",
    "GROUP BY `Product Line`\n",
    "ORDER BY 2 DESC\"\"\",conn)\n",
    "\n",
    "Prod_Line_pct_profit\n"
   ]
  },
  {
   "cell_type": "code",
   "execution_count": 15,
   "id": "6523e457",
   "metadata": {},
   "outputs": [
    {
     "data": {
      "text/plain": [
       "Text(0.5, 0, '% Net Profit')"
      ]
     },
     "execution_count": 15,
     "metadata": {},
     "output_type": "execute_result"
    },
    {
     "data": {
      "image/png": "[encoded data removed]",
      "text/plain": [
       "<Figure size 720x432 with 1 Axes>"
      ]
     },
     "metadata": {},
     "output_type": "display_data"
    }
   ],
   "source": [
    "Prod_Line_pct_profit.set_index('Product Line').sort_values('% Net Profit').plot(kind='barh', figsize=(10,6), color='g')\n",
    "plt.title('% Net Profit / Product Line')\n",
    "plt.xlabel('% Net Profit')"
   ]
  },
  {
   "cell_type": "markdown",
   "id": "7d74ec7d",
   "metadata": {},
   "source": [
    "**=> It's clear that the top 3 Product lines, forming nearly the same net profit, are:**\n",
    "\n",
    "        1- Sports & Travel\n",
    "        2-Fashion accessories\n",
    "        3-Food & Beverages\n"
   ]
  },
  {
   "cell_type": "markdown",
   "id": "1c4c392b",
   "metadata": {},
   "source": [
    "## Let's analyze the payment methods"
   ]
  },
  {
   "cell_type": "code",
   "execution_count": 16,
   "id": "fba96837",
   "metadata": {},
   "outputs": [
    {
     "data": {
      "text/html": [
       "<div>\n",
       "<style scoped>\n",
       "    .dataframe tbody tr th:only-of-type {\n",
       "        vertical-align: middle;\n",
       "    }\n",
       "\n",
       "    .dataframe tbody tr th {\n",
       "        vertical-align: top;\n",
       "    }\n",
       "\n",
       "    .dataframe thead th {\n",
       "        text-align: right;\n",
       "    }\n",
       "</style>\n",
       "<table border=\"1\" class=\"dataframe\">\n",
       "  <thead>\n",
       "    <tr style=\"text-align: right;\">\n",
       "      <th></th>\n",
       "      <th>Payment</th>\n",
       "      <th>% Net Profit</th>\n",
       "    </tr>\n",
       "  </thead>\n",
       "  <tbody>\n",
       "    <tr>\n",
       "      <th>0</th>\n",
       "      <td>Cash</td>\n",
       "      <td>34.34</td>\n",
       "    </tr>\n",
       "    <tr>\n",
       "      <th>1</th>\n",
       "      <td>Ewallet</td>\n",
       "      <td>34.01</td>\n",
       "    </tr>\n",
       "    <tr>\n",
       "      <th>2</th>\n",
       "      <td>Credit card</td>\n",
       "      <td>31.65</td>\n",
       "    </tr>\n",
       "  </tbody>\n",
       "</table>\n",
       "</div>"
      ],
      "text/plain": [
       "       Payment  % Net Profit\n",
       "0         Cash         34.34\n",
       "1      Ewallet         34.01\n",
       "2  Credit card         31.65"
      ]
     },
     "execution_count": 16,
     "metadata": {},
     "output_type": "execute_result"
    }
   ],
   "source": [
    "payment = pd.read_sql_query(\"\"\"SELECT \n",
    "    Payment,\n",
    "    ROUND(100 * SUM(`Net Profit`) / (SELECT \n",
    "                    SUM(`Net Profit`)\n",
    "                FROM\n",
    "                    supermarket),\n",
    "            2) as \"% Net Profit\"\n",
    "FROM\n",
    "    SUPERMARKET\n",
    "GROUP BY payment\n",
    "ORDER BY 2 DESC\"\"\", conn)\n",
    "\n",
    "payment"
   ]
  },
  {
   "cell_type": "code",
   "execution_count": 17,
   "id": "631f66cb",
   "metadata": {},
   "outputs": [
    {
     "data": {
      "text/plain": [
       "Text(0.5, 0, '%Net Profit')"
      ]
     },
     "execution_count": 17,
     "metadata": {},
     "output_type": "execute_result"
    },
    {
     "data": {
      "image/png": "[encoded data removed]",
      "text/plain": [
       "<Figure size 720x432 with 1 Axes>"
      ]
     },
     "metadata": {},
     "output_type": "display_data"
    }
   ],
   "source": [
    "#visualizing payment methods % Net Profit\n",
    "\n",
    "payment.set_index(\"Payment\").sort_values('% Net Profit').plot(kind='barh', figsize=(10,6))\n",
    "plt.title('% Net Profit / Payment')\n",
    "plt.xlabel('%Net Profit')"
   ]
  },
  {
   "cell_type": "markdown",
   "id": "6df38510",
   "metadata": {},
   "source": [
    "*=> Cash and Ewallet are nearly equal when it comes to % Net profit followed by credit card which is ranked as third among them*"
   ]
  },
  {
   "cell_type": "markdown",
   "id": "21968cbe",
   "metadata": {},
   "source": [
    "## Let's analyze the gender of customers"
   ]
  },
  {
   "cell_type": "code",
   "execution_count": 18,
   "id": "68d820a2",
   "metadata": {},
   "outputs": [
    {
     "data": {
      "text/html": [
       "<div>\n",
       "<style scoped>\n",
       "    .dataframe tbody tr th:only-of-type {\n",
       "        vertical-align: middle;\n",
       "    }\n",
       "\n",
       "    .dataframe tbody tr th {\n",
       "        vertical-align: top;\n",
       "    }\n",
       "\n",
       "    .dataframe thead th {\n",
       "        text-align: right;\n",
       "    }\n",
       "</style>\n",
       "<table border=\"1\" class=\"dataframe\">\n",
       "  <thead>\n",
       "    <tr style=\"text-align: right;\">\n",
       "      <th></th>\n",
       "      <th>Gender</th>\n",
       "      <th>% Net Profit</th>\n",
       "    </tr>\n",
       "  </thead>\n",
       "  <tbody>\n",
       "    <tr>\n",
       "      <th>0</th>\n",
       "      <td>Female</td>\n",
       "      <td>51.18</td>\n",
       "    </tr>\n",
       "    <tr>\n",
       "      <th>1</th>\n",
       "      <td>Male</td>\n",
       "      <td>48.82</td>\n",
       "    </tr>\n",
       "  </tbody>\n",
       "</table>\n",
       "</div>"
      ],
      "text/plain": [
       "   Gender  % Net Profit\n",
       "0  Female         51.18\n",
       "1    Male         48.82"
      ]
     },
     "execution_count": 18,
     "metadata": {},
     "output_type": "execute_result"
    }
   ],
   "source": [
    "gender = pd.read_sql_query(\"\"\"SELECT \n",
    "    Gender,\n",
    "    ROUND(100 * SUM(`Net Profit`) / (SELECT \n",
    "                    SUM(`Net Profit`)\n",
    "                FROM\n",
    "                    supermarket),\n",
    "            2) as \"% Net Profit\"\n",
    "FROM\n",
    "    SUPERMARKET\n",
    "GROUP BY Gender\n",
    "ORDER BY 2 DESC\"\"\",conn)\n",
    "\n",
    "gender"
   ]
  },
  {
   "cell_type": "code",
   "execution_count": 19,
   "id": "79172bbe",
   "metadata": {},
   "outputs": [
    {
     "data": {
      "text/plain": [
       "array([<AxesSubplot:ylabel='% Net Profit'>], dtype=object)"
      ]
     },
     "execution_count": 19,
     "metadata": {},
     "output_type": "execute_result"
    },
    {
     "data": {
      "image/png": "[encoded data removed]",
      "text/plain": [
       "<Figure size 720x432 with 1 Axes>"
      ]
     },
     "metadata": {},
     "output_type": "display_data"
    }
   ],
   "source": [
    "gender.set_index('Gender').plot(kind='pie', subplots=True, explode=(0.1,0),shadow=True, autopct='%1.1f%%', figsize=(10,6))"
   ]
  },
  {
   "cell_type": "markdown",
   "id": "f4a4cd65",
   "metadata": {},
   "source": [
    "*=> Most of the Customers are females*"
   ]
  },
  {
   "cell_type": "markdown",
   "id": "f78a48dd",
   "metadata": {},
   "source": [
    "## Now, let's analyze by customer type"
   ]
  },
  {
   "cell_type": "code",
   "execution_count": 20,
   "id": "91d6f5c4",
   "metadata": {},
   "outputs": [
    {
     "data": {
      "text/html": [
       "<div>\n",
       "<style scoped>\n",
       "    .dataframe tbody tr th:only-of-type {\n",
       "        vertical-align: middle;\n",
       "    }\n",
       "\n",
       "    .dataframe tbody tr th {\n",
       "        vertical-align: top;\n",
       "    }\n",
       "\n",
       "    .dataframe thead th {\n",
       "        text-align: right;\n",
       "    }\n",
       "</style>\n",
       "<table border=\"1\" class=\"dataframe\">\n",
       "  <thead>\n",
       "    <tr style=\"text-align: right;\">\n",
       "      <th></th>\n",
       "      <th>Customer type</th>\n",
       "      <th>% Net Profit</th>\n",
       "    </tr>\n",
       "  </thead>\n",
       "  <tbody>\n",
       "    <tr>\n",
       "      <th>0</th>\n",
       "      <td>Member</td>\n",
       "      <td>51.42</td>\n",
       "    </tr>\n",
       "    <tr>\n",
       "      <th>1</th>\n",
       "      <td>Normal</td>\n",
       "      <td>48.58</td>\n",
       "    </tr>\n",
       "  </tbody>\n",
       "</table>\n",
       "</div>"
      ],
      "text/plain": [
       "  Customer type  % Net Profit\n",
       "0        Member         51.42\n",
       "1        Normal         48.58"
      ]
     },
     "execution_count": 20,
     "metadata": {},
     "output_type": "execute_result"
    }
   ],
   "source": [
    "cust_type = pd.read_sql_query(\"\"\"SELECT \n",
    "    `Customer type`,\n",
    "    ROUND(100 * SUM(`Net Profit`) / (SELECT \n",
    "                    SUM(`Net Profit`)\n",
    "                FROM\n",
    "                    supermarket),\n",
    "            2) as \"% Net Profit\"\n",
    "FROM\n",
    "    SUPERMARKET\n",
    "GROUP BY `Customer type`\n",
    "ORDER BY 2 DESC\"\"\",conn)\n",
    "\n",
    "cust_type"
   ]
  },
  {
   "cell_type": "code",
   "execution_count": 21,
   "id": "dca32b3b",
   "metadata": {},
   "outputs": [
    {
     "data": {
      "text/plain": [
       "array([<AxesSubplot:ylabel='% Net Profit'>], dtype=object)"
      ]
     },
     "execution_count": 21,
     "metadata": {},
     "output_type": "execute_result"
    },
    {
     "data": {
      "image/png": "[encoded data removed]",
      "text/plain": [
       "<Figure size 720x432 with 1 Axes>"
      ]
     },
     "metadata": {},
     "output_type": "display_data"
    }
   ],
   "source": [
    "cust_type.set_index('Customer type').plot(kind='pie', subplots=True, explode=(0.1,0),shadow=True, autopct='%1.1f%%', figsize=(10,6))"
   ]
  },
  {
   "cell_type": "markdown",
   "id": "b307e1a5",
   "metadata": {},
   "source": [
    "*=> The highest Net Profit share is formed from members not normal customers. i.e. Membership increases overall profit.*"
   ]
  },
  {
   "cell_type": "markdown",
   "id": "4c8dee82",
   "metadata": {},
   "source": [
    "# Let's figure out if there's a relationship between Net Profit and Rating"
   ]
  },
  {
   "cell_type": "code",
   "execution_count": 22,
   "id": "4f4b84d9",
   "metadata": {},
   "outputs": [
    {
     "data": {
      "text/html": [
       "<div>\n",
       "<style scoped>\n",
       "    .dataframe tbody tr th:only-of-type {\n",
       "        vertical-align: middle;\n",
       "    }\n",
       "\n",
       "    .dataframe tbody tr th {\n",
       "        vertical-align: top;\n",
       "    }\n",
       "\n",
       "    .dataframe thead th {\n",
       "        text-align: right;\n",
       "    }\n",
       "</style>\n",
       "<table border=\"1\" class=\"dataframe\">\n",
       "  <thead>\n",
       "    <tr style=\"text-align: right;\">\n",
       "      <th></th>\n",
       "      <th>Invoice ID</th>\n",
       "      <th>Date</th>\n",
       "      <th>Month</th>\n",
       "      <th>Branch</th>\n",
       "      <th>City</th>\n",
       "      <th>Customer type</th>\n",
       "      <th>Gender</th>\n",
       "      <th>Product Line</th>\n",
       "      <th>Payment</th>\n",
       "      <th>Net Profit</th>\n",
       "      <th>Rating</th>\n",
       "    </tr>\n",
       "  </thead>\n",
       "  <tbody>\n",
       "    <tr>\n",
       "      <th>0</th>\n",
       "      <td>750-67-8428</td>\n",
       "      <td>2019-01-05</td>\n",
       "      <td>January</td>\n",
       "      <td>A</td>\n",
       "      <td>Yangon</td>\n",
       "      <td>Member</td>\n",
       "      <td>Female</td>\n",
       "      <td>Health and beauty</td>\n",
       "      <td>Ewallet</td>\n",
       "      <td>26.1415</td>\n",
       "      <td>9.1</td>\n",
       "    </tr>\n",
       "    <tr>\n",
       "      <th>1</th>\n",
       "      <td>226-31-3081</td>\n",
       "      <td>2019-03-08</td>\n",
       "      <td>March</td>\n",
       "      <td>C</td>\n",
       "      <td>Naypyitaw</td>\n",
       "      <td>Normal</td>\n",
       "      <td>Female</td>\n",
       "      <td>Electronic accessories</td>\n",
       "      <td>Cash</td>\n",
       "      <td>3.8200</td>\n",
       "      <td>9.6</td>\n",
       "    </tr>\n",
       "    <tr>\n",
       "      <th>2</th>\n",
       "      <td>631-41-3108</td>\n",
       "      <td>2019-03-03</td>\n",
       "      <td>March</td>\n",
       "      <td>A</td>\n",
       "      <td>Yangon</td>\n",
       "      <td>Normal</td>\n",
       "      <td>Male</td>\n",
       "      <td>Home and lifestyle</td>\n",
       "      <td>Credit card</td>\n",
       "      <td>16.2155</td>\n",
       "      <td>7.4</td>\n",
       "    </tr>\n",
       "    <tr>\n",
       "      <th>3</th>\n",
       "      <td>123-19-1176</td>\n",
       "      <td>2019-01-27</td>\n",
       "      <td>January</td>\n",
       "      <td>A</td>\n",
       "      <td>Yangon</td>\n",
       "      <td>Member</td>\n",
       "      <td>Male</td>\n",
       "      <td>Health and beauty</td>\n",
       "      <td>Ewallet</td>\n",
       "      <td>23.2880</td>\n",
       "      <td>8.4</td>\n",
       "    </tr>\n",
       "    <tr>\n",
       "      <th>4</th>\n",
       "      <td>373-73-7910</td>\n",
       "      <td>2019-02-08</td>\n",
       "      <td>February</td>\n",
       "      <td>A</td>\n",
       "      <td>Yangon</td>\n",
       "      <td>Normal</td>\n",
       "      <td>Male</td>\n",
       "      <td>Sports and travel</td>\n",
       "      <td>Ewallet</td>\n",
       "      <td>30.2085</td>\n",
       "      <td>5.3</td>\n",
       "    </tr>\n",
       "    <tr>\n",
       "      <th>...</th>\n",
       "      <td>...</td>\n",
       "      <td>...</td>\n",
       "      <td>...</td>\n",
       "      <td>...</td>\n",
       "      <td>...</td>\n",
       "      <td>...</td>\n",
       "      <td>...</td>\n",
       "      <td>...</td>\n",
       "      <td>...</td>\n",
       "      <td>...</td>\n",
       "      <td>...</td>\n",
       "    </tr>\n",
       "    <tr>\n",
       "      <th>817</th>\n",
       "      <td>832-51-6761</td>\n",
       "      <td>2019-01-19</td>\n",
       "      <td>January</td>\n",
       "      <td>A</td>\n",
       "      <td>Yangon</td>\n",
       "      <td>Normal</td>\n",
       "      <td>Male</td>\n",
       "      <td>Food and beverages</td>\n",
       "      <td>Ewallet</td>\n",
       "      <td>13.5520</td>\n",
       "      <td>9.6</td>\n",
       "    </tr>\n",
       "    <tr>\n",
       "      <th>818</th>\n",
       "      <td>869-11-3082</td>\n",
       "      <td>2019-01-27</td>\n",
       "      <td>January</td>\n",
       "      <td>B</td>\n",
       "      <td>Mandalay</td>\n",
       "      <td>Member</td>\n",
       "      <td>Male</td>\n",
       "      <td>Health and beauty</td>\n",
       "      <td>Credit card</td>\n",
       "      <td>19.2320</td>\n",
       "      <td>8.4</td>\n",
       "    </tr>\n",
       "    <tr>\n",
       "      <th>819</th>\n",
       "      <td>190-59-3964</td>\n",
       "      <td>2019-02-03</td>\n",
       "      <td>February</td>\n",
       "      <td>B</td>\n",
       "      <td>Mandalay</td>\n",
       "      <td>Member</td>\n",
       "      <td>Male</td>\n",
       "      <td>Food and beverages</td>\n",
       "      <td>Credit card</td>\n",
       "      <td>11.7900</td>\n",
       "      <td>6.0</td>\n",
       "    </tr>\n",
       "    <tr>\n",
       "      <th>820</th>\n",
       "      <td>366-43-6862</td>\n",
       "      <td>2019-03-25</td>\n",
       "      <td>March</td>\n",
       "      <td>B</td>\n",
       "      <td>Mandalay</td>\n",
       "      <td>Normal</td>\n",
       "      <td>Male</td>\n",
       "      <td>Electronic accessories</td>\n",
       "      <td>Ewallet</td>\n",
       "      <td>10.5780</td>\n",
       "      <td>6.7</td>\n",
       "    </tr>\n",
       "    <tr>\n",
       "      <th>821</th>\n",
       "      <td>186-43-8965</td>\n",
       "      <td>2019-02-24</td>\n",
       "      <td>February</td>\n",
       "      <td>A</td>\n",
       "      <td>Yangon</td>\n",
       "      <td>Member</td>\n",
       "      <td>Female</td>\n",
       "      <td>Home and lifestyle</td>\n",
       "      <td>Credit card</td>\n",
       "      <td>4.7680</td>\n",
       "      <td>4.1</td>\n",
       "    </tr>\n",
       "  </tbody>\n",
       "</table>\n",
       "<p>822 rows × 11 columns</p>\n",
       "</div>"
      ],
      "text/plain": [
       "      Invoice ID        Date     Month Branch       City Customer type  \\\n",
       "0    750-67-8428  2019-01-05   January      A     Yangon        Member   \n",
       "1    226-31-3081  2019-03-08     March      C  Naypyitaw        Normal   \n",
       "2    631-41-3108  2019-03-03     March      A     Yangon        Normal   \n",
       "3    123-19-1176  2019-01-27   January      A     Yangon        Member   \n",
       "4    373-73-7910  2019-02-08  February      A     Yangon        Normal   \n",
       "..           ...         ...       ...    ...        ...           ...   \n",
       "817  832-51-6761  2019-01-19   January      A     Yangon        Normal   \n",
       "818  869-11-3082  2019-01-27   January      B   Mandalay        Member   \n",
       "819  190-59-3964  2019-02-03  February      B   Mandalay        Member   \n",
       "820  366-43-6862  2019-03-25     March      B   Mandalay        Normal   \n",
       "821  186-43-8965  2019-02-24  February      A     Yangon        Member   \n",
       "\n",
       "     Gender            Product Line      Payment  Net Profit  Rating  \n",
       "0    Female       Health and beauty      Ewallet     26.1415     9.1  \n",
       "1    Female  Electronic accessories         Cash      3.8200     9.6  \n",
       "2      Male      Home and lifestyle  Credit card     16.2155     7.4  \n",
       "3      Male       Health and beauty      Ewallet     23.2880     8.4  \n",
       "4      Male       Sports and travel      Ewallet     30.2085     5.3  \n",
       "..      ...                     ...          ...         ...     ...  \n",
       "817    Male      Food and beverages      Ewallet     13.5520     9.6  \n",
       "818    Male       Health and beauty  Credit card     19.2320     8.4  \n",
       "819    Male      Food and beverages  Credit card     11.7900     6.0  \n",
       "820    Male  Electronic accessories      Ewallet     10.5780     6.7  \n",
       "821  Female      Home and lifestyle  Credit card      4.7680     4.1  \n",
       "\n",
       "[822 rows x 11 columns]"
      ]
     },
     "execution_count": 22,
     "metadata": {},
     "output_type": "execute_result"
    }
   ],
   "source": [
    "df = pd.read_sql_query(\"\"\"SELECT * FROM SUPERMARKET\"\"\",conn)\n",
    "df"
   ]
  },
  {
   "cell_type": "code",
   "execution_count": 23,
   "id": "452dbdfc",
   "metadata": {},
   "outputs": [
    {
     "data": {
      "text/html": [
       "<div>\n",
       "<style scoped>\n",
       "    .dataframe tbody tr th:only-of-type {\n",
       "        vertical-align: middle;\n",
       "    }\n",
       "\n",
       "    .dataframe tbody tr th {\n",
       "        vertical-align: top;\n",
       "    }\n",
       "\n",
       "    .dataframe thead th {\n",
       "        text-align: right;\n",
       "    }\n",
       "</style>\n",
       "<table border=\"1\" class=\"dataframe\">\n",
       "  <thead>\n",
       "    <tr style=\"text-align: right;\">\n",
       "      <th></th>\n",
       "      <th>Net Profit</th>\n",
       "      <th>Rating</th>\n",
       "    </tr>\n",
       "  </thead>\n",
       "  <tbody>\n",
       "    <tr>\n",
       "      <th>Net Profit</th>\n",
       "      <td>1.000000</td>\n",
       "      <td>-0.022104</td>\n",
       "    </tr>\n",
       "    <tr>\n",
       "      <th>Rating</th>\n",
       "      <td>-0.022104</td>\n",
       "      <td>1.000000</td>\n",
       "    </tr>\n",
       "  </tbody>\n",
       "</table>\n",
       "</div>"
      ],
      "text/plain": [
       "            Net Profit    Rating\n",
       "Net Profit    1.000000 -0.022104\n",
       "Rating       -0.022104  1.000000"
      ]
     },
     "execution_count": 23,
     "metadata": {},
     "output_type": "execute_result"
    }
   ],
   "source": [
    "#finding correlation\n",
    "\n",
    "df[['Net Profit','Rating']].corr()"
   ]
  },
  {
   "cell_type": "code",
   "execution_count": 24,
   "id": "ebccbf78",
   "metadata": {},
   "outputs": [
    {
     "data": {
      "text/plain": [
       "(-0.022104162590205638, 0.5268307776407168)"
      ]
     },
     "execution_count": 24,
     "metadata": {},
     "output_type": "execute_result"
    }
   ],
   "source": [
    "#evaluating pearson coeff and p-value\n",
    "\n",
    "pearson_coef, p_value = stats.pearsonr(df['Net Profit'],df['Rating'])\n",
    "pearson_coef, p_value"
   ]
  },
  {
   "cell_type": "markdown",
   "id": "de7161a4",
   "metadata": {},
   "source": [
    "**The correlation between Net Profit and Rating is weak. Thus, Rating is independent of Net Profit. This correlation is statistically significant. i.e. Not due to chance.**"
   ]
  },
  {
   "cell_type": "code",
   "execution_count": 25,
   "id": "458061c4",
   "metadata": {},
   "outputs": [
    {
     "data": {
      "text/plain": [
       "<AxesSubplot:title={'center':'Relationship between Rating and Net Profit'}, xlabel='Net Profit', ylabel='Rating'>"
      ]
     },
     "execution_count": 25,
     "metadata": {},
     "output_type": "execute_result"
    },
    {
     "data": {
      "image/png": "[encoded data removed]",
      "text/plain": [
       "<Figure size 720x432 with 1 Axes>"
      ]
     },
     "metadata": {},
     "output_type": "display_data"
    }
   ],
   "source": [
    "#Visualizing the results\n",
    "\n",
    "plt.figure(figsize=(10,6))\n",
    "plt.title('Relationship between Rating and Net Profit')\n",
    "sns.regplot(x='Net Profit', y='Rating', data=df)"
   ]
  },
  {
   "cell_type": "markdown",
   "id": "83ff32b9",
   "metadata": {},
   "source": [
    "# Data Findings:\n",
    "\n",
    "1- The net profit contains some of the nonreliable data where as rating is just fine, however the outliers seem to be very   \n",
    "   small in number so we won't be dealing with them \n",
    " \n",
    "2- The Net Profit had been depreciating over the first 3 months in 2019.\n",
    "\n",
    "3- Customer dissatisfaction appears from the significant decrease in the average rating regarding the first quarter in 2019.\n",
    "\n",
    "4- Branch C, Naypyitaw is forming the largest share of net profit with a percentage of 35.09% followed by Branch B, Mandalay   \n",
    "   32.68%, ending with branch A, Yangon 32.24%.\n",
    "\n",
    "5- The top 3 Product lines, forming nearly the same net profit, are:\n",
    "\n",
    "    *a- Sports & Travel*\n",
    "    *b-Fashion accessories*\n",
    "    *c-Food & Beverages*\n",
    "    \n",
    "6- Cash and Ewallet payment methods are nearly equal when it comes to % Net profit followed by credit card which is ranked as  \n",
    "   third among them\n",
    "   \n",
    "7- Most of the Customers are females\n",
    "\n",
    "8- The highest Net Profit share is formed from members not normal customers. i.e. Membership increases overall profit.\n",
    "\n",
    "9- The correlation between Net Profit and Rating is weak. Thus, Rating is independent of Net Profit. This correlation is \n",
    "   statistically significant. i.e. Not due to chance."
   ]
  },
  {
   "cell_type": "code",
   "execution_count": 26,
   "id": "832e8f7c",
   "metadata": {},
   "outputs": [],
   "source": [
    "df.to_csv('supermarket.csv')"
   ]
  },
  {
   "cell_type": "code",
   "execution_count": null,
   "id": "bb1565d3",
   "metadata": {},
   "outputs": [],
   "source": []
  }
 ],
 "metadata": {
  "kernelspec": {
   "display_name": "Python 3 (ipykernel)",
   "language": "python",
   "name": "python3"
  },
  "language_info": {
   "codemirror_mode": {
    "name": "ipython",
    "version": 3
   },
   "file_extension": ".py",
   "mimetype": "text/x-python",
   "name": "python",
   "nbconvert_exporter": "python",
   "pygments_lexer": "ipython3",
   "version": "3.9.7"
  }
 },
 "nbformat": 4,
 "nbformat_minor": 5
}
