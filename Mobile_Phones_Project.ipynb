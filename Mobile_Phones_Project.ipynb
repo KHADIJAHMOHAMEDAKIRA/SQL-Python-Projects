{
 "cells": [
  {
   "cell_type": "code",
   "execution_count": 1,
   "id": "6da9b4bc",
   "metadata": {},
   "outputs": [],
   "source": [
    "import pandas as pd\n",
    "import numpy as np\n",
    "from matplotlib import style\n",
    "import matplotlib.pyplot as plt\n",
    "import seaborn as sns\n",
    "%matplotlib inline\n",
    "from scipy import stats"
   ]
  },
  {
   "cell_type": "code",
   "execution_count": 2,
   "id": "fd51b465",
   "metadata": {},
   "outputs": [
    {
     "data": {
      "text/html": [
       "<div>\n",
       "<style scoped>\n",
       "    .dataframe tbody tr th:only-of-type {\n",
       "        vertical-align: middle;\n",
       "    }\n",
       "\n",
       "    .dataframe tbody tr th {\n",
       "        vertical-align: top;\n",
       "    }\n",
       "\n",
       "    .dataframe thead th {\n",
       "        text-align: right;\n",
       "    }\n",
       "</style>\n",
       "<table border=\"1\" class=\"dataframe\">\n",
       "  <thead>\n",
       "    <tr style=\"text-align: right;\">\n",
       "      <th></th>\n",
       "      <th>Unnamed: 0</th>\n",
       "      <th>brand_name</th>\n",
       "      <th>model_name</th>\n",
       "      <th>os</th>\n",
       "      <th>popularity</th>\n",
       "      <th>best_price</th>\n",
       "      <th>lowest_price</th>\n",
       "      <th>highest_price</th>\n",
       "      <th>sellers_amount</th>\n",
       "      <th>screen_size</th>\n",
       "      <th>memory_size</th>\n",
       "      <th>battery_size</th>\n",
       "      <th>release_date</th>\n",
       "    </tr>\n",
       "  </thead>\n",
       "  <tbody>\n",
       "    <tr>\n",
       "      <th>0</th>\n",
       "      <td>0</td>\n",
       "      <td>ALCATEL</td>\n",
       "      <td>1 1/8GB Bluish Black (5033D-2JALUAA)</td>\n",
       "      <td>Android</td>\n",
       "      <td>422</td>\n",
       "      <td>1690.0</td>\n",
       "      <td>1529.0</td>\n",
       "      <td>1819.0</td>\n",
       "      <td>36</td>\n",
       "      <td>5.00</td>\n",
       "      <td>8.0</td>\n",
       "      <td>2000.0</td>\n",
       "      <td>10-2020</td>\n",
       "    </tr>\n",
       "    <tr>\n",
       "      <th>1</th>\n",
       "      <td>1</td>\n",
       "      <td>ALCATEL</td>\n",
       "      <td>1 5033D 1/16GB Volcano Black (5033D-2LALUAF)</td>\n",
       "      <td>Android</td>\n",
       "      <td>323</td>\n",
       "      <td>1803.0</td>\n",
       "      <td>1659.0</td>\n",
       "      <td>2489.0</td>\n",
       "      <td>36</td>\n",
       "      <td>5.00</td>\n",
       "      <td>16.0</td>\n",
       "      <td>2000.0</td>\n",
       "      <td>9-2020</td>\n",
       "    </tr>\n",
       "    <tr>\n",
       "      <th>2</th>\n",
       "      <td>2</td>\n",
       "      <td>ALCATEL</td>\n",
       "      <td>1 5033D 1/16GB Volcano Black (5033D-2LALUAF)</td>\n",
       "      <td>Android</td>\n",
       "      <td>299</td>\n",
       "      <td>1803.0</td>\n",
       "      <td>1659.0</td>\n",
       "      <td>2489.0</td>\n",
       "      <td>36</td>\n",
       "      <td>5.00</td>\n",
       "      <td>16.0</td>\n",
       "      <td>2000.0</td>\n",
       "      <td>9-2020</td>\n",
       "    </tr>\n",
       "    <tr>\n",
       "      <th>3</th>\n",
       "      <td>3</td>\n",
       "      <td>ALCATEL</td>\n",
       "      <td>1 5033D 1/16GB Volcano Black (5033D-2LALUAF)</td>\n",
       "      <td>Android</td>\n",
       "      <td>287</td>\n",
       "      <td>1803.0</td>\n",
       "      <td>1659.0</td>\n",
       "      <td>2489.0</td>\n",
       "      <td>36</td>\n",
       "      <td>5.00</td>\n",
       "      <td>16.0</td>\n",
       "      <td>2000.0</td>\n",
       "      <td>9-2020</td>\n",
       "    </tr>\n",
       "    <tr>\n",
       "      <th>4</th>\n",
       "      <td>4</td>\n",
       "      <td>Nokia</td>\n",
       "      <td>1.3 1/16GB Charcoal</td>\n",
       "      <td>Android</td>\n",
       "      <td>1047</td>\n",
       "      <td>1999.0</td>\n",
       "      <td>NaN</td>\n",
       "      <td>NaN</td>\n",
       "      <td>10</td>\n",
       "      <td>5.71</td>\n",
       "      <td>16.0</td>\n",
       "      <td>3000.0</td>\n",
       "      <td>4-2020</td>\n",
       "    </tr>\n",
       "  </tbody>\n",
       "</table>\n",
       "</div>"
      ],
      "text/plain": [
       "   Unnamed: 0 brand_name                                    model_name  \\\n",
       "0           0    ALCATEL          1 1/8GB Bluish Black (5033D-2JALUAA)   \n",
       "1           1    ALCATEL  1 5033D 1/16GB Volcano Black (5033D-2LALUAF)   \n",
       "2           2    ALCATEL  1 5033D 1/16GB Volcano Black (5033D-2LALUAF)   \n",
       "3           3    ALCATEL  1 5033D 1/16GB Volcano Black (5033D-2LALUAF)   \n",
       "4           4      Nokia                           1.3 1/16GB Charcoal   \n",
       "\n",
       "        os  popularity  best_price  lowest_price  highest_price  \\\n",
       "0  Android         422      1690.0        1529.0         1819.0   \n",
       "1  Android         323      1803.0        1659.0         2489.0   \n",
       "2  Android         299      1803.0        1659.0         2489.0   \n",
       "3  Android         287      1803.0        1659.0         2489.0   \n",
       "4  Android        1047      1999.0           NaN            NaN   \n",
       "\n",
       "   sellers_amount  screen_size  memory_size  battery_size release_date  \n",
       "0              36         5.00          8.0        2000.0      10-2020  \n",
       "1              36         5.00         16.0        2000.0       9-2020  \n",
       "2              36         5.00         16.0        2000.0       9-2020  \n",
       "3              36         5.00         16.0        2000.0       9-2020  \n",
       "4              10         5.71         16.0        3000.0       4-2020  "
      ]
     },
     "execution_count": 2,
     "metadata": {},
     "output_type": "execute_result"
    }
   ],
   "source": [
    "phones = pd.read_csv('phones_data.csv')\n",
    "phones.head()"
   ]
  },
  {
   "cell_type": "code",
   "execution_count": 3,
   "id": "7d847235",
   "metadata": {},
   "outputs": [
    {
     "data": {
      "text/plain": [
       "0"
      ]
     },
     "execution_count": 3,
     "metadata": {},
     "output_type": "execute_result"
    }
   ],
   "source": [
    "#checking for duplicates\n",
    "phones['Unnamed: 0'].duplicated().sum()"
   ]
  },
  {
   "cell_type": "code",
   "execution_count": 4,
   "id": "d4a7d9eb",
   "metadata": {},
   "outputs": [],
   "source": [
    "#renaming column \n",
    "\n",
    "phones.rename(columns = {'Unnamed: 0':'Code'}, inplace=True)"
   ]
  },
  {
   "cell_type": "code",
   "execution_count": 5,
   "id": "8e37ee63",
   "metadata": {},
   "outputs": [
    {
     "data": {
      "text/html": [
       "<div>\n",
       "<style scoped>\n",
       "    .dataframe tbody tr th:only-of-type {\n",
       "        vertical-align: middle;\n",
       "    }\n",
       "\n",
       "    .dataframe tbody tr th {\n",
       "        vertical-align: top;\n",
       "    }\n",
       "\n",
       "    .dataframe thead th {\n",
       "        text-align: right;\n",
       "    }\n",
       "</style>\n",
       "<table border=\"1\" class=\"dataframe\">\n",
       "  <thead>\n",
       "    <tr style=\"text-align: right;\">\n",
       "      <th></th>\n",
       "      <th>Code</th>\n",
       "      <th>brand_name</th>\n",
       "      <th>model_name</th>\n",
       "      <th>os</th>\n",
       "      <th>popularity</th>\n",
       "      <th>best_price</th>\n",
       "      <th>lowest_price</th>\n",
       "      <th>highest_price</th>\n",
       "      <th>sellers_amount</th>\n",
       "      <th>screen_size</th>\n",
       "      <th>memory_size</th>\n",
       "      <th>battery_size</th>\n",
       "      <th>release_date</th>\n",
       "    </tr>\n",
       "  </thead>\n",
       "  <tbody>\n",
       "    <tr>\n",
       "      <th>0</th>\n",
       "      <td>0</td>\n",
       "      <td>ALCATEL</td>\n",
       "      <td>1 1/8GB Bluish Black (5033D-2JALUAA)</td>\n",
       "      <td>Android</td>\n",
       "      <td>422</td>\n",
       "      <td>1690.0</td>\n",
       "      <td>1529.0</td>\n",
       "      <td>1819.0</td>\n",
       "      <td>36</td>\n",
       "      <td>5.00</td>\n",
       "      <td>8.0</td>\n",
       "      <td>2000.0</td>\n",
       "      <td>10-2020</td>\n",
       "    </tr>\n",
       "    <tr>\n",
       "      <th>1</th>\n",
       "      <td>1</td>\n",
       "      <td>ALCATEL</td>\n",
       "      <td>1 5033D 1/16GB Volcano Black (5033D-2LALUAF)</td>\n",
       "      <td>Android</td>\n",
       "      <td>323</td>\n",
       "      <td>1803.0</td>\n",
       "      <td>1659.0</td>\n",
       "      <td>2489.0</td>\n",
       "      <td>36</td>\n",
       "      <td>5.00</td>\n",
       "      <td>16.0</td>\n",
       "      <td>2000.0</td>\n",
       "      <td>9-2020</td>\n",
       "    </tr>\n",
       "    <tr>\n",
       "      <th>2</th>\n",
       "      <td>2</td>\n",
       "      <td>ALCATEL</td>\n",
       "      <td>1 5033D 1/16GB Volcano Black (5033D-2LALUAF)</td>\n",
       "      <td>Android</td>\n",
       "      <td>299</td>\n",
       "      <td>1803.0</td>\n",
       "      <td>1659.0</td>\n",
       "      <td>2489.0</td>\n",
       "      <td>36</td>\n",
       "      <td>5.00</td>\n",
       "      <td>16.0</td>\n",
       "      <td>2000.0</td>\n",
       "      <td>9-2020</td>\n",
       "    </tr>\n",
       "    <tr>\n",
       "      <th>3</th>\n",
       "      <td>3</td>\n",
       "      <td>ALCATEL</td>\n",
       "      <td>1 5033D 1/16GB Volcano Black (5033D-2LALUAF)</td>\n",
       "      <td>Android</td>\n",
       "      <td>287</td>\n",
       "      <td>1803.0</td>\n",
       "      <td>1659.0</td>\n",
       "      <td>2489.0</td>\n",
       "      <td>36</td>\n",
       "      <td>5.00</td>\n",
       "      <td>16.0</td>\n",
       "      <td>2000.0</td>\n",
       "      <td>9-2020</td>\n",
       "    </tr>\n",
       "    <tr>\n",
       "      <th>4</th>\n",
       "      <td>4</td>\n",
       "      <td>Nokia</td>\n",
       "      <td>1.3 1/16GB Charcoal</td>\n",
       "      <td>Android</td>\n",
       "      <td>1047</td>\n",
       "      <td>1999.0</td>\n",
       "      <td>NaN</td>\n",
       "      <td>NaN</td>\n",
       "      <td>10</td>\n",
       "      <td>5.71</td>\n",
       "      <td>16.0</td>\n",
       "      <td>3000.0</td>\n",
       "      <td>4-2020</td>\n",
       "    </tr>\n",
       "    <tr>\n",
       "      <th>...</th>\n",
       "      <td>...</td>\n",
       "      <td>...</td>\n",
       "      <td>...</td>\n",
       "      <td>...</td>\n",
       "      <td>...</td>\n",
       "      <td>...</td>\n",
       "      <td>...</td>\n",
       "      <td>...</td>\n",
       "      <td>...</td>\n",
       "      <td>...</td>\n",
       "      <td>...</td>\n",
       "      <td>...</td>\n",
       "      <td>...</td>\n",
       "    </tr>\n",
       "    <tr>\n",
       "      <th>1219</th>\n",
       "      <td>1219</td>\n",
       "      <td>Apple</td>\n",
       "      <td>iPhone XS Max 64GB Gold (MT522)</td>\n",
       "      <td>iOS</td>\n",
       "      <td>1101</td>\n",
       "      <td>22685.0</td>\n",
       "      <td>16018.0</td>\n",
       "      <td>27900.0</td>\n",
       "      <td>61</td>\n",
       "      <td>6.50</td>\n",
       "      <td>64.0</td>\n",
       "      <td>3174.0</td>\n",
       "      <td>9-2018</td>\n",
       "    </tr>\n",
       "    <tr>\n",
       "      <th>1220</th>\n",
       "      <td>1220</td>\n",
       "      <td>Apple</td>\n",
       "      <td>iPhone XS Max Dual Sim 64GB Gold (MT732)</td>\n",
       "      <td>iOS</td>\n",
       "      <td>530</td>\n",
       "      <td>24600.0</td>\n",
       "      <td>21939.0</td>\n",
       "      <td>33720.0</td>\n",
       "      <td>28</td>\n",
       "      <td>6.50</td>\n",
       "      <td>64.0</td>\n",
       "      <td>3174.0</td>\n",
       "      <td>9-2018</td>\n",
       "    </tr>\n",
       "    <tr>\n",
       "      <th>1221</th>\n",
       "      <td>1221</td>\n",
       "      <td>HUAWEI</td>\n",
       "      <td>nova 5T 6/128GB Black (51094MEU)</td>\n",
       "      <td>Android</td>\n",
       "      <td>1174</td>\n",
       "      <td>8804.0</td>\n",
       "      <td>7999.0</td>\n",
       "      <td>9999.0</td>\n",
       "      <td>18</td>\n",
       "      <td>6.26</td>\n",
       "      <td>128.0</td>\n",
       "      <td>3750.0</td>\n",
       "      <td>11-2019</td>\n",
       "    </tr>\n",
       "    <tr>\n",
       "      <th>1222</th>\n",
       "      <td>1222</td>\n",
       "      <td>ZTE</td>\n",
       "      <td>nubia Red Magic 5G 8/128GB Black</td>\n",
       "      <td>Android</td>\n",
       "      <td>752</td>\n",
       "      <td>18755.0</td>\n",
       "      <td>18500.0</td>\n",
       "      <td>19010.0</td>\n",
       "      <td>2</td>\n",
       "      <td>6.65</td>\n",
       "      <td>128.0</td>\n",
       "      <td>4500.0</td>\n",
       "      <td>10-2020</td>\n",
       "    </tr>\n",
       "    <tr>\n",
       "      <th>1223</th>\n",
       "      <td>1223</td>\n",
       "      <td>Sigma mobile</td>\n",
       "      <td>x-style 35 Screen</td>\n",
       "      <td>NaN</td>\n",
       "      <td>952</td>\n",
       "      <td>907.0</td>\n",
       "      <td>785.0</td>\n",
       "      <td>944.0</td>\n",
       "      <td>75</td>\n",
       "      <td>3.50</td>\n",
       "      <td>NaN</td>\n",
       "      <td>1750.0</td>\n",
       "      <td>1-2020</td>\n",
       "    </tr>\n",
       "  </tbody>\n",
       "</table>\n",
       "<p>1224 rows × 13 columns</p>\n",
       "</div>"
      ],
      "text/plain": [
       "      Code    brand_name                                    model_name  \\\n",
       "0        0       ALCATEL          1 1/8GB Bluish Black (5033D-2JALUAA)   \n",
       "1        1       ALCATEL  1 5033D 1/16GB Volcano Black (5033D-2LALUAF)   \n",
       "2        2       ALCATEL  1 5033D 1/16GB Volcano Black (5033D-2LALUAF)   \n",
       "3        3       ALCATEL  1 5033D 1/16GB Volcano Black (5033D-2LALUAF)   \n",
       "4        4         Nokia                           1.3 1/16GB Charcoal   \n",
       "...    ...           ...                                           ...   \n",
       "1219  1219         Apple               iPhone XS Max 64GB Gold (MT522)   \n",
       "1220  1220         Apple      iPhone XS Max Dual Sim 64GB Gold (MT732)   \n",
       "1221  1221        HUAWEI              nova 5T 6/128GB Black (51094MEU)   \n",
       "1222  1222           ZTE              nubia Red Magic 5G 8/128GB Black   \n",
       "1223  1223  Sigma mobile                             x-style 35 Screen   \n",
       "\n",
       "           os  popularity  best_price  lowest_price  highest_price  \\\n",
       "0     Android         422      1690.0        1529.0         1819.0   \n",
       "1     Android         323      1803.0        1659.0         2489.0   \n",
       "2     Android         299      1803.0        1659.0         2489.0   \n",
       "3     Android         287      1803.0        1659.0         2489.0   \n",
       "4     Android        1047      1999.0           NaN            NaN   \n",
       "...       ...         ...         ...           ...            ...   \n",
       "1219      iOS        1101     22685.0       16018.0        27900.0   \n",
       "1220      iOS         530     24600.0       21939.0        33720.0   \n",
       "1221  Android        1174      8804.0        7999.0         9999.0   \n",
       "1222  Android         752     18755.0       18500.0        19010.0   \n",
       "1223      NaN         952       907.0         785.0          944.0   \n",
       "\n",
       "      sellers_amount  screen_size  memory_size  battery_size release_date  \n",
       "0                 36         5.00          8.0        2000.0      10-2020  \n",
       "1                 36         5.00         16.0        2000.0       9-2020  \n",
       "2                 36         5.00         16.0        2000.0       9-2020  \n",
       "3                 36         5.00         16.0        2000.0       9-2020  \n",
       "4                 10         5.71         16.0        3000.0       4-2020  \n",
       "...              ...          ...          ...           ...          ...  \n",
       "1219              61         6.50         64.0        3174.0       9-2018  \n",
       "1220              28         6.50         64.0        3174.0       9-2018  \n",
       "1221              18         6.26        128.0        3750.0      11-2019  \n",
       "1222               2         6.65        128.0        4500.0      10-2020  \n",
       "1223              75         3.50          NaN        1750.0       1-2020  \n",
       "\n",
       "[1224 rows x 13 columns]"
      ]
     },
     "execution_count": 5,
     "metadata": {},
     "output_type": "execute_result"
    }
   ],
   "source": [
    "phones"
   ]
  },
  {
   "cell_type": "code",
   "execution_count": 6,
   "id": "63c23178",
   "metadata": {},
   "outputs": [],
   "source": [
    "#setting code column as index\n",
    "\n",
    "phones.set_index('Code', drop=True, inplace=True)"
   ]
  },
  {
   "cell_type": "code",
   "execution_count": 7,
   "id": "c15c0018",
   "metadata": {},
   "outputs": [
    {
     "data": {
      "text/plain": [
       "brand_name         object\n",
       "model_name         object\n",
       "os                 object\n",
       "popularity          int64\n",
       "best_price        float64\n",
       "lowest_price      float64\n",
       "highest_price     float64\n",
       "sellers_amount      int64\n",
       "screen_size       float64\n",
       "memory_size       float64\n",
       "battery_size      float64\n",
       "release_date       object\n",
       "dtype: object"
      ]
     },
     "execution_count": 7,
     "metadata": {},
     "output_type": "execute_result"
    }
   ],
   "source": [
    "#Checking data types\n",
    "\n",
    "phones.dtypes"
   ]
  },
  {
   "cell_type": "code",
   "execution_count": 8,
   "id": "91e74028",
   "metadata": {},
   "outputs": [],
   "source": [
    "#coverting date column to date type\n",
    "\n",
    "phones['release_date']= phones['release_date'].astype('datetime64')"
   ]
  },
  {
   "cell_type": "markdown",
   "id": "378b928c",
   "metadata": {},
   "source": [
    "*=> Seems the correct data types*"
   ]
  },
  {
   "cell_type": "code",
   "execution_count": 9,
   "id": "90091fe2",
   "metadata": {},
   "outputs": [
    {
     "data": {
      "text/plain": [
       "brand_name          0\n",
       "model_name          0\n",
       "os                197\n",
       "popularity          0\n",
       "best_price          0\n",
       "lowest_price      260\n",
       "highest_price     260\n",
       "sellers_amount      0\n",
       "screen_size         2\n",
       "memory_size       112\n",
       "battery_size       10\n",
       "release_date        0\n",
       "dtype: int64"
      ]
     },
     "execution_count": 9,
     "metadata": {},
     "output_type": "execute_result"
    }
   ],
   "source": [
    "#Checking for null values\n",
    "\n",
    "phones.isnull().sum()"
   ]
  },
  {
   "cell_type": "code",
   "execution_count": 10,
   "id": "cfbe63df",
   "metadata": {},
   "outputs": [],
   "source": [
    "#droping null os values\n",
    "\n",
    "phones.dropna(subset=['os'], axis=0, inplace=True)"
   ]
  },
  {
   "cell_type": "code",
   "execution_count": 11,
   "id": "cbb91791",
   "metadata": {},
   "outputs": [],
   "source": [
    "#dropping null battery_size values\n",
    "\n",
    "phones.dropna(subset=['battery_size'] , axis=0, inplace=True)"
   ]
  },
  {
   "cell_type": "code",
   "execution_count": 12,
   "id": "acdb81bd",
   "metadata": {},
   "outputs": [],
   "source": [
    "#dropping null screen_size values\n",
    "\n",
    "phones.dropna(subset=['screen_size'] , axis=0, inplace=True)"
   ]
  },
  {
   "cell_type": "code",
   "execution_count": 13,
   "id": "aeadafb0",
   "metadata": {},
   "outputs": [],
   "source": [
    "#Replacing null highest price with the mean\n",
    "\n",
    "phones['highest_price'].fillna(phones['highest_price'].mean(), inplace=True)"
   ]
  },
  {
   "cell_type": "code",
   "execution_count": 14,
   "id": "1f8f2ac1",
   "metadata": {},
   "outputs": [],
   "source": [
    "#Replacing null lowest price with the mean\n",
    "\n",
    "phones['lowest_price'].fillna(phones['lowest_price'].mean(), inplace=True)"
   ]
  },
  {
   "cell_type": "code",
   "execution_count": 15,
   "id": "8bfa79b4",
   "metadata": {},
   "outputs": [
    {
     "data": {
      "text/plain": [
       "brand_name                object\n",
       "model_name                object\n",
       "os                        object\n",
       "popularity                 int64\n",
       "best_price               float64\n",
       "lowest_price             float64\n",
       "highest_price            float64\n",
       "sellers_amount             int64\n",
       "screen_size              float64\n",
       "memory_size              float64\n",
       "battery_size             float64\n",
       "release_date      datetime64[ns]\n",
       "dtype: object"
      ]
     },
     "execution_count": 15,
     "metadata": {},
     "output_type": "execute_result"
    }
   ],
   "source": [
    "#checking for data types again\n",
    "\n",
    "phones.dtypes"
   ]
  },
  {
   "cell_type": "code",
   "execution_count": 16,
   "id": "a30bb18e",
   "metadata": {},
   "outputs": [
    {
     "data": {
      "text/html": [
       "<div>\n",
       "<style scoped>\n",
       "    .dataframe tbody tr th:only-of-type {\n",
       "        vertical-align: middle;\n",
       "    }\n",
       "\n",
       "    .dataframe tbody tr th {\n",
       "        vertical-align: top;\n",
       "    }\n",
       "\n",
       "    .dataframe thead th {\n",
       "        text-align: right;\n",
       "    }\n",
       "</style>\n",
       "<table border=\"1\" class=\"dataframe\">\n",
       "  <thead>\n",
       "    <tr style=\"text-align: right;\">\n",
       "      <th></th>\n",
       "      <th>popularity</th>\n",
       "      <th>best_price</th>\n",
       "      <th>lowest_price</th>\n",
       "      <th>highest_price</th>\n",
       "      <th>sellers_amount</th>\n",
       "      <th>screen_size</th>\n",
       "      <th>memory_size</th>\n",
       "      <th>battery_size</th>\n",
       "    </tr>\n",
       "  </thead>\n",
       "  <tbody>\n",
       "    <tr>\n",
       "      <th>count</th>\n",
       "      <td>1016.000000</td>\n",
       "      <td>1016.000000</td>\n",
       "      <td>1016.000000</td>\n",
       "      <td>1016.000000</td>\n",
       "      <td>1016.000000</td>\n",
       "      <td>1016.000000</td>\n",
       "      <td>1016.000000</td>\n",
       "      <td>1016.000000</td>\n",
       "    </tr>\n",
       "    <tr>\n",
       "      <th>mean</th>\n",
       "      <td>650.452756</td>\n",
       "      <td>9256.238189</td>\n",
       "      <td>9214.326923</td>\n",
       "      <td>11751.229487</td>\n",
       "      <td>15.807087</td>\n",
       "      <td>5.990354</td>\n",
       "      <td>103.133858</td>\n",
       "      <td>3988.392717</td>\n",
       "    </tr>\n",
       "    <tr>\n",
       "      <th>std</th>\n",
       "      <td>356.367500</td>\n",
       "      <td>8985.226923</td>\n",
       "      <td>7580.032597</td>\n",
       "      <td>10244.129821</td>\n",
       "      <td>21.154747</td>\n",
       "      <td>0.623278</td>\n",
       "      <td>112.516498</td>\n",
       "      <td>1329.094396</td>\n",
       "    </tr>\n",
       "    <tr>\n",
       "      <th>min</th>\n",
       "      <td>2.000000</td>\n",
       "      <td>840.000000</td>\n",
       "      <td>899.000000</td>\n",
       "      <td>1059.000000</td>\n",
       "      <td>1.000000</td>\n",
       "      <td>2.400000</td>\n",
       "      <td>4.000000</td>\n",
       "      <td>1300.000000</td>\n",
       "    </tr>\n",
       "    <tr>\n",
       "      <th>25%</th>\n",
       "      <td>343.750000</td>\n",
       "      <td>3498.750000</td>\n",
       "      <td>4051.500000</td>\n",
       "      <td>4723.500000</td>\n",
       "      <td>2.000000</td>\n",
       "      <td>5.500000</td>\n",
       "      <td>32.000000</td>\n",
       "      <td>3020.000000</td>\n",
       "    </tr>\n",
       "    <tr>\n",
       "      <th>50%</th>\n",
       "      <td>673.500000</td>\n",
       "      <td>5497.000000</td>\n",
       "      <td>7999.000000</td>\n",
       "      <td>9624.000000</td>\n",
       "      <td>7.000000</td>\n",
       "      <td>6.100000</td>\n",
       "      <td>64.000000</td>\n",
       "      <td>4000.000000</td>\n",
       "    </tr>\n",
       "    <tr>\n",
       "      <th>75%</th>\n",
       "      <td>964.250000</td>\n",
       "      <td>11787.750000</td>\n",
       "      <td>9214.326923</td>\n",
       "      <td>11751.229487</td>\n",
       "      <td>22.000000</td>\n",
       "      <td>6.500000</td>\n",
       "      <td>128.000000</td>\n",
       "      <td>4500.000000</td>\n",
       "    </tr>\n",
       "    <tr>\n",
       "      <th>max</th>\n",
       "      <td>1224.000000</td>\n",
       "      <td>55338.000000</td>\n",
       "      <td>45799.000000</td>\n",
       "      <td>64999.000000</td>\n",
       "      <td>125.000000</td>\n",
       "      <td>8.100000</td>\n",
       "      <td>1000.000000</td>\n",
       "      <td>13000.000000</td>\n",
       "    </tr>\n",
       "  </tbody>\n",
       "</table>\n",
       "</div>"
      ],
      "text/plain": [
       "        popularity    best_price  lowest_price  highest_price  sellers_amount  \\\n",
       "count  1016.000000   1016.000000   1016.000000    1016.000000     1016.000000   \n",
       "mean    650.452756   9256.238189   9214.326923   11751.229487       15.807087   \n",
       "std     356.367500   8985.226923   7580.032597   10244.129821       21.154747   \n",
       "min       2.000000    840.000000    899.000000    1059.000000        1.000000   \n",
       "25%     343.750000   3498.750000   4051.500000    4723.500000        2.000000   \n",
       "50%     673.500000   5497.000000   7999.000000    9624.000000        7.000000   \n",
       "75%     964.250000  11787.750000   9214.326923   11751.229487       22.000000   \n",
       "max    1224.000000  55338.000000  45799.000000   64999.000000      125.000000   \n",
       "\n",
       "       screen_size  memory_size  battery_size  \n",
       "count  1016.000000  1016.000000   1016.000000  \n",
       "mean      5.990354   103.133858   3988.392717  \n",
       "std       0.623278   112.516498   1329.094396  \n",
       "min       2.400000     4.000000   1300.000000  \n",
       "25%       5.500000    32.000000   3020.000000  \n",
       "50%       6.100000    64.000000   4000.000000  \n",
       "75%       6.500000   128.000000   4500.000000  \n",
       "max       8.100000  1000.000000  13000.000000  "
      ]
     },
     "execution_count": 16,
     "metadata": {},
     "output_type": "execute_result"
    }
   ],
   "source": [
    "#Evaluating data statistics\n",
    "\n",
    "phones.describe()"
   ]
  },
  {
   "cell_type": "code",
   "execution_count": 17,
   "id": "ef7b4d73",
   "metadata": {},
   "outputs": [
    {
     "data": {
      "text/plain": [
       "Text(0.5, 1.0, 'Phones Data Outliers')"
      ]
     },
     "execution_count": 17,
     "metadata": {},
     "output_type": "execute_result"
    },
    {
     "data": {
      "image/png": "[encoded data removed]",
      "text/plain": [
       "<Figure size 720x432 with 1 Axes>"
      ]
     },
     "metadata": {},
     "output_type": "display_data"
    }
   ],
   "source": [
    "#Checking for outliers\n",
    "plt.style.use('ggplot')\n",
    "phones.boxplot(figsize=(10,6))\n",
    "plt.title('Phones Data Outliers')"
   ]
  },
  {
   "cell_type": "markdown",
   "id": "69059a1c",
   "metadata": {},
   "source": [
    "*=> It seems that the outliers are mainly concentrated into best_price, lowest_price, and highest_price categories*"
   ]
  },
  {
   "cell_type": "code",
   "execution_count": 18,
   "id": "fa55c8d2",
   "metadata": {},
   "outputs": [
    {
     "data": {
      "text/html": [
       "<div>\n",
       "<style scoped>\n",
       "    .dataframe tbody tr th:only-of-type {\n",
       "        vertical-align: middle;\n",
       "    }\n",
       "\n",
       "    .dataframe tbody tr th {\n",
       "        vertical-align: top;\n",
       "    }\n",
       "\n",
       "    .dataframe thead th {\n",
       "        text-align: right;\n",
       "    }\n",
       "</style>\n",
       "<table border=\"1\" class=\"dataframe\">\n",
       "  <thead>\n",
       "    <tr style=\"text-align: right;\">\n",
       "      <th></th>\n",
       "      <th>popularity</th>\n",
       "      <th>best_price</th>\n",
       "      <th>lowest_price</th>\n",
       "      <th>highest_price</th>\n",
       "      <th>sellers_amount</th>\n",
       "      <th>screen_size</th>\n",
       "      <th>memory_size</th>\n",
       "      <th>battery_size</th>\n",
       "    </tr>\n",
       "  </thead>\n",
       "  <tbody>\n",
       "    <tr>\n",
       "      <th>0.00</th>\n",
       "      <td>2.00</td>\n",
       "      <td>840.00</td>\n",
       "      <td>899.000000</td>\n",
       "      <td>1059.000000</td>\n",
       "      <td>1.0</td>\n",
       "      <td>2.4</td>\n",
       "      <td>4.0</td>\n",
       "      <td>1300.0</td>\n",
       "    </tr>\n",
       "    <tr>\n",
       "      <th>0.25</th>\n",
       "      <td>343.75</td>\n",
       "      <td>3498.75</td>\n",
       "      <td>4051.500000</td>\n",
       "      <td>4723.500000</td>\n",
       "      <td>2.0</td>\n",
       "      <td>5.5</td>\n",
       "      <td>32.0</td>\n",
       "      <td>3020.0</td>\n",
       "    </tr>\n",
       "    <tr>\n",
       "      <th>0.50</th>\n",
       "      <td>673.50</td>\n",
       "      <td>5497.00</td>\n",
       "      <td>7999.000000</td>\n",
       "      <td>9624.000000</td>\n",
       "      <td>7.0</td>\n",
       "      <td>6.1</td>\n",
       "      <td>64.0</td>\n",
       "      <td>4000.0</td>\n",
       "    </tr>\n",
       "    <tr>\n",
       "      <th>0.75</th>\n",
       "      <td>964.25</td>\n",
       "      <td>11787.75</td>\n",
       "      <td>9214.326923</td>\n",
       "      <td>11751.229487</td>\n",
       "      <td>22.0</td>\n",
       "      <td>6.5</td>\n",
       "      <td>128.0</td>\n",
       "      <td>4500.0</td>\n",
       "    </tr>\n",
       "    <tr>\n",
       "      <th>1.00</th>\n",
       "      <td>1224.00</td>\n",
       "      <td>55338.00</td>\n",
       "      <td>45799.000000</td>\n",
       "      <td>64999.000000</td>\n",
       "      <td>125.0</td>\n",
       "      <td>8.1</td>\n",
       "      <td>1000.0</td>\n",
       "      <td>13000.0</td>\n",
       "    </tr>\n",
       "  </tbody>\n",
       "</table>\n",
       "</div>"
      ],
      "text/plain": [
       "      popularity  best_price  lowest_price  highest_price  sellers_amount  \\\n",
       "0.00        2.00      840.00    899.000000    1059.000000             1.0   \n",
       "0.25      343.75     3498.75   4051.500000    4723.500000             2.0   \n",
       "0.50      673.50     5497.00   7999.000000    9624.000000             7.0   \n",
       "0.75      964.25    11787.75   9214.326923   11751.229487            22.0   \n",
       "1.00     1224.00    55338.00  45799.000000   64999.000000           125.0   \n",
       "\n",
       "      screen_size  memory_size  battery_size  \n",
       "0.00          2.4          4.0        1300.0  \n",
       "0.25          5.5         32.0        3020.0  \n",
       "0.50          6.1         64.0        4000.0  \n",
       "0.75          6.5        128.0        4500.0  \n",
       "1.00          8.1       1000.0       13000.0  "
      ]
     },
     "execution_count": 18,
     "metadata": {},
     "output_type": "execute_result"
    }
   ],
   "source": [
    "#Evaluating Quartiles\n",
    "\n",
    "phones.quantile([0,0.25,0.5,0.75,1])"
   ]
  },
  {
   "cell_type": "markdown",
   "id": "40c0c61c",
   "metadata": {},
   "source": [
    "## Evaluating Interquartile Range"
   ]
  },
  {
   "cell_type": "code",
   "execution_count": 19,
   "id": "25a71626",
   "metadata": {},
   "outputs": [],
   "source": [
    "#best price\n",
    "\n",
    "best_price_IQR=phones['best_price'].quantile(0.75)-phones['best_price'].quantile(0.25)\n",
    "\n",
    "#lowest price\n",
    "\n",
    "lowest_price_IQR=phones['lowest_price'].quantile(0.75)-phones['lowest_price'].quantile(0.25)\n",
    "\n",
    "#highest price\n",
    "\n",
    "highest_price_IQR=phones['highest_price'].quantile(0.75)-phones['highest_price'].quantile(0.25)"
   ]
  },
  {
   "cell_type": "markdown",
   "id": "a92949ba",
   "metadata": {},
   "source": [
    "## Evaluating Upper Outliers"
   ]
  },
  {
   "cell_type": "code",
   "execution_count": 20,
   "id": "ff75f362",
   "metadata": {},
   "outputs": [],
   "source": [
    "#best price\n",
    "\n",
    "best_price_upper = phones['best_price'].quantile(0.75)+1.5*best_price_IQR\n",
    "\n",
    "#lowest price\n",
    "\n",
    "lowest_price_upper = phones['lowest_price'].quantile(0.75)+1.5*lowest_price_IQR\n",
    "\n",
    "#highest price\n",
    "\n",
    "highest_price_upper = phones['highest_price'].quantile(0.75)+1.5*highest_price_IQR"
   ]
  },
  {
   "cell_type": "markdown",
   "id": "4b2e583e",
   "metadata": {},
   "source": [
    "## Evaluating Lower Outliers"
   ]
  },
  {
   "cell_type": "code",
   "execution_count": 21,
   "id": "f34be4e7",
   "metadata": {},
   "outputs": [],
   "source": [
    "#best price\n",
    "\n",
    "best_price_lower = phones['best_price'].quantile(0.25)-1.5*best_price_IQR\n",
    "\n",
    "#lowest price\n",
    "\n",
    "lowest_price_lower = phones['lowest_price'].quantile(0.25)-1.5*lowest_price_IQR\n",
    "\n",
    "#highest price\n",
    "\n",
    "highest_price_lower = phones['highest_price'].quantile(0.25)-1.5*highest_price_IQR"
   ]
  },
  {
   "cell_type": "markdown",
   "id": "a68f6e55",
   "metadata": {},
   "source": [
    "## Generating and Evaluating Outliers"
   ]
  },
  {
   "cell_type": "code",
   "execution_count": 22,
   "id": "b35cb7cc",
   "metadata": {},
   "outputs": [
    {
     "data": {
      "text/html": [
       "<div>\n",
       "<style scoped>\n",
       "    .dataframe tbody tr th:only-of-type {\n",
       "        vertical-align: middle;\n",
       "    }\n",
       "\n",
       "    .dataframe tbody tr th {\n",
       "        vertical-align: top;\n",
       "    }\n",
       "\n",
       "    .dataframe thead th {\n",
       "        text-align: right;\n",
       "    }\n",
       "</style>\n",
       "<table border=\"1\" class=\"dataframe\">\n",
       "  <thead>\n",
       "    <tr style=\"text-align: right;\">\n",
       "      <th></th>\n",
       "      <th>brand_name</th>\n",
       "      <th>model_name</th>\n",
       "      <th>os</th>\n",
       "      <th>popularity</th>\n",
       "      <th>best_price</th>\n",
       "      <th>lowest_price</th>\n",
       "      <th>highest_price</th>\n",
       "      <th>sellers_amount</th>\n",
       "      <th>screen_size</th>\n",
       "      <th>memory_size</th>\n",
       "      <th>battery_size</th>\n",
       "      <th>release_date</th>\n",
       "    </tr>\n",
       "    <tr>\n",
       "      <th>Code</th>\n",
       "      <th></th>\n",
       "      <th></th>\n",
       "      <th></th>\n",
       "      <th></th>\n",
       "      <th></th>\n",
       "      <th></th>\n",
       "      <th></th>\n",
       "      <th></th>\n",
       "      <th></th>\n",
       "      <th></th>\n",
       "      <th></th>\n",
       "      <th></th>\n",
       "    </tr>\n",
       "  </thead>\n",
       "  <tbody>\n",
       "    <tr>\n",
       "      <th>356</th>\n",
       "      <td>OPPO</td>\n",
       "      <td>Find X2 12/256GB Ocean Black</td>\n",
       "      <td>Android</td>\n",
       "      <td>590</td>\n",
       "      <td>29999.0</td>\n",
       "      <td>9214.326923</td>\n",
       "      <td>11751.229487</td>\n",
       "      <td>2</td>\n",
       "      <td>6.7</td>\n",
       "      <td>256.0</td>\n",
       "      <td>4200.0</td>\n",
       "      <td>2020-04-01</td>\n",
       "    </tr>\n",
       "    <tr>\n",
       "      <th>357</th>\n",
       "      <td>OPPO</td>\n",
       "      <td>Find X2 Pro 12/512GB Orange</td>\n",
       "      <td>Android</td>\n",
       "      <td>474</td>\n",
       "      <td>32530.0</td>\n",
       "      <td>31720.000000</td>\n",
       "      <td>33999.000000</td>\n",
       "      <td>4</td>\n",
       "      <td>6.7</td>\n",
       "      <td>512.0</td>\n",
       "      <td>4260.0</td>\n",
       "      <td>2021-01-01</td>\n",
       "    </tr>\n",
       "    <tr>\n",
       "      <th>432</th>\n",
       "      <td>Samsung</td>\n",
       "      <td>Galaxy Fold 12/256GB Black</td>\n",
       "      <td>Android</td>\n",
       "      <td>298</td>\n",
       "      <td>55338.0</td>\n",
       "      <td>45799.000000</td>\n",
       "      <td>59999.000000</td>\n",
       "      <td>4</td>\n",
       "      <td>7.3</td>\n",
       "      <td>256.0</td>\n",
       "      <td>4380.0</td>\n",
       "      <td>2019-11-01</td>\n",
       "    </tr>\n",
       "    <tr>\n",
       "      <th>433</th>\n",
       "      <td>Samsung</td>\n",
       "      <td>Galaxy Fold 12/512GB Black (SM-F900FZKD)</td>\n",
       "      <td>Android</td>\n",
       "      <td>819</td>\n",
       "      <td>41310.0</td>\n",
       "      <td>34100.000000</td>\n",
       "      <td>56999.000000</td>\n",
       "      <td>31</td>\n",
       "      <td>7.3</td>\n",
       "      <td>512.0</td>\n",
       "      <td>4380.0</td>\n",
       "      <td>2019-03-01</td>\n",
       "    </tr>\n",
       "    <tr>\n",
       "      <th>434</th>\n",
       "      <td>Samsung</td>\n",
       "      <td>Galaxy Fold 5G SM-F907B 12/512GB Black</td>\n",
       "      <td>Android</td>\n",
       "      <td>304</td>\n",
       "      <td>37640.0</td>\n",
       "      <td>35400.000000</td>\n",
       "      <td>49593.000000</td>\n",
       "      <td>10</td>\n",
       "      <td>7.3</td>\n",
       "      <td>512.0</td>\n",
       "      <td>4235.0</td>\n",
       "      <td>2020-03-01</td>\n",
       "    </tr>\n",
       "    <tr>\n",
       "      <th>...</th>\n",
       "      <td>...</td>\n",
       "      <td>...</td>\n",
       "      <td>...</td>\n",
       "      <td>...</td>\n",
       "      <td>...</td>\n",
       "      <td>...</td>\n",
       "      <td>...</td>\n",
       "      <td>...</td>\n",
       "      <td>...</td>\n",
       "      <td>...</td>\n",
       "      <td>...</td>\n",
       "      <td>...</td>\n",
       "    </tr>\n",
       "    <tr>\n",
       "      <th>1157</th>\n",
       "      <td>Apple</td>\n",
       "      <td>iPhone 12 Pro Max 512GB Pacific Blue (MGDL3)</td>\n",
       "      <td>iOS</td>\n",
       "      <td>1103</td>\n",
       "      <td>46325.0</td>\n",
       "      <td>43396.000000</td>\n",
       "      <td>57999.000000</td>\n",
       "      <td>92</td>\n",
       "      <td>6.7</td>\n",
       "      <td>512.0</td>\n",
       "      <td>3687.0</td>\n",
       "      <td>2020-10-01</td>\n",
       "    </tr>\n",
       "    <tr>\n",
       "      <th>1158</th>\n",
       "      <td>Apple</td>\n",
       "      <td>iPhone 12 mini 128GB Black (MGE33)</td>\n",
       "      <td>iOS</td>\n",
       "      <td>1183</td>\n",
       "      <td>25687.0</td>\n",
       "      <td>23293.000000</td>\n",
       "      <td>31499.000000</td>\n",
       "      <td>111</td>\n",
       "      <td>5.4</td>\n",
       "      <td>128.0</td>\n",
       "      <td>2227.0</td>\n",
       "      <td>2020-10-01</td>\n",
       "    </tr>\n",
       "    <tr>\n",
       "      <th>1159</th>\n",
       "      <td>Apple</td>\n",
       "      <td>iPhone 12 mini 256GB Black (MGE93)</td>\n",
       "      <td>iOS</td>\n",
       "      <td>995</td>\n",
       "      <td>31369.0</td>\n",
       "      <td>28599.000000</td>\n",
       "      <td>35499.000000</td>\n",
       "      <td>81</td>\n",
       "      <td>5.4</td>\n",
       "      <td>256.0</td>\n",
       "      <td>2227.0</td>\n",
       "      <td>2020-10-01</td>\n",
       "    </tr>\n",
       "    <tr>\n",
       "      <th>1218</th>\n",
       "      <td>Apple</td>\n",
       "      <td>iPhone XS Max 512GB Space Gray (MT622)</td>\n",
       "      <td>iOS</td>\n",
       "      <td>842</td>\n",
       "      <td>27190.0</td>\n",
       "      <td>21150.000000</td>\n",
       "      <td>30200.000000</td>\n",
       "      <td>47</td>\n",
       "      <td>6.5</td>\n",
       "      <td>512.0</td>\n",
       "      <td>3174.0</td>\n",
       "      <td>2018-09-01</td>\n",
       "    </tr>\n",
       "    <tr>\n",
       "      <th>1220</th>\n",
       "      <td>Apple</td>\n",
       "      <td>iPhone XS Max Dual Sim 64GB Gold (MT732)</td>\n",
       "      <td>iOS</td>\n",
       "      <td>530</td>\n",
       "      <td>24600.0</td>\n",
       "      <td>21939.000000</td>\n",
       "      <td>33720.000000</td>\n",
       "      <td>28</td>\n",
       "      <td>6.5</td>\n",
       "      <td>64.0</td>\n",
       "      <td>3174.0</td>\n",
       "      <td>2018-09-01</td>\n",
       "    </tr>\n",
       "  </tbody>\n",
       "</table>\n",
       "<p>79 rows × 12 columns</p>\n",
       "</div>"
      ],
      "text/plain": [
       "     brand_name                                    model_name       os  \\\n",
       "Code                                                                     \n",
       "356        OPPO                  Find X2 12/256GB Ocean Black  Android   \n",
       "357        OPPO                   Find X2 Pro 12/512GB Orange  Android   \n",
       "432     Samsung                    Galaxy Fold 12/256GB Black  Android   \n",
       "433     Samsung      Galaxy Fold 12/512GB Black (SM-F900FZKD)  Android   \n",
       "434     Samsung        Galaxy Fold 5G SM-F907B 12/512GB Black  Android   \n",
       "...         ...                                           ...      ...   \n",
       "1157      Apple  iPhone 12 Pro Max 512GB Pacific Blue (MGDL3)      iOS   \n",
       "1158      Apple            iPhone 12 mini 128GB Black (MGE33)      iOS   \n",
       "1159      Apple            iPhone 12 mini 256GB Black (MGE93)      iOS   \n",
       "1218      Apple        iPhone XS Max 512GB Space Gray (MT622)      iOS   \n",
       "1220      Apple      iPhone XS Max Dual Sim 64GB Gold (MT732)      iOS   \n",
       "\n",
       "      popularity  best_price  lowest_price  highest_price  sellers_amount  \\\n",
       "Code                                                                        \n",
       "356          590     29999.0   9214.326923   11751.229487               2   \n",
       "357          474     32530.0  31720.000000   33999.000000               4   \n",
       "432          298     55338.0  45799.000000   59999.000000               4   \n",
       "433          819     41310.0  34100.000000   56999.000000              31   \n",
       "434          304     37640.0  35400.000000   49593.000000              10   \n",
       "...          ...         ...           ...            ...             ...   \n",
       "1157        1103     46325.0  43396.000000   57999.000000              92   \n",
       "1158        1183     25687.0  23293.000000   31499.000000             111   \n",
       "1159         995     31369.0  28599.000000   35499.000000              81   \n",
       "1218         842     27190.0  21150.000000   30200.000000              47   \n",
       "1220         530     24600.0  21939.000000   33720.000000              28   \n",
       "\n",
       "      screen_size  memory_size  battery_size release_date  \n",
       "Code                                                       \n",
       "356           6.7        256.0        4200.0   2020-04-01  \n",
       "357           6.7        512.0        4260.0   2021-01-01  \n",
       "432           7.3        256.0        4380.0   2019-11-01  \n",
       "433           7.3        512.0        4380.0   2019-03-01  \n",
       "434           7.3        512.0        4235.0   2020-03-01  \n",
       "...           ...          ...           ...          ...  \n",
       "1157          6.7        512.0        3687.0   2020-10-01  \n",
       "1158          5.4        128.0        2227.0   2020-10-01  \n",
       "1159          5.4        256.0        2227.0   2020-10-01  \n",
       "1218          6.5        512.0        3174.0   2018-09-01  \n",
       "1220          6.5         64.0        3174.0   2018-09-01  \n",
       "\n",
       "[79 rows x 12 columns]"
      ]
     },
     "execution_count": 22,
     "metadata": {},
     "output_type": "execute_result"
    }
   ],
   "source": [
    "#best price\n",
    "\n",
    "phones[(phones['best_price']>best_price_upper)|(phones['best_price']<best_price_lower)]"
   ]
  },
  {
   "cell_type": "code",
   "execution_count": 23,
   "id": "1faa2cef",
   "metadata": {},
   "outputs": [
    {
     "data": {
      "text/html": [
       "<div>\n",
       "<style scoped>\n",
       "    .dataframe tbody tr th:only-of-type {\n",
       "        vertical-align: middle;\n",
       "    }\n",
       "\n",
       "    .dataframe tbody tr th {\n",
       "        vertical-align: top;\n",
       "    }\n",
       "\n",
       "    .dataframe thead th {\n",
       "        text-align: right;\n",
       "    }\n",
       "</style>\n",
       "<table border=\"1\" class=\"dataframe\">\n",
       "  <thead>\n",
       "    <tr style=\"text-align: right;\">\n",
       "      <th></th>\n",
       "      <th>brand_name</th>\n",
       "      <th>model_name</th>\n",
       "      <th>os</th>\n",
       "      <th>popularity</th>\n",
       "      <th>best_price</th>\n",
       "      <th>lowest_price</th>\n",
       "      <th>highest_price</th>\n",
       "      <th>sellers_amount</th>\n",
       "      <th>screen_size</th>\n",
       "      <th>memory_size</th>\n",
       "      <th>battery_size</th>\n",
       "      <th>release_date</th>\n",
       "    </tr>\n",
       "    <tr>\n",
       "      <th>Code</th>\n",
       "      <th></th>\n",
       "      <th></th>\n",
       "      <th></th>\n",
       "      <th></th>\n",
       "      <th></th>\n",
       "      <th></th>\n",
       "      <th></th>\n",
       "      <th></th>\n",
       "      <th></th>\n",
       "      <th></th>\n",
       "      <th></th>\n",
       "      <th></th>\n",
       "    </tr>\n",
       "  </thead>\n",
       "  <tbody>\n",
       "    <tr>\n",
       "      <th>112</th>\n",
       "      <td>OnePlus</td>\n",
       "      <td>8 Pro 12/256GB Glacial Green</td>\n",
       "      <td>Android</td>\n",
       "      <td>1095</td>\n",
       "      <td>22587.0</td>\n",
       "      <td>21778.0</td>\n",
       "      <td>25999.0</td>\n",
       "      <td>32</td>\n",
       "      <td>6.78</td>\n",
       "      <td>256.0</td>\n",
       "      <td>4510.0</td>\n",
       "      <td>2020-04-01</td>\n",
       "    </tr>\n",
       "    <tr>\n",
       "      <th>113</th>\n",
       "      <td>OnePlus</td>\n",
       "      <td>8 Pro 8/128GB Onyx Black</td>\n",
       "      <td>Android</td>\n",
       "      <td>1161</td>\n",
       "      <td>20709.0</td>\n",
       "      <td>20095.0</td>\n",
       "      <td>21999.0</td>\n",
       "      <td>23</td>\n",
       "      <td>6.78</td>\n",
       "      <td>128.0</td>\n",
       "      <td>4510.0</td>\n",
       "      <td>2020-04-01</td>\n",
       "    </tr>\n",
       "    <tr>\n",
       "      <th>114</th>\n",
       "      <td>Nokia</td>\n",
       "      <td>8.3 5G 8/128GB Polar Night</td>\n",
       "      <td>Android</td>\n",
       "      <td>1055</td>\n",
       "      <td>19041.0</td>\n",
       "      <td>18500.0</td>\n",
       "      <td>20517.0</td>\n",
       "      <td>18</td>\n",
       "      <td>6.81</td>\n",
       "      <td>128.0</td>\n",
       "      <td>4500.0</td>\n",
       "      <td>2020-10-01</td>\n",
       "    </tr>\n",
       "    <tr>\n",
       "      <th>122</th>\n",
       "      <td>OnePlus</td>\n",
       "      <td>8T 12/256GB Cyberpunk 2077 Limited Edition</td>\n",
       "      <td>Android</td>\n",
       "      <td>938</td>\n",
       "      <td>23999.0</td>\n",
       "      <td>23999.0</td>\n",
       "      <td>24000.0</td>\n",
       "      <td>2</td>\n",
       "      <td>6.55</td>\n",
       "      <td>256.0</td>\n",
       "      <td>4500.0</td>\n",
       "      <td>2021-01-01</td>\n",
       "    </tr>\n",
       "    <tr>\n",
       "      <th>123</th>\n",
       "      <td>OnePlus</td>\n",
       "      <td>8T 12/256GB Lunar Silver</td>\n",
       "      <td>Android</td>\n",
       "      <td>1159</td>\n",
       "      <td>18200.0</td>\n",
       "      <td>17249.0</td>\n",
       "      <td>19999.0</td>\n",
       "      <td>29</td>\n",
       "      <td>6.55</td>\n",
       "      <td>256.0</td>\n",
       "      <td>4500.0</td>\n",
       "      <td>2020-10-01</td>\n",
       "    </tr>\n",
       "    <tr>\n",
       "      <th>...</th>\n",
       "      <td>...</td>\n",
       "      <td>...</td>\n",
       "      <td>...</td>\n",
       "      <td>...</td>\n",
       "      <td>...</td>\n",
       "      <td>...</td>\n",
       "      <td>...</td>\n",
       "      <td>...</td>\n",
       "      <td>...</td>\n",
       "      <td>...</td>\n",
       "      <td>...</td>\n",
       "      <td>...</td>\n",
       "    </tr>\n",
       "    <tr>\n",
       "      <th>1215</th>\n",
       "      <td>Apple</td>\n",
       "      <td>iPhone XS 512GB Silver (MT9M2)</td>\n",
       "      <td>iOS</td>\n",
       "      <td>803</td>\n",
       "      <td>22842.0</td>\n",
       "      <td>17832.0</td>\n",
       "      <td>27500.0</td>\n",
       "      <td>62</td>\n",
       "      <td>5.80</td>\n",
       "      <td>512.0</td>\n",
       "      <td>2568.0</td>\n",
       "      <td>2018-09-01</td>\n",
       "    </tr>\n",
       "    <tr>\n",
       "      <th>1217</th>\n",
       "      <td>Apple</td>\n",
       "      <td>iPhone XS Max 256GB Gold (MT552)</td>\n",
       "      <td>iOS</td>\n",
       "      <td>1128</td>\n",
       "      <td>24184.0</td>\n",
       "      <td>18399.0</td>\n",
       "      <td>30600.0</td>\n",
       "      <td>37</td>\n",
       "      <td>6.50</td>\n",
       "      <td>256.0</td>\n",
       "      <td>3174.0</td>\n",
       "      <td>2018-09-01</td>\n",
       "    </tr>\n",
       "    <tr>\n",
       "      <th>1218</th>\n",
       "      <td>Apple</td>\n",
       "      <td>iPhone XS Max 512GB Space Gray (MT622)</td>\n",
       "      <td>iOS</td>\n",
       "      <td>842</td>\n",
       "      <td>27190.0</td>\n",
       "      <td>21150.0</td>\n",
       "      <td>30200.0</td>\n",
       "      <td>47</td>\n",
       "      <td>6.50</td>\n",
       "      <td>512.0</td>\n",
       "      <td>3174.0</td>\n",
       "      <td>2018-09-01</td>\n",
       "    </tr>\n",
       "    <tr>\n",
       "      <th>1220</th>\n",
       "      <td>Apple</td>\n",
       "      <td>iPhone XS Max Dual Sim 64GB Gold (MT732)</td>\n",
       "      <td>iOS</td>\n",
       "      <td>530</td>\n",
       "      <td>24600.0</td>\n",
       "      <td>21939.0</td>\n",
       "      <td>33720.0</td>\n",
       "      <td>28</td>\n",
       "      <td>6.50</td>\n",
       "      <td>64.0</td>\n",
       "      <td>3174.0</td>\n",
       "      <td>2018-09-01</td>\n",
       "    </tr>\n",
       "    <tr>\n",
       "      <th>1222</th>\n",
       "      <td>ZTE</td>\n",
       "      <td>nubia Red Magic 5G 8/128GB Black</td>\n",
       "      <td>Android</td>\n",
       "      <td>752</td>\n",
       "      <td>18755.0</td>\n",
       "      <td>18500.0</td>\n",
       "      <td>19010.0</td>\n",
       "      <td>2</td>\n",
       "      <td>6.65</td>\n",
       "      <td>128.0</td>\n",
       "      <td>4500.0</td>\n",
       "      <td>2020-10-01</td>\n",
       "    </tr>\n",
       "  </tbody>\n",
       "</table>\n",
       "<p>134 rows × 12 columns</p>\n",
       "</div>"
      ],
      "text/plain": [
       "     brand_name                                  model_name       os  \\\n",
       "Code                                                                   \n",
       "112     OnePlus                8 Pro 12/256GB Glacial Green  Android   \n",
       "113     OnePlus                    8 Pro 8/128GB Onyx Black  Android   \n",
       "114       Nokia                  8.3 5G 8/128GB Polar Night  Android   \n",
       "122     OnePlus  8T 12/256GB Cyberpunk 2077 Limited Edition  Android   \n",
       "123     OnePlus                    8T 12/256GB Lunar Silver  Android   \n",
       "...         ...                                         ...      ...   \n",
       "1215      Apple              iPhone XS 512GB Silver (MT9M2)      iOS   \n",
       "1217      Apple            iPhone XS Max 256GB Gold (MT552)      iOS   \n",
       "1218      Apple      iPhone XS Max 512GB Space Gray (MT622)      iOS   \n",
       "1220      Apple    iPhone XS Max Dual Sim 64GB Gold (MT732)      iOS   \n",
       "1222        ZTE            nubia Red Magic 5G 8/128GB Black  Android   \n",
       "\n",
       "      popularity  best_price  lowest_price  highest_price  sellers_amount  \\\n",
       "Code                                                                        \n",
       "112         1095     22587.0       21778.0        25999.0              32   \n",
       "113         1161     20709.0       20095.0        21999.0              23   \n",
       "114         1055     19041.0       18500.0        20517.0              18   \n",
       "122          938     23999.0       23999.0        24000.0               2   \n",
       "123         1159     18200.0       17249.0        19999.0              29   \n",
       "...          ...         ...           ...            ...             ...   \n",
       "1215         803     22842.0       17832.0        27500.0              62   \n",
       "1217        1128     24184.0       18399.0        30600.0              37   \n",
       "1218         842     27190.0       21150.0        30200.0              47   \n",
       "1220         530     24600.0       21939.0        33720.0              28   \n",
       "1222         752     18755.0       18500.0        19010.0               2   \n",
       "\n",
       "      screen_size  memory_size  battery_size release_date  \n",
       "Code                                                       \n",
       "112          6.78        256.0        4510.0   2020-04-01  \n",
       "113          6.78        128.0        4510.0   2020-04-01  \n",
       "114          6.81        128.0        4500.0   2020-10-01  \n",
       "122          6.55        256.0        4500.0   2021-01-01  \n",
       "123          6.55        256.0        4500.0   2020-10-01  \n",
       "...           ...          ...           ...          ...  \n",
       "1215         5.80        512.0        2568.0   2018-09-01  \n",
       "1217         6.50        256.0        3174.0   2018-09-01  \n",
       "1218         6.50        512.0        3174.0   2018-09-01  \n",
       "1220         6.50         64.0        3174.0   2018-09-01  \n",
       "1222         6.65        128.0        4500.0   2020-10-01  \n",
       "\n",
       "[134 rows x 12 columns]"
      ]
     },
     "execution_count": 23,
     "metadata": {},
     "output_type": "execute_result"
    }
   ],
   "source": [
    "#lowest price\n",
    "\n",
    "phones[(phones['lowest_price']>lowest_price_upper)|(phones['lowest_price']<lowest_price_lower)]"
   ]
  },
  {
   "cell_type": "code",
   "execution_count": 24,
   "id": "8dc5dfc7",
   "metadata": {},
   "outputs": [
    {
     "data": {
      "text/html": [
       "<div>\n",
       "<style scoped>\n",
       "    .dataframe tbody tr th:only-of-type {\n",
       "        vertical-align: middle;\n",
       "    }\n",
       "\n",
       "    .dataframe tbody tr th {\n",
       "        vertical-align: top;\n",
       "    }\n",
       "\n",
       "    .dataframe thead th {\n",
       "        text-align: right;\n",
       "    }\n",
       "</style>\n",
       "<table border=\"1\" class=\"dataframe\">\n",
       "  <thead>\n",
       "    <tr style=\"text-align: right;\">\n",
       "      <th></th>\n",
       "      <th>brand_name</th>\n",
       "      <th>model_name</th>\n",
       "      <th>os</th>\n",
       "      <th>popularity</th>\n",
       "      <th>best_price</th>\n",
       "      <th>lowest_price</th>\n",
       "      <th>highest_price</th>\n",
       "      <th>sellers_amount</th>\n",
       "      <th>screen_size</th>\n",
       "      <th>memory_size</th>\n",
       "      <th>battery_size</th>\n",
       "      <th>release_date</th>\n",
       "    </tr>\n",
       "    <tr>\n",
       "      <th>Code</th>\n",
       "      <th></th>\n",
       "      <th></th>\n",
       "      <th></th>\n",
       "      <th></th>\n",
       "      <th></th>\n",
       "      <th></th>\n",
       "      <th></th>\n",
       "      <th></th>\n",
       "      <th></th>\n",
       "      <th></th>\n",
       "      <th></th>\n",
       "      <th></th>\n",
       "    </tr>\n",
       "  </thead>\n",
       "  <tbody>\n",
       "    <tr>\n",
       "      <th>112</th>\n",
       "      <td>OnePlus</td>\n",
       "      <td>8 Pro 12/256GB Glacial Green</td>\n",
       "      <td>Android</td>\n",
       "      <td>1095</td>\n",
       "      <td>22587.0</td>\n",
       "      <td>21778.0</td>\n",
       "      <td>25999.0</td>\n",
       "      <td>32</td>\n",
       "      <td>6.78</td>\n",
       "      <td>256.0</td>\n",
       "      <td>4510.0</td>\n",
       "      <td>2020-04-01</td>\n",
       "    </tr>\n",
       "    <tr>\n",
       "      <th>122</th>\n",
       "      <td>OnePlus</td>\n",
       "      <td>8T 12/256GB Cyberpunk 2077 Limited Edition</td>\n",
       "      <td>Android</td>\n",
       "      <td>938</td>\n",
       "      <td>23999.0</td>\n",
       "      <td>23999.0</td>\n",
       "      <td>24000.0</td>\n",
       "      <td>2</td>\n",
       "      <td>6.55</td>\n",
       "      <td>256.0</td>\n",
       "      <td>4500.0</td>\n",
       "      <td>2021-01-01</td>\n",
       "    </tr>\n",
       "    <tr>\n",
       "      <th>357</th>\n",
       "      <td>OPPO</td>\n",
       "      <td>Find X2 Pro 12/512GB Orange</td>\n",
       "      <td>Android</td>\n",
       "      <td>474</td>\n",
       "      <td>32530.0</td>\n",
       "      <td>31720.0</td>\n",
       "      <td>33999.0</td>\n",
       "      <td>4</td>\n",
       "      <td>6.70</td>\n",
       "      <td>512.0</td>\n",
       "      <td>4260.0</td>\n",
       "      <td>2021-01-01</td>\n",
       "    </tr>\n",
       "    <tr>\n",
       "      <th>432</th>\n",
       "      <td>Samsung</td>\n",
       "      <td>Galaxy Fold 12/256GB Black</td>\n",
       "      <td>Android</td>\n",
       "      <td>298</td>\n",
       "      <td>55338.0</td>\n",
       "      <td>45799.0</td>\n",
       "      <td>59999.0</td>\n",
       "      <td>4</td>\n",
       "      <td>7.30</td>\n",
       "      <td>256.0</td>\n",
       "      <td>4380.0</td>\n",
       "      <td>2019-11-01</td>\n",
       "    </tr>\n",
       "    <tr>\n",
       "      <th>433</th>\n",
       "      <td>Samsung</td>\n",
       "      <td>Galaxy Fold 12/512GB Black (SM-F900FZKD)</td>\n",
       "      <td>Android</td>\n",
       "      <td>819</td>\n",
       "      <td>41310.0</td>\n",
       "      <td>34100.0</td>\n",
       "      <td>56999.0</td>\n",
       "      <td>31</td>\n",
       "      <td>7.30</td>\n",
       "      <td>512.0</td>\n",
       "      <td>4380.0</td>\n",
       "      <td>2019-03-01</td>\n",
       "    </tr>\n",
       "    <tr>\n",
       "      <th>...</th>\n",
       "      <td>...</td>\n",
       "      <td>...</td>\n",
       "      <td>...</td>\n",
       "      <td>...</td>\n",
       "      <td>...</td>\n",
       "      <td>...</td>\n",
       "      <td>...</td>\n",
       "      <td>...</td>\n",
       "      <td>...</td>\n",
       "      <td>...</td>\n",
       "      <td>...</td>\n",
       "      <td>...</td>\n",
       "    </tr>\n",
       "    <tr>\n",
       "      <th>1216</th>\n",
       "      <td>Apple</td>\n",
       "      <td>iPhone XS 64GB Space Gray (MT9E2)</td>\n",
       "      <td>iOS</td>\n",
       "      <td>1187</td>\n",
       "      <td>19790.0</td>\n",
       "      <td>12505.0</td>\n",
       "      <td>23928.0</td>\n",
       "      <td>53</td>\n",
       "      <td>5.80</td>\n",
       "      <td>64.0</td>\n",
       "      <td>2568.0</td>\n",
       "      <td>2018-09-01</td>\n",
       "    </tr>\n",
       "    <tr>\n",
       "      <th>1217</th>\n",
       "      <td>Apple</td>\n",
       "      <td>iPhone XS Max 256GB Gold (MT552)</td>\n",
       "      <td>iOS</td>\n",
       "      <td>1128</td>\n",
       "      <td>24184.0</td>\n",
       "      <td>18399.0</td>\n",
       "      <td>30600.0</td>\n",
       "      <td>37</td>\n",
       "      <td>6.50</td>\n",
       "      <td>256.0</td>\n",
       "      <td>3174.0</td>\n",
       "      <td>2018-09-01</td>\n",
       "    </tr>\n",
       "    <tr>\n",
       "      <th>1218</th>\n",
       "      <td>Apple</td>\n",
       "      <td>iPhone XS Max 512GB Space Gray (MT622)</td>\n",
       "      <td>iOS</td>\n",
       "      <td>842</td>\n",
       "      <td>27190.0</td>\n",
       "      <td>21150.0</td>\n",
       "      <td>30200.0</td>\n",
       "      <td>47</td>\n",
       "      <td>6.50</td>\n",
       "      <td>512.0</td>\n",
       "      <td>3174.0</td>\n",
       "      <td>2018-09-01</td>\n",
       "    </tr>\n",
       "    <tr>\n",
       "      <th>1219</th>\n",
       "      <td>Apple</td>\n",
       "      <td>iPhone XS Max 64GB Gold (MT522)</td>\n",
       "      <td>iOS</td>\n",
       "      <td>1101</td>\n",
       "      <td>22685.0</td>\n",
       "      <td>16018.0</td>\n",
       "      <td>27900.0</td>\n",
       "      <td>61</td>\n",
       "      <td>6.50</td>\n",
       "      <td>64.0</td>\n",
       "      <td>3174.0</td>\n",
       "      <td>2018-09-01</td>\n",
       "    </tr>\n",
       "    <tr>\n",
       "      <th>1220</th>\n",
       "      <td>Apple</td>\n",
       "      <td>iPhone XS Max Dual Sim 64GB Gold (MT732)</td>\n",
       "      <td>iOS</td>\n",
       "      <td>530</td>\n",
       "      <td>24600.0</td>\n",
       "      <td>21939.0</td>\n",
       "      <td>33720.0</td>\n",
       "      <td>28</td>\n",
       "      <td>6.50</td>\n",
       "      <td>64.0</td>\n",
       "      <td>3174.0</td>\n",
       "      <td>2018-09-01</td>\n",
       "    </tr>\n",
       "  </tbody>\n",
       "</table>\n",
       "<p>127 rows × 12 columns</p>\n",
       "</div>"
      ],
      "text/plain": [
       "     brand_name                                  model_name       os  \\\n",
       "Code                                                                   \n",
       "112     OnePlus                8 Pro 12/256GB Glacial Green  Android   \n",
       "122     OnePlus  8T 12/256GB Cyberpunk 2077 Limited Edition  Android   \n",
       "357        OPPO                 Find X2 Pro 12/512GB Orange  Android   \n",
       "432     Samsung                  Galaxy Fold 12/256GB Black  Android   \n",
       "433     Samsung    Galaxy Fold 12/512GB Black (SM-F900FZKD)  Android   \n",
       "...         ...                                         ...      ...   \n",
       "1216      Apple           iPhone XS 64GB Space Gray (MT9E2)      iOS   \n",
       "1217      Apple            iPhone XS Max 256GB Gold (MT552)      iOS   \n",
       "1218      Apple      iPhone XS Max 512GB Space Gray (MT622)      iOS   \n",
       "1219      Apple             iPhone XS Max 64GB Gold (MT522)      iOS   \n",
       "1220      Apple    iPhone XS Max Dual Sim 64GB Gold (MT732)      iOS   \n",
       "\n",
       "      popularity  best_price  lowest_price  highest_price  sellers_amount  \\\n",
       "Code                                                                        \n",
       "112         1095     22587.0       21778.0        25999.0              32   \n",
       "122          938     23999.0       23999.0        24000.0               2   \n",
       "357          474     32530.0       31720.0        33999.0               4   \n",
       "432          298     55338.0       45799.0        59999.0               4   \n",
       "433          819     41310.0       34100.0        56999.0              31   \n",
       "...          ...         ...           ...            ...             ...   \n",
       "1216        1187     19790.0       12505.0        23928.0              53   \n",
       "1217        1128     24184.0       18399.0        30600.0              37   \n",
       "1218         842     27190.0       21150.0        30200.0              47   \n",
       "1219        1101     22685.0       16018.0        27900.0              61   \n",
       "1220         530     24600.0       21939.0        33720.0              28   \n",
       "\n",
       "      screen_size  memory_size  battery_size release_date  \n",
       "Code                                                       \n",
       "112          6.78        256.0        4510.0   2020-04-01  \n",
       "122          6.55        256.0        4500.0   2021-01-01  \n",
       "357          6.70        512.0        4260.0   2021-01-01  \n",
       "432          7.30        256.0        4380.0   2019-11-01  \n",
       "433          7.30        512.0        4380.0   2019-03-01  \n",
       "...           ...          ...           ...          ...  \n",
       "1216         5.80         64.0        2568.0   2018-09-01  \n",
       "1217         6.50        256.0        3174.0   2018-09-01  \n",
       "1218         6.50        512.0        3174.0   2018-09-01  \n",
       "1219         6.50         64.0        3174.0   2018-09-01  \n",
       "1220         6.50         64.0        3174.0   2018-09-01  \n",
       "\n",
       "[127 rows x 12 columns]"
      ]
     },
     "execution_count": 24,
     "metadata": {},
     "output_type": "execute_result"
    }
   ],
   "source": [
    "#best price\n",
    "\n",
    "phones[(phones['highest_price']>highest_price_upper)|(phones['highest_price']<highest_price_lower)]"
   ]
  },
  {
   "cell_type": "markdown",
   "id": "6bdab070",
   "metadata": {},
   "source": [
    "**It seems that outliers represents a large portion of the data, and at the same time doesn't seem to be due to data collection errors. \n",
    "Hence, we won't be removing them.**"
   ]
  },
  {
   "cell_type": "code",
   "execution_count": 25,
   "id": "71782b61",
   "metadata": {},
   "outputs": [
    {
     "name": "stdout",
     "output_type": "stream",
     "text": [
      "<class 'pandas.core.frame.DataFrame'>\n",
      "Int64Index: 1016 entries, 0 to 1222\n",
      "Data columns (total 12 columns):\n",
      " #   Column          Non-Null Count  Dtype         \n",
      "---  ------          --------------  -----         \n",
      " 0   brand_name      1016 non-null   object        \n",
      " 1   model_name      1016 non-null   object        \n",
      " 2   os              1016 non-null   object        \n",
      " 3   popularity      1016 non-null   int64         \n",
      " 4   best_price      1016 non-null   float64       \n",
      " 5   lowest_price    1016 non-null   float64       \n",
      " 6   highest_price   1016 non-null   float64       \n",
      " 7   sellers_amount  1016 non-null   int64         \n",
      " 8   screen_size     1016 non-null   float64       \n",
      " 9   memory_size     1016 non-null   float64       \n",
      " 10  battery_size    1016 non-null   float64       \n",
      " 11  release_date    1016 non-null   datetime64[ns]\n",
      "dtypes: datetime64[ns](1), float64(6), int64(2), object(3)\n",
      "memory usage: 103.2+ KB\n"
     ]
    }
   ],
   "source": [
    "phones.info()"
   ]
  },
  {
   "cell_type": "markdown",
   "id": "b6381d76",
   "metadata": {},
   "source": [
    "*=> The data seems to be just fine and ready for analysis*"
   ]
  },
  {
   "cell_type": "markdown",
   "id": "90c29739",
   "metadata": {},
   "source": [
    "## First : Analysis according to: 'Best Price'"
   ]
  },
  {
   "cell_type": "code",
   "execution_count": 26,
   "id": "ea4184c3",
   "metadata": {},
   "outputs": [
    {
     "data": {
      "text/plain": [
       "Text(0.5, 1.0, 'Brand Name Best Price')"
      ]
     },
     "execution_count": 26,
     "metadata": {},
     "output_type": "execute_result"
    },
    {
     "data": {
      "image/png": "[encoded data removed]",
      "text/plain": [
       "<Figure size 720x360 with 1 Axes>"
      ]
     },
     "metadata": {},
     "output_type": "display_data"
    }
   ],
   "source": [
    "#brand name best price\n",
    "\n",
    "phones[['brand_name','best_price']].groupby('brand_name').sum().sort_values('best_price').tail(10).plot(kind='barh',figsize=(10,5))\n",
    "plt.title('Brand Name Best Price')"
   ]
  },
  {
   "cell_type": "markdown",
   "id": "e1ae0abb",
   "metadata": {},
   "source": [
    "**Top 5 Brands according to best price:**\n",
    "    \n",
    "    1-Samsung\n",
    "    2-Apple\n",
    "    3-Xiaomi\n",
    "    4-HUAWEI\n",
    "    5-Motorola"
   ]
  },
  {
   "cell_type": "code",
   "execution_count": 27,
   "id": "e64807f3",
   "metadata": {},
   "outputs": [
    {
     "data": {
      "text/plain": [
       "Text(0.5, 1.0, 'OS Best Price')"
      ]
     },
     "execution_count": 27,
     "metadata": {},
     "output_type": "execute_result"
    },
    {
     "data": {
      "image/png": "[encoded data removed]",
      "text/plain": [
       "<Figure size 720x360 with 1 Axes>"
      ]
     },
     "metadata": {},
     "output_type": "display_data"
    }
   ],
   "source": [
    "#os best price\n",
    "\n",
    "phones[['os','best_price']].groupby('os').sum().sort_values('best_price').tail(10).plot(kind='barh',figsize=(10,5))\n",
    "plt.title('OS Best Price')"
   ]
  },
  {
   "cell_type": "markdown",
   "id": "18fc5606",
   "metadata": {},
   "source": [
    "*=> Android, by far, is the best os price followed by iOS*"
   ]
  },
  {
   "cell_type": "markdown",
   "id": "da077880",
   "metadata": {},
   "source": [
    "## Secondly : Analysis according to: 'Sellers Amount'\n"
   ]
  },
  {
   "cell_type": "code",
   "execution_count": 28,
   "id": "34c6d8ce",
   "metadata": {},
   "outputs": [
    {
     "data": {
      "text/plain": [
       "Text(0.5, 0, 'sellers amount')"
      ]
     },
     "execution_count": 28,
     "metadata": {},
     "output_type": "execute_result"
    },
    {
     "data": {
      "image/png": "[encoded data removed]",
      "text/plain": [
       "<Figure size 720x360 with 1 Axes>"
      ]
     },
     "metadata": {},
     "output_type": "display_data"
    }
   ],
   "source": [
    "#sellers amount by brand name\n",
    "\n",
    "phones[['brand_name','sellers_amount']].groupby('brand_name').sum().sort_values('sellers_amount').tail(10).plot(kind='barh',figsize=(10,5))\n",
    "plt.title('Brand Name sellers amount')\n",
    "plt.xlabel('sellers amount')"
   ]
  },
  {
   "cell_type": "markdown",
   "id": "e0263727",
   "metadata": {},
   "source": [
    "**Top 5 Brands according to sellers amount:**\n",
    "\n",
    "      1-Apple\n",
    "      2-Samsung\n",
    "      3-Xiaomi\n",
    "      4-Blackview\n",
    "      5-ZTE"
   ]
  },
  {
   "cell_type": "code",
   "execution_count": 29,
   "id": "744dcbf0",
   "metadata": {},
   "outputs": [
    {
     "data": {
      "text/plain": [
       "Text(0.5, 0, 'sellers amount')"
      ]
     },
     "execution_count": 29,
     "metadata": {},
     "output_type": "execute_result"
    },
    {
     "data": {
      "image/png": "[encoded data removed]",
      "text/plain": [
       "<Figure size 720x360 with 1 Axes>"
      ]
     },
     "metadata": {},
     "output_type": "display_data"
    }
   ],
   "source": [
    "#sellers amount by os\n",
    "\n",
    "phones[['os','sellers_amount']].groupby('os').sum().sort_values('sellers_amount').tail(10).plot(kind='barh',figsize=(10,5))\n",
    "plt.title('OS sellers amount')\n",
    "plt.xlabel('sellers amount')"
   ]
  },
  {
   "cell_type": "markdown",
   "id": "ff396ced",
   "metadata": {},
   "source": [
    "*=> Android is the best os selling followed by iOS*"
   ]
  },
  {
   "cell_type": "markdown",
   "id": "6ba48c57",
   "metadata": {},
   "source": [
    "## Thirdly : Analysis according to: 'Popularity'"
   ]
  },
  {
   "cell_type": "code",
   "execution_count": 30,
   "id": "7f2a48ad",
   "metadata": {},
   "outputs": [
    {
     "data": {
      "text/plain": [
       "Text(0.5, 0, 'Popularity')"
      ]
     },
     "execution_count": 30,
     "metadata": {},
     "output_type": "execute_result"
    },
    {
     "data": {
      "image/png": "[encoded data removed]",
      "text/plain": [
       "<Figure size 720x360 with 1 Axes>"
      ]
     },
     "metadata": {},
     "output_type": "display_data"
    }
   ],
   "source": [
    "#OS Popularity\n",
    "\n",
    "phones[['os','popularity']].groupby('os').sum().sort_values('popularity').tail(10).plot(kind='barh',figsize=(10,5))\n",
    "plt.title('OS popularity')\n",
    "plt.xlabel('Popularity')"
   ]
  },
  {
   "cell_type": "markdown",
   "id": "52876928",
   "metadata": {},
   "source": [
    "*=> Android is the most popular OS followed by iOS*"
   ]
  },
  {
   "cell_type": "code",
   "execution_count": 31,
   "id": "8f34edc0",
   "metadata": {},
   "outputs": [
    {
     "data": {
      "text/plain": [
       "Text(0.5, 0, 'Popularity')"
      ]
     },
     "execution_count": 31,
     "metadata": {},
     "output_type": "execute_result"
    },
    {
     "data": {
      "image/png": "[encoded data removed]",
      "text/plain": [
       "<Figure size 720x360 with 1 Axes>"
      ]
     },
     "metadata": {},
     "output_type": "display_data"
    }
   ],
   "source": [
    "#Brand Name Popularity\n",
    "\n",
    "phones[['brand_name','popularity']].groupby('brand_name').sum().sort_values('popularity').tail(10).plot(kind='barh',figsize=(10,5))\n",
    "plt.title('Brand Name popularity')\n",
    "plt.xlabel('Popularity')"
   ]
  },
  {
   "cell_type": "markdown",
   "id": "b57422ed",
   "metadata": {},
   "source": [
    "**Top 5 popular brands are:**\n",
    "    \n",
    "    1-Samsung\n",
    "    2-Xiaomi\n",
    "    3-Apple\n",
    "    4-Motorola\n",
    "    5-HUAWEI"
   ]
  },
  {
   "cell_type": "code",
   "execution_count": 32,
   "id": "ab70ca08",
   "metadata": {
    "scrolled": true
   },
   "outputs": [
    {
     "data": {
      "text/plain": [
       "Text(0.5, 1.0, 'Lowest Price Over the Years')"
      ]
     },
     "execution_count": 32,
     "metadata": {},
     "output_type": "execute_result"
    },
    {
     "data": {
      "image/png": "[encoded data removed]",
      "text/plain": [
       "<Figure size 1080x360 with 1 Axes>"
      ]
     },
     "metadata": {},
     "output_type": "display_data"
    }
   ],
   "source": [
    "#Evaluating Lowest Price Over the years\n",
    "\n",
    "phones[['release_date','lowest_price']].groupby('release_date').sum().plot(kind='line',figsize=(15,5))\n",
    "plt.title('Lowest Price Over the Years')\n"
   ]
  },
  {
   "cell_type": "markdown",
   "id": "8231a691",
   "metadata": {},
   "source": [
    "*=> The most lowest price was in the period in between 2020 and 2021*"
   ]
  },
  {
   "cell_type": "code",
   "execution_count": 33,
   "id": "559d2671",
   "metadata": {},
   "outputs": [
    {
     "data": {
      "text/plain": [
       "Text(0.5, 1.0, 'Highest Price Over the Years')"
      ]
     },
     "execution_count": 33,
     "metadata": {},
     "output_type": "execute_result"
    },
    {
     "data": {
      "image/png": "[encoded data removed]",
      "text/plain": [
       "<Figure size 1080x360 with 1 Axes>"
      ]
     },
     "metadata": {},
     "output_type": "display_data"
    }
   ],
   "source": [
    "#Evaluating Highest Price Over the years\n",
    "\n",
    "phones[['release_date','highest_price']].groupby('release_date').sum().plot(kind='line',figsize=(15,5))\n",
    "plt.title('Highest Price Over the Years')\n"
   ]
  },
  {
   "cell_type": "markdown",
   "id": "da91ae50",
   "metadata": {},
   "source": [
    "*=> Also, the most highest price was in the period in between 2020 and 2021*"
   ]
  },
  {
   "cell_type": "markdown",
   "id": "24c76954",
   "metadata": {},
   "source": [
    "# Lastly, let's establish correlations"
   ]
  },
  {
   "cell_type": "code",
   "execution_count": 34,
   "id": "432791e5",
   "metadata": {},
   "outputs": [
    {
     "data": {
      "text/plain": [
       "(0.5451624944686501, 1.0099725405833052e-79)"
      ]
     },
     "execution_count": 34,
     "metadata": {},
     "output_type": "execute_result"
    }
   ],
   "source": [
    "#Evaluating pearson coef and p-value\n",
    "\n",
    "pearson_coef, p_value=stats.pearsonr(phones['sellers_amount'],phones['popularity'])\n",
    "pearson_coef, p_value"
   ]
  },
  {
   "cell_type": "markdown",
   "id": "09882be4",
   "metadata": {},
   "source": [
    "*There is a moderate positive correlation between sellers amount and popularity. However, this correlation is not statistically significant and could be due to chance*"
   ]
  },
  {
   "cell_type": "code",
   "execution_count": 35,
   "id": "d94d5062",
   "metadata": {},
   "outputs": [
    {
     "data": {
      "text/plain": [
       "Text(0.5, 1.0, 'Popularity VS Sellers_Amount')"
      ]
     },
     "execution_count": 35,
     "metadata": {},
     "output_type": "execute_result"
    },
    {
     "data": {
      "image/png": "[encoded data removed]",
      "text/plain": [
       "<Figure size 720x432 with 1 Axes>"
      ]
     },
     "metadata": {},
     "output_type": "display_data"
    }
   ],
   "source": [
    "#visualizing popularity and sellers amount\n",
    "\n",
    "plt.figure(figsize=(10,6))\n",
    "sns.regplot(x='popularity',y='sellers_amount', data=phones, color='green')\n",
    "plt.title('Popularity VS Sellers_Amount')"
   ]
  },
  {
   "cell_type": "code",
   "execution_count": 36,
   "id": "e2216b77",
   "metadata": {},
   "outputs": [
    {
     "data": {
      "text/plain": [
       "(0.3731102518501163, 6.560507021777776e-35)"
      ]
     },
     "execution_count": 36,
     "metadata": {},
     "output_type": "execute_result"
    }
   ],
   "source": [
    "#evaluating pearson coefficient and p-value\n",
    "\n",
    "pearson_coef, p_value =stats.pearsonr(phones['screen_size'],phones['best_price'])\n",
    "pearson_coef, p_value"
   ]
  },
  {
   "cell_type": "markdown",
   "id": "8b203570",
   "metadata": {},
   "source": [
    "*There's a weak positive correlation between screen size and best price. However, the results also show that this could be due to chance*"
   ]
  },
  {
   "cell_type": "code",
   "execution_count": 37,
   "id": "548dd18f",
   "metadata": {},
   "outputs": [
    {
     "data": {
      "text/plain": [
       "Text(0.5, 1.0, 'Screen Size Vs Best Price')"
      ]
     },
     "execution_count": 37,
     "metadata": {},
     "output_type": "execute_result"
    },
    {
     "data": {
      "image/png": "[encoded data removed]",
      "text/plain": [
       "<Figure size 720x432 with 1 Axes>"
      ]
     },
     "metadata": {},
     "output_type": "display_data"
    }
   ],
   "source": [
    "#visualizing screen size and best price correlation\n",
    "\n",
    "plt.figure(figsize=(10,6))\n",
    "sns.regplot(x='screen_size',y='best_price',data=phones)\n",
    "plt.title('Screen Size Vs Best Price')"
   ]
  },
  {
   "cell_type": "code",
   "execution_count": 38,
   "id": "434beaff",
   "metadata": {},
   "outputs": [
    {
     "data": {
      "text/plain": [
       "(0.29676055999756407, 4.2008408788918076e-22)"
      ]
     },
     "execution_count": 38,
     "metadata": {},
     "output_type": "execute_result"
    }
   ],
   "source": [
    "#evaluating pearson coefficient and p-value\n",
    "\n",
    "pearson_coef, p_value=stats.pearsonr(phones['popularity'],phones['best_price'])\n",
    "pearson_coef, p_value"
   ]
  },
  {
   "cell_type": "code",
   "execution_count": 39,
   "id": "225ca00e",
   "metadata": {},
   "outputs": [
    {
     "data": {
      "text/plain": [
       "Text(0.5, 1.0, 'Popularity Vs Best Price')"
      ]
     },
     "execution_count": 39,
     "metadata": {},
     "output_type": "execute_result"
    },
    {
     "data": {
      "image/png": "[encoded data removed]",
      "text/plain": [
       "<Figure size 720x432 with 1 Axes>"
      ]
     },
     "metadata": {},
     "output_type": "display_data"
    }
   ],
   "source": [
    "#visualization\n",
    "\n",
    "plt.figure(figsize=(10,6))\n",
    "sns.regplot(x='popularity',y='best_price',data=phones)\n",
    "plt.title('Popularity Vs Best Price')"
   ]
  },
  {
   "cell_type": "markdown",
   "id": "c57cb3d3",
   "metadata": {},
   "source": [
    "**so we could say that popularity is a very weak indicator for price.**\n",
    "\n",
    "*i.e. Weak correlation exists, which is statistically significant and not due to chance*"
   ]
  },
  {
   "cell_type": "code",
   "execution_count": 40,
   "id": "f247ab28",
   "metadata": {},
   "outputs": [
    {
     "data": {
      "text/plain": [
       "(-0.016139763374280882, 0.6073560455694378)"
      ]
     },
     "execution_count": 40,
     "metadata": {},
     "output_type": "execute_result"
    }
   ],
   "source": [
    "#evaluating pearson coefficient and p-value\n",
    "\n",
    "pearson_coef, p_value=stats.pearsonr(phones['battery_size'],phones['best_price'])\n",
    "pearson_coef, p_value"
   ]
  },
  {
   "cell_type": "markdown",
   "id": "8a0e94cf",
   "metadata": {},
   "source": [
    "*So, it's clear that there is a weak correlation btween battery size and price. This correlation is statistically significant and not due to chance*"
   ]
  },
  {
   "cell_type": "markdown",
   "id": "43e6d41a",
   "metadata": {},
   "source": [
    "# Data Findings\n",
    "\n",
    "=> Top 5 Brands according to best price:\n",
    "\n",
    "    1-Samsung\n",
    "    2-Apple\n",
    "    3-Xiaomi\n",
    "    4-HUAWEI\n",
    "    5-Motorola\n",
    "\n",
    "=> Android is the best os price followed by iOS\n",
    "\n",
    "=> Top 5 Brands according to sellers amount:\n",
    "\n",
    "      1-Apple\n",
    "      2-Samsung\n",
    "      3-Xiaomi\n",
    "      4-Blackview\n",
    "      5-ZTE\n",
    "    \n",
    "=> Android is the best os selling followed by iOS\n",
    "\n",
    "=> Android is the most popular OS followed by iOS\n",
    "\n",
    "=> Top 5 popular brands are:\n",
    "    \n",
    "    1-Samsung\n",
    "    2-Xiaomi\n",
    "    3-Apple\n",
    "    4-Motorola\n",
    "    5-HUAWEI\n",
    "    \n",
    "=> The most lowest price was in the period in between 2020 and 2021\n",
    "\n",
    "=> Also, the most highest price was in the period in between 2020 and 2021\n",
    "\n",
    "=> There is a moderate positive correlation between sellers amount and popularity. However, this correlation is not statistically    significant and could be due to chance\n",
    "\n",
    "=> There's a weak positive correlation between screen size and best price. However, the results also show that this could be   \n",
    "   due to chance\n",
    "   \n",
    "=> so we could say that popularity is a very weak indicator for price.\n",
    "\n",
    "   i.e. Weak correlation exists, which is statistically significant and not due to chance\n",
    "\n",
    "=> There is a weak correlation btween battery size and price. This correlation is statistically significant and not due  \n",
    "    to chance\n"
   ]
  },
  {
   "cell_type": "code",
   "execution_count": 41,
   "id": "60f89f4f",
   "metadata": {},
   "outputs": [],
   "source": [
    "phones.to_csv('phones_project.csv')"
   ]
  },
  {
   "cell_type": "code",
   "execution_count": null,
   "id": "dfd10152",
   "metadata": {},
   "outputs": [],
   "source": []
  }
 ],
 "metadata": {
  "kernelspec": {
   "display_name": "Python 3 (ipykernel)",
   "language": "python",
   "name": "python3"
  },
  "language_info": {
   "codemirror_mode": {
    "name": "ipython",
    "version": 3
   },
   "file_extension": ".py",
   "mimetype": "text/x-python",
   "name": "python",
   "nbconvert_exporter": "python",
   "pygments_lexer": "ipython3",
   "version": "3.9.7"
  }
 },
 "nbformat": 4,
 "nbformat_minor": 5
}
